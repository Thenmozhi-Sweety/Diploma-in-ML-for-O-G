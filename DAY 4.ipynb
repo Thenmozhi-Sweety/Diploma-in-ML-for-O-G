{
 "cells": [
  {
   "cell_type": "code",
   "execution_count": null,
   "id": "344cd425",
   "metadata": {},
   "outputs": [],
   "source": []
  },
  {
   "cell_type": "raw",
   "id": "0e5c1467",
   "metadata": {},
   "source": [
    "a = [23,45,35,66,64,75,23\n",
    "    ]"
   ]
  },
  {
   "cell_type": "code",
   "execution_count": 2,
   "id": "9530db27",
   "metadata": {},
   "outputs": [
    {
     "data": {
      "text/plain": [
       "[23, 45, 35, 66, 64, 75, 23]"
      ]
     },
     "execution_count": 2,
     "metadata": {},
     "output_type": "execute_result"
    }
   ],
   "source": [
    "a"
   ]
  },
  {
   "cell_type": "code",
   "execution_count": 6,
   "id": "0629b342",
   "metadata": {},
   "outputs": [
    {
     "data": {
      "text/plain": [
       "array([ 69, 135, 105, 198, 192, 225,  69])"
      ]
     },
     "execution_count": 6,
     "metadata": {},
     "output_type": "execute_result"
    }
   ],
   "source": [
    "import numpy as np\n",
    "np.array(a)*3\n"
   ]
  },
  {
   "cell_type": "code",
   "execution_count": null,
   "id": "720b12d8",
   "metadata": {},
   "outputs": [],
   "source": [
    "perm = [34,45,56,45,34,23]"
   ]
  },
  {
   "cell_type": "code",
   "execution_count": 35,
   "id": "f4c2b959",
   "metadata": {},
   "outputs": [],
   "source": [
    "l = [12,34,45,78,0.8,0.12,0.5651,'Permeability','porosity',['second_list',4334,2323,['fgfd']],perm]"
   ]
  },
  {
   "cell_type": "code",
   "execution_count": 24,
   "id": "d07ca48e",
   "metadata": {},
   "outputs": [
    {
     "data": {
      "text/plain": [
       "[12,\n",
       " 34,\n",
       " 45,\n",
       " 78,\n",
       " 0.8,\n",
       " 0.12,\n",
       " 0.5651,\n",
       " 'Permeability',\n",
       " 'porosity',\n",
       " ['second_list', 4334, 2323, ['fgfd']],\n",
       " [34, 45, 56, 45, 34, 23]]"
      ]
     },
     "execution_count": 24,
     "metadata": {},
     "output_type": "execute_result"
    }
   ],
   "source": [
    "l"
   ]
  },
  {
   "cell_type": "code",
   "execution_count": null,
   "id": "21febf3e",
   "metadata": {},
   "outputs": [],
   "source": [
    "perm = [34,45,56,45,34,23]"
   ]
  },
  {
   "cell_type": "code",
   "execution_count": 25,
   "id": "d6e7336d",
   "metadata": {},
   "outputs": [],
   "source": [
    "li = [12,34,45,78,0.8,0.12,0.5651,'Permeability','porosity',['second_list',4334,2323,['fgfd']],perm]"
   ]
  },
  {
   "cell_type": "code",
   "execution_count": 11,
   "id": "d24e77a0",
   "metadata": {},
   "outputs": [],
   "source": [
    "perm =[45,31,45,67,12,8,241,43]"
   ]
  },
  {
   "cell_type": "code",
   "execution_count": 14,
   "id": "9f5a6b1b",
   "metadata": {},
   "outputs": [],
   "source": [
    "list = ['then',\"free\",'you','kite',[67,'saturation','density'],prem]"
   ]
  },
  {
   "cell_type": "code",
   "execution_count": 30,
   "id": "3cc0d149",
   "metadata": {},
   "outputs": [
    {
     "data": {
      "text/plain": [
       "['then', 'free', 'you', 'kite', [67, 'saturation', 'density'], 'prem']"
      ]
     },
     "execution_count": 30,
     "metadata": {},
     "output_type": "execute_result"
    }
   ],
   "source": [
    "list"
   ]
  },
  {
   "cell_type": "code",
   "execution_count": 28,
   "id": "a5c7ccc8",
   "metadata": {},
   "outputs": [
    {
     "data": {
      "text/plain": [
       "['then', 'free', 'you', 'kite', [67, 'saturation', 'density'], 'prem']"
      ]
     },
     "execution_count": 28,
     "metadata": {},
     "output_type": "execute_result"
    }
   ],
   "source": [
    "list"
   ]
  },
  {
   "cell_type": "code",
   "execution_count": 29,
   "id": "cdc476e9",
   "metadata": {},
   "outputs": [],
   "source": [
    "perm = [34,45,56,45,34,23]\n",
    "l = [12,34,45,78,0.8,0.12,0.5651,'Permeability','porosity',['second_list',4334,2323,['fgfd']],perm]\n"
   ]
  },
  {
   "cell_type": "code",
   "execution_count": 17,
   "id": "a1aa0157",
   "metadata": {},
   "outputs": [
    {
     "data": {
      "text/plain": [
       "[12,\n",
       " 34,\n",
       " 45,\n",
       " 78,\n",
       " 0.8,\n",
       " 0.12,\n",
       " 0.5651,\n",
       " 'Permeability',\n",
       " 'porosity',\n",
       " ['second_list', 4334, 2323, ['fgfd']],\n",
       " [34, 45, 56, 45, 34, 23]]"
      ]
     },
     "execution_count": 17,
     "metadata": {},
     "output_type": "execute_result"
    }
   ],
   "source": [
    "l"
   ]
  },
  {
   "cell_type": "code",
   "execution_count": 18,
   "id": "3da55044",
   "metadata": {},
   "outputs": [],
   "source": [
    "perm = [34,45,56,45,34,23]"
   ]
  },
  {
   "cell_type": "code",
   "execution_count": null,
   "id": "55b09c6a",
   "metadata": {},
   "outputs": [],
   "source": [
    "l = [12,34,45,78,0.8,0.12,0.5651,'Permeability','porosity',['second_list',4334,2323,['fgfd']],perm]\n"
   ]
  },
  {
   "cell_type": "code",
   "execution_count": 19,
   "id": "02908c5a",
   "metadata": {},
   "outputs": [
    {
     "data": {
      "text/plain": [
       "[12,\n",
       " 34,\n",
       " 45,\n",
       " 78,\n",
       " 0.8,\n",
       " 0.12,\n",
       " 0.5651,\n",
       " 'Permeability',\n",
       " 'porosity',\n",
       " ['second_list', 4334, 2323, ['fgfd']],\n",
       " [34, 45, 56, 45, 34, 23]]"
      ]
     },
     "execution_count": 19,
     "metadata": {},
     "output_type": "execute_result"
    }
   ],
   "source": [
    "l"
   ]
  },
  {
   "cell_type": "code",
   "execution_count": 20,
   "id": "630def26",
   "metadata": {},
   "outputs": [],
   "source": [
    "perm = [34,45,56,45,34,23]"
   ]
  },
  {
   "cell_type": "code",
   "execution_count": 21,
   "id": "1b3e0331",
   "metadata": {},
   "outputs": [],
   "source": [
    "l = [12,34,45,78,0.8,0.12,0.5651,'Permeability','porosity',['second_list',4334,2323,['fgfd']],perm]\n"
   ]
  },
  {
   "cell_type": "code",
   "execution_count": 22,
   "id": "7bf73d3b",
   "metadata": {},
   "outputs": [
    {
     "data": {
      "text/plain": [
       "[12,\n",
       " 34,\n",
       " 45,\n",
       " 78,\n",
       " 0.8,\n",
       " 0.12,\n",
       " 0.5651,\n",
       " 'Permeability',\n",
       " 'porosity',\n",
       " ['second_list', 4334, 2323, ['fgfd']],\n",
       " [34, 45, 56, 45, 34, 23]]"
      ]
     },
     "execution_count": 22,
     "metadata": {},
     "output_type": "execute_result"
    }
   ],
   "source": [
    "l"
   ]
  },
  {
   "cell_type": "code",
   "execution_count": 31,
   "id": "49a38406",
   "metadata": {},
   "outputs": [],
   "source": [
    "perm =[45,31,45,67,12,8,241,43]"
   ]
  },
  {
   "cell_type": "code",
   "execution_count": 36,
   "id": "8ffaf520",
   "metadata": {},
   "outputs": [],
   "source": [
    "list = ['then',\"free\",'you','kite',[67,'saturation','density'],perm]"
   ]
  },
  {
   "cell_type": "code",
   "execution_count": 76,
   "id": "8e09510e",
   "metadata": {},
   "outputs": [
    {
     "data": {
      "text/plain": [
       "['then',\n",
       " 'free',\n",
       " 'you',\n",
       " 'kite',\n",
       " [67, 'saturation', 'density'],\n",
       " [45, 31, 45, 67, 12, 8, 241, 43]]"
      ]
     },
     "execution_count": 76,
     "metadata": {},
     "output_type": "execute_result"
    }
   ],
   "source": [
    "list"
   ]
  },
  {
   "cell_type": "code",
   "execution_count": 38,
   "id": "71e8fdb2",
   "metadata": {},
   "outputs": [],
   "source": [
    "perm = [34,45,56,45,34,23]"
   ]
  },
  {
   "cell_type": "code",
   "execution_count": 39,
   "id": "c5e8a684",
   "metadata": {},
   "outputs": [],
   "source": [
    "l = [12,34,45,78,0.8,0.12,0.5651,'Permeability','porosity',['second_list',4334,2323,['fgfd']],perm]"
   ]
  },
  {
   "cell_type": "code",
   "execution_count": 40,
   "id": "536a19ab",
   "metadata": {},
   "outputs": [
    {
     "data": {
      "text/plain": [
       "[12,\n",
       " 34,\n",
       " 45,\n",
       " 78,\n",
       " 0.8,\n",
       " 0.12,\n",
       " 0.5651,\n",
       " 'Permeability',\n",
       " 'porosity',\n",
       " ['second_list', 4334, 2323, ['fgfd']],\n",
       " [34, 45, 56, 45, 34, 23]]"
      ]
     },
     "execution_count": 40,
     "metadata": {},
     "output_type": "execute_result"
    }
   ],
   "source": [
    "l"
   ]
  },
  {
   "cell_type": "code",
   "execution_count": 41,
   "id": "c8385e21",
   "metadata": {},
   "outputs": [
    {
     "data": {
      "text/plain": [
       "[[34, 45, 56, 45, 34, 23]]"
      ]
     },
     "execution_count": 41,
     "metadata": {},
     "output_type": "execute_result"
    }
   ],
   "source": [
    "l[-1:-3:-3]"
   ]
  },
  {
   "cell_type": "code",
   "execution_count": 42,
   "id": "2d0ef82b",
   "metadata": {},
   "outputs": [
    {
     "data": {
      "text/plain": [
       "[45, 45]"
      ]
     },
     "execution_count": 42,
     "metadata": {},
     "output_type": "execute_result"
    }
   ],
   "source": [
    "l[-1][1:4:2]"
   ]
  },
  {
   "cell_type": "code",
   "execution_count": 44,
   "id": "0191358f",
   "metadata": {},
   "outputs": [
    {
     "data": {
      "text/plain": [
       "[45, 45]"
      ]
     },
     "execution_count": 44,
     "metadata": {},
     "output_type": "execute_result"
    }
   ],
   "source": [
    "l[-1][-3::-2]"
   ]
  },
  {
   "cell_type": "markdown",
   "id": "0f35659f",
   "metadata": {},
   "source": [
    "# append: adds value at the end of list\n",
    "# empty lists are used to populate it in later stage?"
   ]
  },
  {
   "cell_type": "code",
   "execution_count": 45,
   "id": "0e7ca701",
   "metadata": {},
   "outputs": [],
   "source": [
    "crude_density = []"
   ]
  },
  {
   "cell_type": "code",
   "execution_count": 46,
   "id": "c92f29ae",
   "metadata": {},
   "outputs": [],
   "source": [
    "crude_density.append(43)"
   ]
  },
  {
   "cell_type": "code",
   "execution_count": 47,
   "id": "ceafffc8",
   "metadata": {},
   "outputs": [
    {
     "data": {
      "text/plain": [
       "[43]"
      ]
     },
     "execution_count": 47,
     "metadata": {},
     "output_type": "execute_result"
    }
   ],
   "source": [
    "crude_density"
   ]
  },
  {
   "cell_type": "code",
   "execution_count": 48,
   "id": "562de485",
   "metadata": {},
   "outputs": [],
   "source": [
    "crude_density.extend([54,43])"
   ]
  },
  {
   "cell_type": "code",
   "execution_count": 49,
   "id": "d8b918e5",
   "metadata": {},
   "outputs": [
    {
     "data": {
      "text/plain": [
       "[43, 54, 43]"
      ]
     },
     "execution_count": 49,
     "metadata": {},
     "output_type": "execute_result"
    }
   ],
   "source": [
    "crude_density"
   ]
  },
  {
   "cell_type": "code",
   "execution_count": 50,
   "id": "2699c7b0",
   "metadata": {},
   "outputs": [],
   "source": [
    "crude_density.append([54,43])"
   ]
  },
  {
   "cell_type": "code",
   "execution_count": 51,
   "id": "4dc7cff1",
   "metadata": {},
   "outputs": [
    {
     "data": {
      "text/plain": [
       "[43, 54, 43, [54, 43]]"
      ]
     },
     "execution_count": 51,
     "metadata": {},
     "output_type": "execute_result"
    }
   ],
   "source": [
    "crude_density"
   ]
  },
  {
   "cell_type": "markdown",
   "id": "591616e1",
   "metadata": {},
   "source": [
    "#insert: like append, inserting item at a particular index"
   ]
  },
  {
   "cell_type": "code",
   "execution_count": 52,
   "id": "c4567e34",
   "metadata": {},
   "outputs": [],
   "source": [
    "a = [23,34,32,54,32,45]"
   ]
  },
  {
   "cell_type": "code",
   "execution_count": 53,
   "id": "36a84f60",
   "metadata": {},
   "outputs": [
    {
     "data": {
      "text/plain": [
       "[23, 34, 32, 54, 32, 45]"
      ]
     },
     "execution_count": 53,
     "metadata": {},
     "output_type": "execute_result"
    }
   ],
   "source": [
    "a"
   ]
  },
  {
   "cell_type": "code",
   "execution_count": 54,
   "id": "4d03fce3",
   "metadata": {},
   "outputs": [],
   "source": [
    "a.insert(4,\"Petroleum\")"
   ]
  },
  {
   "cell_type": "code",
   "execution_count": 55,
   "id": "2e5e805e",
   "metadata": {},
   "outputs": [
    {
     "data": {
      "text/plain": [
       "[23, 34, 32, 54, 'Petroleum', 32, 45]"
      ]
     },
     "execution_count": 55,
     "metadata": {},
     "output_type": "execute_result"
    }
   ],
   "source": [
    "a"
   ]
  },
  {
   "cell_type": "markdown",
   "id": "23ef07c4",
   "metadata": {},
   "source": [
    "# List Operations"
   ]
  },
  {
   "cell_type": "code",
   "execution_count": 57,
   "id": "2be424e6",
   "metadata": {},
   "outputs": [],
   "source": [
    "a = [13,23,33]\n",
    "b = [53,63,73]"
   ]
  },
  {
   "cell_type": "code",
   "execution_count": 58,
   "id": "0fd31a2b",
   "metadata": {},
   "outputs": [
    {
     "data": {
      "text/plain": [
       "[13, 23, 33, 53, 63, 73]"
      ]
     },
     "execution_count": 58,
     "metadata": {},
     "output_type": "execute_result"
    }
   ],
   "source": [
    "a+b"
   ]
  },
  {
   "cell_type": "code",
   "execution_count": 59,
   "id": "952f3f59",
   "metadata": {},
   "outputs": [
    {
     "ename": "TypeError",
     "evalue": "can't multiply sequence by non-int of type 'list'",
     "output_type": "error",
     "traceback": [
      "\u001b[1;31m---------------------------------------------------------------------------\u001b[0m",
      "\u001b[1;31mTypeError\u001b[0m                                 Traceback (most recent call last)",
      "Cell \u001b[1;32mIn[59], line 1\u001b[0m\n\u001b[1;32m----> 1\u001b[0m a\u001b[38;5;241m*\u001b[39mb\n",
      "\u001b[1;31mTypeError\u001b[0m: can't multiply sequence by non-int of type 'list'"
     ]
    }
   ],
   "source": [
    "a*b"
   ]
  },
  {
   "cell_type": "code",
   "execution_count": 60,
   "id": "0d28f511",
   "metadata": {},
   "outputs": [
    {
     "data": {
      "text/plain": [
       "[13, 23, 33, 13, 23, 33, 13, 23, 33]"
      ]
     },
     "execution_count": 60,
     "metadata": {},
     "output_type": "execute_result"
    }
   ],
   "source": [
    "a*3"
   ]
  },
  {
   "cell_type": "code",
   "execution_count": 61,
   "id": "586784a3",
   "metadata": {},
   "outputs": [
    {
     "data": {
      "text/plain": [
       "[53, 63, 73, 53, 63, 73, 53, 63, 73, 53, 63, 73, 53, 63, 73]"
      ]
     },
     "execution_count": 61,
     "metadata": {},
     "output_type": "execute_result"
    }
   ],
   "source": [
    "b*5"
   ]
  },
  {
   "cell_type": "code",
   "execution_count": 62,
   "id": "51cf63d6",
   "metadata": {},
   "outputs": [
    {
     "data": {
      "text/plain": [
       "33"
      ]
     },
     "execution_count": 62,
     "metadata": {},
     "output_type": "execute_result"
    }
   ],
   "source": [
    "a.pop(2)"
   ]
  },
  {
   "cell_type": "code",
   "execution_count": 63,
   "id": "8de79581",
   "metadata": {},
   "outputs": [
    {
     "data": {
      "text/plain": [
       "[13, 23]"
      ]
     },
     "execution_count": 63,
     "metadata": {},
     "output_type": "execute_result"
    }
   ],
   "source": [
    "a"
   ]
  },
  {
   "cell_type": "code",
   "execution_count": 65,
   "id": "934f286f",
   "metadata": {},
   "outputs": [],
   "source": [
    "import numpy as np"
   ]
  },
  {
   "cell_type": "code",
   "execution_count": 66,
   "id": "8dc7a179",
   "metadata": {},
   "outputs": [
    {
     "data": {
      "text/plain": [
       "[13, 23]"
      ]
     },
     "execution_count": 66,
     "metadata": {},
     "output_type": "execute_result"
    }
   ],
   "source": [
    "a"
   ]
  },
  {
   "cell_type": "code",
   "execution_count": 21,
   "id": "2470180d",
   "metadata": {},
   "outputs": [
    {
     "data": {
      "text/plain": [
       "array([26, 46])"
      ]
     },
     "execution_count": 21,
     "metadata": {},
     "output_type": "execute_result"
    }
   ],
   "source": [
    "np.array(a)*2"
   ]
  },
  {
   "cell_type": "markdown",
   "id": "f8833540",
   "metadata": {},
   "source": [
    "# Range"
   ]
  },
  {
   "cell_type": "code",
   "execution_count": 68,
   "id": "5377e84b",
   "metadata": {},
   "outputs": [
    {
     "data": {
      "text/plain": [
       "range(0, 15)"
      ]
     },
     "execution_count": 68,
     "metadata": {},
     "output_type": "execute_result"
    }
   ],
   "source": [
    "range(15)"
   ]
  },
  {
   "cell_type": "code",
   "execution_count": 70,
   "id": "a5a9fb94",
   "metadata": {},
   "outputs": [
    {
     "ename": "TypeError",
     "evalue": "'list' object is not callable",
     "output_type": "error",
     "traceback": [
      "\u001b[1;31m---------------------------------------------------------------------------\u001b[0m",
      "\u001b[1;31mTypeError\u001b[0m                                 Traceback (most recent call last)",
      "Cell \u001b[1;32mIn[70], line 1\u001b[0m\n\u001b[1;32m----> 1\u001b[0m \u001b[38;5;28mlist\u001b[39m(\u001b[38;5;28mrange\u001b[39m(\u001b[38;5;241m15\u001b[39m))\n",
      "\u001b[1;31mTypeError\u001b[0m: 'list' object is not callable"
     ]
    }
   ],
   "source": [
    "list(range(15))"
   ]
  },
  {
   "cell_type": "code",
   "execution_count": 71,
   "id": "8e56dd53",
   "metadata": {},
   "outputs": [
    {
     "data": {
      "text/plain": [
       "['then',\n",
       " 'free',\n",
       " 'you',\n",
       " 'kite',\n",
       " [67, 'saturation', 'density'],\n",
       " [45, 31, 45, 67, 12, 8, 241, 43]]"
      ]
     },
     "execution_count": 71,
     "metadata": {},
     "output_type": "execute_result"
    }
   ],
   "source": [
    "list"
   ]
  },
  {
   "cell_type": "code",
   "execution_count": 72,
   "id": "e7d7d8a7",
   "metadata": {},
   "outputs": [
    {
     "data": {
      "text/plain": [
       "range(0, 10)"
      ]
     },
     "execution_count": 72,
     "metadata": {},
     "output_type": "execute_result"
    }
   ],
   "source": [
    "range(10)"
   ]
  },
  {
   "cell_type": "code",
   "execution_count": 80,
   "id": "09b8a7ee",
   "metadata": {},
   "outputs": [
    {
     "ename": "TypeError",
     "evalue": "'list' object is not callable",
     "output_type": "error",
     "traceback": [
      "\u001b[1;31m---------------------------------------------------------------------------\u001b[0m",
      "\u001b[1;31mTypeError\u001b[0m                                 Traceback (most recent call last)",
      "Cell \u001b[1;32mIn[80], line 1\u001b[0m\n\u001b[1;32m----> 1\u001b[0m \u001b[38;5;28mlist\u001b[39m(\u001b[38;5;28mrange\u001b[39m(\u001b[38;5;241m10\u001b[39m))\n",
      "\u001b[1;31mTypeError\u001b[0m: 'list' object is not callable"
     ]
    }
   ],
   "source": [
    "list(range(10))"
   ]
  },
  {
   "cell_type": "code",
   "execution_count": 74,
   "id": "7a83b99e",
   "metadata": {},
   "outputs": [
    {
     "data": {
      "text/plain": [
       "range(0, 6)"
      ]
     },
     "execution_count": 74,
     "metadata": {},
     "output_type": "execute_result"
    }
   ],
   "source": [
    "range(6)"
   ]
  },
  {
   "cell_type": "code",
   "execution_count": 86,
   "id": "95a922eb",
   "metadata": {},
   "outputs": [
    {
     "ename": "TypeError",
     "evalue": "'list' object is not callable",
     "output_type": "error",
     "traceback": [
      "\u001b[1;31m---------------------------------------------------------------------------\u001b[0m",
      "\u001b[1;31mTypeError\u001b[0m                                 Traceback (most recent call last)",
      "Cell \u001b[1;32mIn[86], line 1\u001b[0m\n\u001b[1;32m----> 1\u001b[0m \u001b[38;5;28mlist\u001b[39m(\u001b[38;5;28mrange\u001b[39m(\u001b[38;5;241m6\u001b[39m))\n",
      "\u001b[1;31mTypeError\u001b[0m: 'list' object is not callable"
     ]
    }
   ],
   "source": [
    "list(range(6))"
   ]
  },
  {
   "cell_type": "code",
   "execution_count": 81,
   "id": "6a07e159",
   "metadata": {},
   "outputs": [
    {
     "ename": "TypeError",
     "evalue": "'list' object is not callable",
     "output_type": "error",
     "traceback": [
      "\u001b[1;31m---------------------------------------------------------------------------\u001b[0m",
      "\u001b[1;31mTypeError\u001b[0m                                 Traceback (most recent call last)",
      "Cell \u001b[1;32mIn[81], line 1\u001b[0m\n\u001b[1;32m----> 1\u001b[0m \u001b[38;5;28mlist\u001b[39m(\u001b[38;5;28mrange\u001b[39m(\u001b[38;5;241m3\u001b[39m,\u001b[38;5;241m10\u001b[39m,\u001b[38;5;241m2\u001b[39m))\n",
      "\u001b[1;31mTypeError\u001b[0m: 'list' object is not callable"
     ]
    }
   ],
   "source": [
    "list(range(3,10,2))"
   ]
  },
  {
   "cell_type": "code",
   "execution_count": 83,
   "id": "3ecd7a22",
   "metadata": {},
   "outputs": [
    {
     "ename": "TypeError",
     "evalue": "'list' object is not callable",
     "output_type": "error",
     "traceback": [
      "\u001b[1;31m---------------------------------------------------------------------------\u001b[0m",
      "\u001b[1;31mTypeError\u001b[0m                                 Traceback (most recent call last)",
      "Cell \u001b[1;32mIn[83], line 1\u001b[0m\n\u001b[1;32m----> 1\u001b[0m \u001b[38;5;28mlist\u001b[39m(\u001b[38;5;28mrange\u001b[39m(\u001b[38;5;241m2\u001b[39m,\u001b[38;5;241m101\u001b[39m,\u001b[38;5;241m-\u001b[39m\u001b[38;5;241m1\u001b[39m))\n",
      "\u001b[1;31mTypeError\u001b[0m: 'list' object is not callable"
     ]
    }
   ],
   "source": [
    "list(range(2,101,-1))"
   ]
  },
  {
   "cell_type": "code",
   "execution_count": 84,
   "id": "7513e9ea",
   "metadata": {},
   "outputs": [],
   "source": [
    "# Take inputs from user: start,stop, step\n",
    "# output list"
   ]
  },
  {
   "cell_type": "code",
   "execution_count": 1,
   "id": "f51b07ce",
   "metadata": {},
   "outputs": [
    {
     "name": "stdout",
     "output_type": "stream",
     "text": [
      "Enter starting point: 67\n",
      "Enter stop point: 45\n",
      "Enter step size: 73\n"
     ]
    },
    {
     "data": {
      "text/plain": [
       "[]"
      ]
     },
     "execution_count": 1,
     "metadata": {},
     "output_type": "execute_result"
    }
   ],
   "source": [
    "start = int(input('Enter starting point: '))\n",
    "stop = int(input('Enter stop point: '))\n",
    "step = int(input('Enter step size: '))\n",
    "\n",
    "list(range(start,stop,step))"
   ]
  },
  {
   "cell_type": "code",
   "execution_count": 2,
   "id": "b7f8415b",
   "metadata": {},
   "outputs": [],
   "source": [
    "perm =[34,45,56,45,34,23]"
   ]
  },
  {
   "cell_type": "code",
   "execution_count": 3,
   "id": "551b6eb5",
   "metadata": {},
   "outputs": [],
   "source": [
    "l=[45,67,5324,67,568,423,566,52,86,'permeability','porosity','saturation',['second_list',6876878,677898,['dvkujhg']],perm]"
   ]
  },
  {
   "cell_type": "code",
   "execution_count": 4,
   "id": "9038097c",
   "metadata": {},
   "outputs": [
    {
     "data": {
      "text/plain": [
       "[45,\n",
       " 67,\n",
       " 5324,\n",
       " 67,\n",
       " 568,\n",
       " 423,\n",
       " 566,\n",
       " 52,\n",
       " 86,\n",
       " 'permeability',\n",
       " 'porosity',\n",
       " 'saturation',\n",
       " ['second_list', 6876878, 677898, ['dvkujhg']],\n",
       " [34, 45, 56, 45, 34, 23]]"
      ]
     },
     "execution_count": 4,
     "metadata": {},
     "output_type": "execute_result"
    }
   ],
   "source": [
    "l"
   ]
  },
  {
   "cell_type": "code",
   "execution_count": 5,
   "id": "66c8dee8",
   "metadata": {},
   "outputs": [
    {
     "data": {
      "text/plain": [
       "[45, 45, 23]"
      ]
     },
     "execution_count": 5,
     "metadata": {},
     "output_type": "execute_result"
    }
   ],
   "source": [
    "l[-1][1::2]"
   ]
  },
  {
   "cell_type": "code",
   "execution_count": 6,
   "id": "deb1892f",
   "metadata": {},
   "outputs": [
    {
     "data": {
      "text/plain": [
       "[45, 56, 45]"
      ]
     },
     "execution_count": 6,
     "metadata": {},
     "output_type": "execute_result"
    }
   ],
   "source": [
    "l[-1][1:-2]"
   ]
  },
  {
   "cell_type": "code",
   "execution_count": 7,
   "id": "18b54243",
   "metadata": {},
   "outputs": [
    {
     "ename": "TypeError",
     "evalue": "'int' object is not subscriptable",
     "output_type": "error",
     "traceback": [
      "\u001b[1;31m---------------------------------------------------------------------------\u001b[0m",
      "\u001b[1;31mTypeError\u001b[0m                                 Traceback (most recent call last)",
      "Cell \u001b[1;32mIn[7], line 1\u001b[0m\n\u001b[1;32m----> 1\u001b[0m l[\u001b[38;5;241m-\u001b[39m\u001b[38;5;241m1\u001b[39m][\u001b[38;5;241m1\u001b[39m][\u001b[38;5;241m2\u001b[39m]\n",
      "\u001b[1;31mTypeError\u001b[0m: 'int' object is not subscriptable"
     ]
    }
   ],
   "source": [
    "l[-1][1][2]"
   ]
  },
  {
   "cell_type": "code",
   "execution_count": 9,
   "id": "c66265f2",
   "metadata": {},
   "outputs": [
    {
     "ename": "TypeError",
     "evalue": "'int' object is not subscriptable",
     "output_type": "error",
     "traceback": [
      "\u001b[1;31m---------------------------------------------------------------------------\u001b[0m",
      "\u001b[1;31mTypeError\u001b[0m                                 Traceback (most recent call last)",
      "Cell \u001b[1;32mIn[9], line 1\u001b[0m\n\u001b[1;32m----> 1\u001b[0m l[\u001b[38;5;241m-\u001b[39m\u001b[38;5;241m1\u001b[39m][\u001b[38;5;241m-\u001b[39m\u001b[38;5;241m3\u001b[39m][\u001b[38;5;241m2\u001b[39m]\n",
      "\u001b[1;31mTypeError\u001b[0m: 'int' object is not subscriptable"
     ]
    }
   ],
   "source": [
    "l[-1][-3][2]"
   ]
  },
  {
   "cell_type": "code",
   "execution_count": 10,
   "id": "0bf8f67c",
   "metadata": {},
   "outputs": [
    {
     "data": {
      "text/plain": [
       "[45, 23]"
      ]
     },
     "execution_count": 10,
     "metadata": {},
     "output_type": "execute_result"
    }
   ],
   "source": [
    "l[-1][1::4]"
   ]
  },
  {
   "cell_type": "code",
   "execution_count": 11,
   "id": "1ed3e56a",
   "metadata": {},
   "outputs": [
    {
     "data": {
      "text/plain": [
       "[45]"
      ]
     },
     "execution_count": 11,
     "metadata": {},
     "output_type": "execute_result"
    }
   ],
   "source": [
    "l[-1][1:2:4]"
   ]
  },
  {
   "cell_type": "code",
   "execution_count": 12,
   "id": "19d42671",
   "metadata": {},
   "outputs": [
    {
     "data": {
      "text/plain": [
       "[45, 45]"
      ]
     },
     "execution_count": 12,
     "metadata": {},
     "output_type": "execute_result"
    }
   ],
   "source": [
    "l[-1][1:4:2]"
   ]
  },
  {
   "cell_type": "code",
   "execution_count": 15,
   "id": "60ae261e",
   "metadata": {},
   "outputs": [
    {
     "data": {
      "text/plain": [
       "[45, 45]"
      ]
     },
     "execution_count": 15,
     "metadata": {},
     "output_type": "execute_result"
    }
   ],
   "source": [
    "l[-1][-3:-6:-2]"
   ]
  },
  {
   "cell_type": "code",
   "execution_count": 17,
   "id": "1b909e3c",
   "metadata": {},
   "outputs": [],
   "source": [
    "a=[13,23]"
   ]
  },
  {
   "cell_type": "code",
   "execution_count": 18,
   "id": "6cd4f634",
   "metadata": {},
   "outputs": [
    {
     "data": {
      "text/plain": [
       "[13, 23, 13, 23, 13, 23]"
      ]
     },
     "execution_count": 18,
     "metadata": {},
     "output_type": "execute_result"
    }
   ],
   "source": [
    "a*3"
   ]
  },
  {
   "cell_type": "code",
   "execution_count": 19,
   "id": "7cf65b9a",
   "metadata": {},
   "outputs": [],
   "source": [
    "import numpy as np"
   ]
  },
  {
   "cell_type": "code",
   "execution_count": 20,
   "id": "58ffcbe5",
   "metadata": {},
   "outputs": [
    {
     "data": {
      "text/plain": [
       "array([26, 46])"
      ]
     },
     "execution_count": 20,
     "metadata": {},
     "output_type": "execute_result"
    }
   ],
   "source": [
    "np.array(a)*2"
   ]
  },
  {
   "cell_type": "code",
   "execution_count": 22,
   "id": "6c5ff9f3",
   "metadata": {},
   "outputs": [],
   "source": [
    "#range"
   ]
  },
  {
   "cell_type": "code",
   "execution_count": 23,
   "id": "13b9d178",
   "metadata": {},
   "outputs": [
    {
     "data": {
      "text/plain": [
       "range(0, 10)"
      ]
     },
     "execution_count": 23,
     "metadata": {},
     "output_type": "execute_result"
    }
   ],
   "source": [
    "range(10)"
   ]
  },
  {
   "cell_type": "code",
   "execution_count": 24,
   "id": "cd3af257",
   "metadata": {},
   "outputs": [
    {
     "data": {
      "text/plain": [
       "[0, 1, 2, 3, 4, 5, 6, 7, 8, 9]"
      ]
     },
     "execution_count": 24,
     "metadata": {},
     "output_type": "execute_result"
    }
   ],
   "source": [
    "list(range(0,10))"
   ]
  },
  {
   "cell_type": "code",
   "execution_count": 25,
   "id": "6bb7dc58",
   "metadata": {},
   "outputs": [
    {
     "data": {
      "text/plain": [
       "[0, 1, 2, 3, 4, 5, 6, 7, 8, 9]"
      ]
     },
     "execution_count": 25,
     "metadata": {},
     "output_type": "execute_result"
    }
   ],
   "source": [
    "list(range(10))"
   ]
  },
  {
   "cell_type": "code",
   "execution_count": 26,
   "id": "d175e50a",
   "metadata": {},
   "outputs": [
    {
     "data": {
      "text/plain": [
       "[3, 5, 7, 9]"
      ]
     },
     "execution_count": 26,
     "metadata": {},
     "output_type": "execute_result"
    }
   ],
   "source": [
    "list(range(3,10,2))"
   ]
  },
  {
   "cell_type": "code",
   "execution_count": 27,
   "id": "fb4734b2",
   "metadata": {},
   "outputs": [
    {
     "data": {
      "text/plain": [
       "[3, 5, 7]"
      ]
     },
     "execution_count": 27,
     "metadata": {},
     "output_type": "execute_result"
    }
   ],
   "source": [
    "list(range(3,9,2))"
   ]
  },
  {
   "cell_type": "code",
   "execution_count": 28,
   "id": "740ad3e9",
   "metadata": {},
   "outputs": [
    {
     "data": {
      "text/plain": [
       "[3, 5, 7, 9]"
      ]
     },
     "execution_count": 28,
     "metadata": {},
     "output_type": "execute_result"
    }
   ],
   "source": [
    "list(range(3,11,2))"
   ]
  },
  {
   "cell_type": "code",
   "execution_count": 29,
   "id": "3b4bc369",
   "metadata": {},
   "outputs": [
    {
     "data": {
      "text/plain": [
       "[20, 19, 18, 17, 16, 15, 14, 13, 12, 11, 10, 9, 8, 7, 6, 5, 4, 3, 2, 1]"
      ]
     },
     "execution_count": 29,
     "metadata": {},
     "output_type": "execute_result"
    }
   ],
   "source": [
    "list(range(20,0,-1))"
   ]
  },
  {
   "cell_type": "code",
   "execution_count": 30,
   "id": "4568599a",
   "metadata": {},
   "outputs": [
    {
     "data": {
      "text/plain": [
       "[0,\n",
       " 1,\n",
       " 2,\n",
       " 3,\n",
       " 4,\n",
       " 5,\n",
       " 6,\n",
       " 7,\n",
       " 8,\n",
       " 9,\n",
       " 10,\n",
       " 11,\n",
       " 12,\n",
       " 13,\n",
       " 14,\n",
       " 15,\n",
       " 16,\n",
       " 17,\n",
       " 18,\n",
       " 19,\n",
       " 20,\n",
       " 21,\n",
       " 22,\n",
       " 23,\n",
       " 24,\n",
       " 25,\n",
       " 26,\n",
       " 27,\n",
       " 28,\n",
       " 29,\n",
       " 30,\n",
       " 31,\n",
       " 32,\n",
       " 33,\n",
       " 34,\n",
       " 35,\n",
       " 36,\n",
       " 37,\n",
       " 38,\n",
       " 39,\n",
       " 40,\n",
       " 41,\n",
       " 42,\n",
       " 43,\n",
       " 44,\n",
       " 45,\n",
       " 46,\n",
       " 47,\n",
       " 48,\n",
       " 49,\n",
       " 50,\n",
       " 51,\n",
       " 52,\n",
       " 53,\n",
       " 54,\n",
       " 55,\n",
       " 56,\n",
       " 57,\n",
       " 58,\n",
       " 59,\n",
       " 60,\n",
       " 61,\n",
       " 62,\n",
       " 63,\n",
       " 64,\n",
       " 65,\n",
       " 66,\n",
       " 67,\n",
       " 68,\n",
       " 69,\n",
       " 70,\n",
       " 71,\n",
       " 72,\n",
       " 73,\n",
       " 74,\n",
       " 75,\n",
       " 76,\n",
       " 77,\n",
       " 78,\n",
       " 79,\n",
       " 80,\n",
       " 81,\n",
       " 82,\n",
       " 83,\n",
       " 84,\n",
       " 85,\n",
       " 86,\n",
       " 87,\n",
       " 88,\n",
       " 89,\n",
       " 90,\n",
       " 91,\n",
       " 92,\n",
       " 93,\n",
       " 94,\n",
       " 95,\n",
       " 96,\n",
       " 97,\n",
       " 98,\n",
       " 99]"
      ]
     },
     "execution_count": 30,
     "metadata": {},
     "output_type": "execute_result"
    }
   ],
   "source": [
    "list(range(0,100))"
   ]
  },
  {
   "cell_type": "code",
   "execution_count": 32,
   "id": "5da2ef39",
   "metadata": {},
   "outputs": [
    {
     "data": {
      "text/plain": [
       "[1,\n",
       " 2,\n",
       " 3,\n",
       " 4,\n",
       " 5,\n",
       " 6,\n",
       " 7,\n",
       " 8,\n",
       " 9,\n",
       " 10,\n",
       " 11,\n",
       " 12,\n",
       " 13,\n",
       " 14,\n",
       " 15,\n",
       " 16,\n",
       " 17,\n",
       " 18,\n",
       " 19,\n",
       " 20,\n",
       " 21,\n",
       " 22,\n",
       " 23,\n",
       " 24,\n",
       " 25,\n",
       " 26,\n",
       " 27,\n",
       " 28,\n",
       " 29,\n",
       " 30,\n",
       " 31,\n",
       " 32,\n",
       " 33,\n",
       " 34,\n",
       " 35,\n",
       " 36,\n",
       " 37,\n",
       " 38,\n",
       " 39,\n",
       " 40,\n",
       " 41,\n",
       " 42,\n",
       " 43,\n",
       " 44,\n",
       " 45,\n",
       " 46,\n",
       " 47,\n",
       " 48,\n",
       " 49,\n",
       " 50,\n",
       " 51,\n",
       " 52,\n",
       " 53,\n",
       " 54,\n",
       " 55,\n",
       " 56,\n",
       " 57,\n",
       " 58,\n",
       " 59,\n",
       " 60,\n",
       " 61,\n",
       " 62,\n",
       " 63,\n",
       " 64,\n",
       " 65,\n",
       " 66,\n",
       " 67,\n",
       " 68,\n",
       " 69,\n",
       " 70,\n",
       " 71,\n",
       " 72,\n",
       " 73,\n",
       " 74,\n",
       " 75,\n",
       " 76,\n",
       " 77,\n",
       " 78,\n",
       " 79,\n",
       " 80,\n",
       " 81,\n",
       " 82,\n",
       " 83,\n",
       " 84,\n",
       " 85,\n",
       " 86,\n",
       " 87,\n",
       " 88,\n",
       " 89,\n",
       " 90,\n",
       " 91,\n",
       " 92,\n",
       " 93,\n",
       " 94,\n",
       " 95,\n",
       " 96,\n",
       " 97,\n",
       " 98,\n",
       " 99]"
      ]
     },
     "execution_count": 32,
     "metadata": {},
     "output_type": "execute_result"
    }
   ],
   "source": [
    "list(range(1,100))"
   ]
  },
  {
   "cell_type": "code",
   "execution_count": 33,
   "id": "794eba90",
   "metadata": {},
   "outputs": [
    {
     "data": {
      "text/plain": [
       "[1,\n",
       " 2,\n",
       " 3,\n",
       " 4,\n",
       " 5,\n",
       " 6,\n",
       " 7,\n",
       " 8,\n",
       " 9,\n",
       " 10,\n",
       " 11,\n",
       " 12,\n",
       " 13,\n",
       " 14,\n",
       " 15,\n",
       " 16,\n",
       " 17,\n",
       " 18,\n",
       " 19,\n",
       " 20,\n",
       " 21,\n",
       " 22,\n",
       " 23,\n",
       " 24,\n",
       " 25,\n",
       " 26,\n",
       " 27,\n",
       " 28,\n",
       " 29,\n",
       " 30,\n",
       " 31,\n",
       " 32,\n",
       " 33,\n",
       " 34,\n",
       " 35,\n",
       " 36,\n",
       " 37,\n",
       " 38,\n",
       " 39,\n",
       " 40,\n",
       " 41,\n",
       " 42,\n",
       " 43,\n",
       " 44,\n",
       " 45,\n",
       " 46,\n",
       " 47,\n",
       " 48,\n",
       " 49,\n",
       " 50,\n",
       " 51,\n",
       " 52,\n",
       " 53,\n",
       " 54,\n",
       " 55,\n",
       " 56,\n",
       " 57,\n",
       " 58,\n",
       " 59,\n",
       " 60,\n",
       " 61,\n",
       " 62,\n",
       " 63,\n",
       " 64,\n",
       " 65,\n",
       " 66,\n",
       " 67,\n",
       " 68,\n",
       " 69,\n",
       " 70,\n",
       " 71,\n",
       " 72,\n",
       " 73,\n",
       " 74,\n",
       " 75,\n",
       " 76,\n",
       " 77,\n",
       " 78,\n",
       " 79,\n",
       " 80,\n",
       " 81,\n",
       " 82,\n",
       " 83,\n",
       " 84,\n",
       " 85,\n",
       " 86,\n",
       " 87,\n",
       " 88,\n",
       " 89,\n",
       " 90,\n",
       " 91,\n",
       " 92,\n",
       " 93,\n",
       " 94,\n",
       " 95,\n",
       " 96,\n",
       " 97,\n",
       " 98,\n",
       " 99,\n",
       " 100]"
      ]
     },
     "execution_count": 33,
     "metadata": {},
     "output_type": "execute_result"
    }
   ],
   "source": [
    "list(range(1,101))"
   ]
  },
  {
   "cell_type": "code",
   "execution_count": 34,
   "id": "8631f356",
   "metadata": {},
   "outputs": [
    {
     "data": {
      "text/plain": [
       "[1,\n",
       " 3,\n",
       " 5,\n",
       " 7,\n",
       " 9,\n",
       " 11,\n",
       " 13,\n",
       " 15,\n",
       " 17,\n",
       " 19,\n",
       " 21,\n",
       " 23,\n",
       " 25,\n",
       " 27,\n",
       " 29,\n",
       " 31,\n",
       " 33,\n",
       " 35,\n",
       " 37,\n",
       " 39,\n",
       " 41,\n",
       " 43,\n",
       " 45,\n",
       " 47,\n",
       " 49,\n",
       " 51,\n",
       " 53,\n",
       " 55,\n",
       " 57,\n",
       " 59,\n",
       " 61,\n",
       " 63,\n",
       " 65,\n",
       " 67,\n",
       " 69,\n",
       " 71,\n",
       " 73,\n",
       " 75,\n",
       " 77,\n",
       " 79,\n",
       " 81,\n",
       " 83,\n",
       " 85,\n",
       " 87,\n",
       " 89,\n",
       " 91,\n",
       " 93,\n",
       " 95,\n",
       " 97,\n",
       " 99]"
      ]
     },
     "execution_count": 34,
     "metadata": {},
     "output_type": "execute_result"
    }
   ],
   "source": [
    "list(range(1,101,2))"
   ]
  },
  {
   "cell_type": "code",
   "execution_count": 36,
   "id": "53692cd8",
   "metadata": {},
   "outputs": [
    {
     "data": {
      "text/plain": [
       "[2,\n",
       " 4,\n",
       " 6,\n",
       " 8,\n",
       " 10,\n",
       " 12,\n",
       " 14,\n",
       " 16,\n",
       " 18,\n",
       " 20,\n",
       " 22,\n",
       " 24,\n",
       " 26,\n",
       " 28,\n",
       " 30,\n",
       " 32,\n",
       " 34,\n",
       " 36,\n",
       " 38,\n",
       " 40,\n",
       " 42,\n",
       " 44,\n",
       " 46,\n",
       " 48,\n",
       " 50,\n",
       " 52,\n",
       " 54,\n",
       " 56,\n",
       " 58,\n",
       " 60,\n",
       " 62,\n",
       " 64,\n",
       " 66,\n",
       " 68,\n",
       " 70,\n",
       " 72,\n",
       " 74,\n",
       " 76,\n",
       " 78,\n",
       " 80,\n",
       " 82,\n",
       " 84,\n",
       " 86,\n",
       " 88,\n",
       " 90,\n",
       " 92,\n",
       " 94,\n",
       " 96,\n",
       " 98,\n",
       " 100]"
      ]
     },
     "execution_count": 36,
     "metadata": {},
     "output_type": "execute_result"
    }
   ],
   "source": [
    "list(range(2,102,2))"
   ]
  },
  {
   "cell_type": "code",
   "execution_count": 37,
   "id": "141e0902",
   "metadata": {},
   "outputs": [
    {
     "data": {
      "text/plain": [
       "[2,\n",
       " 4,\n",
       " 6,\n",
       " 8,\n",
       " 10,\n",
       " 12,\n",
       " 14,\n",
       " 16,\n",
       " 18,\n",
       " 20,\n",
       " 22,\n",
       " 24,\n",
       " 26,\n",
       " 28,\n",
       " 30,\n",
       " 32,\n",
       " 34,\n",
       " 36,\n",
       " 38,\n",
       " 40,\n",
       " 42,\n",
       " 44,\n",
       " 46,\n",
       " 48,\n",
       " 50,\n",
       " 52,\n",
       " 54,\n",
       " 56,\n",
       " 58,\n",
       " 60,\n",
       " 62,\n",
       " 64,\n",
       " 66,\n",
       " 68,\n",
       " 70,\n",
       " 72,\n",
       " 74,\n",
       " 76,\n",
       " 78,\n",
       " 80,\n",
       " 82,\n",
       " 84,\n",
       " 86,\n",
       " 88,\n",
       " 90,\n",
       " 92,\n",
       " 94,\n",
       " 96,\n",
       " 98,\n",
       " 100]"
      ]
     },
     "execution_count": 37,
     "metadata": {},
     "output_type": "execute_result"
    }
   ],
   "source": [
    "list(range(2,101,2))"
   ]
  },
  {
   "cell_type": "code",
   "execution_count": 38,
   "id": "5c529050",
   "metadata": {},
   "outputs": [
    {
     "data": {
      "text/plain": [
       "[0,\n",
       " 1,\n",
       " 2,\n",
       " 3,\n",
       " 4,\n",
       " 5,\n",
       " 6,\n",
       " 7,\n",
       " 8,\n",
       " 9,\n",
       " 10,\n",
       " 11,\n",
       " 12,\n",
       " 13,\n",
       " 14,\n",
       " 15,\n",
       " 16,\n",
       " 17,\n",
       " 18,\n",
       " 19,\n",
       " 20,\n",
       " 21,\n",
       " 22,\n",
       " 23,\n",
       " 24,\n",
       " 25,\n",
       " 26,\n",
       " 27,\n",
       " 28,\n",
       " 29,\n",
       " 30,\n",
       " 31,\n",
       " 32,\n",
       " 33,\n",
       " 34,\n",
       " 35,\n",
       " 36,\n",
       " 37,\n",
       " 38,\n",
       " 39,\n",
       " 40,\n",
       " 41,\n",
       " 42,\n",
       " 43,\n",
       " 44,\n",
       " 45,\n",
       " 46,\n",
       " 47,\n",
       " 48,\n",
       " 49,\n",
       " 50,\n",
       " 51,\n",
       " 52,\n",
       " 53,\n",
       " 54,\n",
       " 55,\n",
       " 56,\n",
       " 57,\n",
       " 58,\n",
       " 59,\n",
       " 60,\n",
       " 61,\n",
       " 62,\n",
       " 63,\n",
       " 64,\n",
       " 65,\n",
       " 66,\n",
       " 67,\n",
       " 68,\n",
       " 69,\n",
       " 70,\n",
       " 71,\n",
       " 72,\n",
       " 73,\n",
       " 74,\n",
       " 75,\n",
       " 76,\n",
       " 77,\n",
       " 78,\n",
       " 79,\n",
       " 80,\n",
       " 81,\n",
       " 82,\n",
       " 83,\n",
       " 84,\n",
       " 85,\n",
       " 86,\n",
       " 87,\n",
       " 88,\n",
       " 89,\n",
       " 90,\n",
       " 91,\n",
       " 92,\n",
       " 93,\n",
       " 94,\n",
       " 95,\n",
       " 96,\n",
       " 97,\n",
       " 98,\n",
       " 99]"
      ]
     },
     "execution_count": 38,
     "metadata": {},
     "output_type": "execute_result"
    }
   ],
   "source": [
    "list(range(0,100))"
   ]
  },
  {
   "cell_type": "code",
   "execution_count": 40,
   "id": "65498680",
   "metadata": {},
   "outputs": [
    {
     "data": {
      "text/plain": [
       "[0,\n",
       " 1,\n",
       " 2,\n",
       " 3,\n",
       " 4,\n",
       " 5,\n",
       " 6,\n",
       " 7,\n",
       " 8,\n",
       " 9,\n",
       " 10,\n",
       " 11,\n",
       " 12,\n",
       " 13,\n",
       " 14,\n",
       " 15,\n",
       " 16,\n",
       " 17,\n",
       " 18,\n",
       " 19,\n",
       " 20,\n",
       " 21,\n",
       " 22,\n",
       " 23,\n",
       " 24,\n",
       " 25,\n",
       " 26,\n",
       " 27,\n",
       " 28,\n",
       " 29,\n",
       " 30,\n",
       " 31,\n",
       " 32,\n",
       " 33,\n",
       " 34,\n",
       " 35,\n",
       " 36,\n",
       " 37,\n",
       " 38,\n",
       " 39,\n",
       " 40,\n",
       " 41,\n",
       " 42,\n",
       " 43,\n",
       " 44,\n",
       " 45,\n",
       " 46,\n",
       " 47,\n",
       " 48,\n",
       " 49,\n",
       " 50,\n",
       " 51,\n",
       " 52,\n",
       " 53,\n",
       " 54,\n",
       " 55,\n",
       " 56,\n",
       " 57,\n",
       " 58,\n",
       " 59,\n",
       " 60,\n",
       " 61,\n",
       " 62,\n",
       " 63,\n",
       " 64,\n",
       " 65,\n",
       " 66,\n",
       " 67,\n",
       " 68,\n",
       " 69,\n",
       " 70,\n",
       " 71,\n",
       " 72,\n",
       " 73,\n",
       " 74,\n",
       " 75,\n",
       " 76,\n",
       " 77,\n",
       " 78,\n",
       " 79,\n",
       " 80,\n",
       " 81,\n",
       " 82,\n",
       " 83,\n",
       " 84,\n",
       " 85,\n",
       " 86,\n",
       " 87,\n",
       " 88,\n",
       " 89,\n",
       " 90,\n",
       " 91,\n",
       " 92,\n",
       " 93,\n",
       " 94,\n",
       " 95,\n",
       " 96,\n",
       " 97,\n",
       " 98,\n",
       " 99,\n",
       " 100]"
      ]
     },
     "execution_count": 40,
     "metadata": {},
     "output_type": "execute_result"
    }
   ],
   "source": [
    "list(range(0,101))"
   ]
  },
  {
   "cell_type": "code",
   "execution_count": 41,
   "id": "b842647f",
   "metadata": {},
   "outputs": [],
   "source": [
    "#take inputs for the user: start,stop,step\n",
    "#output list"
   ]
  },
  {
   "cell_type": "code",
   "execution_count": null,
   "id": "60f4ac33",
   "metadata": {},
   "outputs": [],
   "source": [
    "start = (\"Enter the starting point : \")\n",
    "stop = (\"Enter the stoping point : \")\n",
    "step (\"Enter the step size : \")"
   ]
  },
  {
   "cell_type": "code",
   "execution_count": null,
   "id": "5868a9f0",
   "metadata": {},
   "outputs": [],
   "source": []
  },
  {
   "cell_type": "code",
   "execution_count": null,
   "id": "d631ea17",
   "metadata": {},
   "outputs": [],
   "source": [
    "start = input(\"Enter the starting point : \")\n",
    "stop = input(\"Enter the stoping point : \")\n",
    "step input(\"Enter the step size : \")"
   ]
  },
  {
   "cell_type": "code",
   "execution_count": null,
   "id": "1ccdc35d",
   "metadata": {},
   "outputs": [
    {
     "name": "stdout",
     "output_type": "stream",
     "text": [
      "Enter the starting point : 2\n",
      "Enter the stoping point : 102\n"
     ]
    }
   ],
   "source": [
    "start = input(\"Enter the starting point : \")\n",
    "stop = input(\"Enter the stoping point : \")\n",
    "step = input(\"Enter the step size : \")\n",
    "\n",
    "list(range(start,stop,step))"
   ]
  },
  {
   "cell_type": "code",
   "execution_count": 1,
   "id": "431d6914",
   "metadata": {},
   "outputs": [],
   "source": [
    "a=[1,2,3,4,5]"
   ]
  },
  {
   "cell_type": "code",
   "execution_count": 2,
   "id": "abdcc971",
   "metadata": {},
   "outputs": [
    {
     "data": {
      "text/plain": [
       "[1, 2, 3, 4, 5]"
      ]
     },
     "execution_count": 2,
     "metadata": {},
     "output_type": "execute_result"
    }
   ],
   "source": [
    "a"
   ]
  },
  {
   "cell_type": "code",
   "execution_count": 4,
   "id": "c6db56b4",
   "metadata": {},
   "outputs": [
    {
     "name": "stdout",
     "output_type": "stream",
     "text": [
      "Enter the starting point : 2\n",
      "Enter the stoping point : 102\n",
      "Enter the step size : 2\n"
     ]
    },
    {
     "ename": "TypeError",
     "evalue": "'str' object cannot be interpreted as an integer",
     "output_type": "error",
     "traceback": [
      "\u001b[1;31m---------------------------------------------------------------------------\u001b[0m",
      "\u001b[1;31mTypeError\u001b[0m                                 Traceback (most recent call last)",
      "Cell \u001b[1;32mIn[4], line 5\u001b[0m\n\u001b[0;32m      2\u001b[0m stop \u001b[38;5;241m=\u001b[39m \u001b[38;5;28minput\u001b[39m(\u001b[38;5;124m\"\u001b[39m\u001b[38;5;124mEnter the stoping point : \u001b[39m\u001b[38;5;124m\"\u001b[39m)\n\u001b[0;32m      3\u001b[0m step \u001b[38;5;241m=\u001b[39m \u001b[38;5;28minput\u001b[39m(\u001b[38;5;124m\"\u001b[39m\u001b[38;5;124mEnter the step size : \u001b[39m\u001b[38;5;124m\"\u001b[39m)\n\u001b[1;32m----> 5\u001b[0m \u001b[38;5;28mlist\u001b[39m(\u001b[38;5;28mrange\u001b[39m(start,stop,step))\n",
      "\u001b[1;31mTypeError\u001b[0m: 'str' object cannot be interpreted as an integer"
     ]
    }
   ],
   "source": [
    "start = input(\"Enter the starting point : \")\n",
    "stop = input(\"Enter the stoping point : \")\n",
    "step = input(\"Enter the step size : \")\n",
    "\n",
    "list(range(start,stop,step))"
   ]
  },
  {
   "cell_type": "code",
   "execution_count": 7,
   "id": "c67d439a",
   "metadata": {},
   "outputs": [
    {
     "name": "stdout",
     "output_type": "stream",
     "text": [
      "Enter the starting point : 2\n",
      "Enter the stoping point : 102\n",
      "Enter the step size : 2\n"
     ]
    },
    {
     "data": {
      "text/plain": [
       "[2,\n",
       " 4,\n",
       " 6,\n",
       " 8,\n",
       " 10,\n",
       " 12,\n",
       " 14,\n",
       " 16,\n",
       " 18,\n",
       " 20,\n",
       " 22,\n",
       " 24,\n",
       " 26,\n",
       " 28,\n",
       " 30,\n",
       " 32,\n",
       " 34,\n",
       " 36,\n",
       " 38,\n",
       " 40,\n",
       " 42,\n",
       " 44,\n",
       " 46,\n",
       " 48,\n",
       " 50,\n",
       " 52,\n",
       " 54,\n",
       " 56,\n",
       " 58,\n",
       " 60,\n",
       " 62,\n",
       " 64,\n",
       " 66,\n",
       " 68,\n",
       " 70,\n",
       " 72,\n",
       " 74,\n",
       " 76,\n",
       " 78,\n",
       " 80,\n",
       " 82,\n",
       " 84,\n",
       " 86,\n",
       " 88,\n",
       " 90,\n",
       " 92,\n",
       " 94,\n",
       " 96,\n",
       " 98,\n",
       " 100]"
      ]
     },
     "execution_count": 7,
     "metadata": {},
     "output_type": "execute_result"
    }
   ],
   "source": [
    "start = int(input(\"Enter the starting point : \"))\n",
    "stop = int(input(\"Enter the stoping point : \"))\n",
    "step = int(input(\"Enter the step size : \"))\n",
    "\n",
    "list(range(start,stop,step))"
   ]
  },
  {
   "cell_type": "code",
   "execution_count": 8,
   "id": "bcbd6692",
   "metadata": {},
   "outputs": [
    {
     "name": "stdout",
     "output_type": "stream",
     "text": [
      "Enter starting point: 67\n",
      "Enter stop point: 45\n",
      "Enter step size: 73\n"
     ]
    },
    {
     "data": {
      "text/plain": [
       "[]"
      ]
     },
     "execution_count": 8,
     "metadata": {},
     "output_type": "execute_result"
    }
   ],
   "source": [
    "start = int(input('Enter starting point: '))\n",
    "stop = int(input('Enter stop point: '))\n",
    "step = int(input('Enter step size: '))\n",
    "\n",
    "list(range(start,stop,step))"
   ]
  },
  {
   "cell_type": "markdown",
   "id": "c2c7d6e5",
   "metadata": {},
   "source": [
    "# tuples\n",
    "\n",
    "()\n",
    "\n",
    "ordered\n",
    "\n",
    "immutable\n"
   ]
  },
  {
   "cell_type": "code",
   "execution_count": 9,
   "id": "088a1919",
   "metadata": {},
   "outputs": [],
   "source": [
    "oilproduction = (67987,434,4565,3456546)"
   ]
  },
  {
   "cell_type": "code",
   "execution_count": 10,
   "id": "ad9f93e2",
   "metadata": {},
   "outputs": [
    {
     "data": {
      "text/plain": [
       "(67987, 434, 4565, 3456546)"
      ]
     },
     "execution_count": 10,
     "metadata": {},
     "output_type": "execute_result"
    }
   ],
   "source": [
    "oilproduction"
   ]
  },
  {
   "cell_type": "code",
   "execution_count": 12,
   "id": "d8a0c07a",
   "metadata": {},
   "outputs": [
    {
     "data": {
      "text/plain": [
       "tuple"
      ]
     },
     "execution_count": 12,
     "metadata": {},
     "output_type": "execute_result"
    }
   ],
   "source": [
    "type(oilproduction)"
   ]
  },
  {
   "cell_type": "code",
   "execution_count": 13,
   "id": "3f04448a",
   "metadata": {},
   "outputs": [
    {
     "data": {
      "text/plain": [
       "3456546"
      ]
     },
     "execution_count": 13,
     "metadata": {},
     "output_type": "execute_result"
    }
   ],
   "source": [
    "oilproduction[3]"
   ]
  },
  {
   "cell_type": "code",
   "execution_count": 14,
   "id": "4020e645",
   "metadata": {},
   "outputs": [],
   "source": [
    "## tuple"
   ]
  },
  {
   "cell_type": "code",
   "execution_count": 15,
   "id": "c478c810",
   "metadata": {},
   "outputs": [
    {
     "data": {
      "text/plain": [
       "(67987, 434, 4565, 3456546)"
      ]
     },
     "execution_count": 15,
     "metadata": {},
     "output_type": "execute_result"
    }
   ],
   "source": [
    "oilproduction"
   ]
  },
  {
   "cell_type": "code",
   "execution_count": 18,
   "id": "64f453af",
   "metadata": {},
   "outputs": [],
   "source": [
    "oil_prd = list(oilproduction)"
   ]
  },
  {
   "cell_type": "code",
   "execution_count": 19,
   "id": "cf25246c",
   "metadata": {},
   "outputs": [
    {
     "data": {
      "text/plain": [
       "[67987, 434, 4565, 3456546]"
      ]
     },
     "execution_count": 19,
     "metadata": {},
     "output_type": "execute_result"
    }
   ],
   "source": [
    "oil_prd"
   ]
  },
  {
   "cell_type": "code",
   "execution_count": 20,
   "id": "ed74fca3",
   "metadata": {},
   "outputs": [
    {
     "data": {
      "text/plain": [
       "(67987, 434, 4565, 3456546)"
      ]
     },
     "execution_count": 20,
     "metadata": {},
     "output_type": "execute_result"
    }
   ],
   "source": [
    "oilproduction"
   ]
  },
  {
   "cell_type": "code",
   "execution_count": 21,
   "id": "f24cb10f",
   "metadata": {},
   "outputs": [
    {
     "ename": "TypeError",
     "evalue": "'tuple' object does not support item assignment",
     "output_type": "error",
     "traceback": [
      "\u001b[1;31m---------------------------------------------------------------------------\u001b[0m",
      "\u001b[1;31mTypeError\u001b[0m                                 Traceback (most recent call last)",
      "Cell \u001b[1;32mIn[21], line 1\u001b[0m\n\u001b[1;32m----> 1\u001b[0m oilproduction[\u001b[38;5;241m2\u001b[39m] \u001b[38;5;241m=\u001b[39m \u001b[38;5;241m65\u001b[39m\n",
      "\u001b[1;31mTypeError\u001b[0m: 'tuple' object does not support item assignment"
     ]
    }
   ],
   "source": [
    "oilproduction[2] = 65"
   ]
  },
  {
   "cell_type": "code",
   "execution_count": 22,
   "id": "305f497a",
   "metadata": {},
   "outputs": [],
   "source": [
    "oil_prd[3] = 788"
   ]
  },
  {
   "cell_type": "code",
   "execution_count": 23,
   "id": "7eaabd87",
   "metadata": {},
   "outputs": [
    {
     "data": {
      "text/plain": [
       "[67987, 434, 4565, 788]"
      ]
     },
     "execution_count": 23,
     "metadata": {},
     "output_type": "execute_result"
    }
   ],
   "source": [
    "oil_prd"
   ]
  },
  {
   "cell_type": "code",
   "execution_count": 24,
   "id": "fcabd440",
   "metadata": {},
   "outputs": [
    {
     "data": {
      "text/plain": [
       "[788, 4565, 434, 67987]"
      ]
     },
     "execution_count": 24,
     "metadata": {},
     "output_type": "execute_result"
    }
   ],
   "source": [
    "oil_prd[::-1]"
   ]
  },
  {
   "cell_type": "code",
   "execution_count": 25,
   "id": "bb934611",
   "metadata": {},
   "outputs": [
    {
     "data": {
      "text/plain": [
       "(67987, 434, 4565, 3456546)"
      ]
     },
     "execution_count": 25,
     "metadata": {},
     "output_type": "execute_result"
    }
   ],
   "source": [
    "oilproduction"
   ]
  },
  {
   "cell_type": "code",
   "execution_count": 27,
   "id": "484dc039",
   "metadata": {},
   "outputs": [
    {
     "data": {
      "text/plain": [
       "(3456546, 4565, 434, 67987)"
      ]
     },
     "execution_count": 27,
     "metadata": {},
     "output_type": "execute_result"
    }
   ],
   "source": [
    "oilproduction[::-1]"
   ]
  },
  {
   "cell_type": "code",
   "execution_count": 28,
   "id": "c52ed02f",
   "metadata": {},
   "outputs": [
    {
     "ename": "AttributeError",
     "evalue": "'tuple' object has no attribute 'reverse'",
     "output_type": "error",
     "traceback": [
      "\u001b[1;31m---------------------------------------------------------------------------\u001b[0m",
      "\u001b[1;31mAttributeError\u001b[0m                            Traceback (most recent call last)",
      "Cell \u001b[1;32mIn[28], line 1\u001b[0m\n\u001b[1;32m----> 1\u001b[0m oilproduction\u001b[38;5;241m.\u001b[39mreverse()\n",
      "\u001b[1;31mAttributeError\u001b[0m: 'tuple' object has no attribute 'reverse'"
     ]
    }
   ],
   "source": [
    "oilproduction.reverse()"
   ]
  },
  {
   "cell_type": "code",
   "execution_count": 29,
   "id": "6bf89328",
   "metadata": {},
   "outputs": [],
   "source": [
    "oil_prd.reverse()"
   ]
  },
  {
   "cell_type": "code",
   "execution_count": 30,
   "id": "63b7fa18",
   "metadata": {},
   "outputs": [
    {
     "data": {
      "text/plain": [
       "[788, 4565, 434, 67987]"
      ]
     },
     "execution_count": 30,
     "metadata": {},
     "output_type": "execute_result"
    }
   ],
   "source": [
    "oil_prd"
   ]
  },
  {
   "cell_type": "markdown",
   "id": "ca564f7d",
   "metadata": {},
   "source": [
    "#### SETS : UNORDERDED DATA STRUCTURES\n",
    "\n",
    ". {}\n",
    ". Unique datas\n",
    ". unordered\n",
    ". fast than list\n",
    ". unique elements ,lists"
   ]
  },
  {
   "cell_type": "code",
   "execution_count": 31,
   "id": "83c39382",
   "metadata": {},
   "outputs": [],
   "source": [
    "perm = {31,45,657,312,46,256,56,77,23}"
   ]
  },
  {
   "cell_type": "code",
   "execution_count": 32,
   "id": "bcb43d40",
   "metadata": {},
   "outputs": [
    {
     "data": {
      "text/plain": [
       "{23, 31, 45, 46, 56, 77, 256, 312, 657}"
      ]
     },
     "execution_count": 32,
     "metadata": {},
     "output_type": "execute_result"
    }
   ],
   "source": [
    "perm"
   ]
  },
  {
   "cell_type": "code",
   "execution_count": 33,
   "id": "a586660b",
   "metadata": {},
   "outputs": [
    {
     "data": {
      "text/plain": [
       "set"
      ]
     },
     "execution_count": 33,
     "metadata": {},
     "output_type": "execute_result"
    }
   ],
   "source": [
    "type(perm)"
   ]
  },
  {
   "cell_type": "code",
   "execution_count": 34,
   "id": "b04910ef",
   "metadata": {},
   "outputs": [],
   "source": [
    "perm = {2,2,22,33,344,565,324,1,2,2,33,44,55,565,66,77,77,888,999,999,44,55,6,77,56,565}"
   ]
  },
  {
   "cell_type": "code",
   "execution_count": 35,
   "id": "ad9fd843",
   "metadata": {},
   "outputs": [
    {
     "data": {
      "text/plain": [
       "{1, 2, 6, 22, 33, 44, 55, 56, 66, 77, 324, 344, 565, 888, 999}"
      ]
     },
     "execution_count": 35,
     "metadata": {},
     "output_type": "execute_result"
    }
   ],
   "source": [
    "perm"
   ]
  },
  {
   "cell_type": "code",
   "execution_count": 36,
   "id": "7a25e90c",
   "metadata": {},
   "outputs": [],
   "source": [
    "s = {1,1,2,3,3,4,5,6,7,8,9,1,2,3,4,5,6,7,8,9,'ja','ka','ja','ka'}"
   ]
  },
  {
   "cell_type": "code",
   "execution_count": 37,
   "id": "39f231d3",
   "metadata": {},
   "outputs": [
    {
     "data": {
      "text/plain": [
       "{1, 2, 3, 4, 5, 6, 7, 8, 9, 'ja', 'ka'}"
      ]
     },
     "execution_count": 37,
     "metadata": {},
     "output_type": "execute_result"
    }
   ],
   "source": [
    "s"
   ]
  },
  {
   "cell_type": "code",
   "execution_count": 38,
   "id": "542f0401",
   "metadata": {},
   "outputs": [
    {
     "ename": "TypeError",
     "evalue": "'set' object is not subscriptable",
     "output_type": "error",
     "traceback": [
      "\u001b[1;31m---------------------------------------------------------------------------\u001b[0m",
      "\u001b[1;31mTypeError\u001b[0m                                 Traceback (most recent call last)",
      "Cell \u001b[1;32mIn[38], line 1\u001b[0m\n\u001b[1;32m----> 1\u001b[0m s[\u001b[38;5;241m3\u001b[39m]\n",
      "\u001b[1;31mTypeError\u001b[0m: 'set' object is not subscriptable"
     ]
    }
   ],
   "source": [
    "s[3]"
   ]
  },
  {
   "cell_type": "code",
   "execution_count": 39,
   "id": "7be3bae6",
   "metadata": {},
   "outputs": [],
   "source": [
    "s = {\"prem\",\"Prem\"}"
   ]
  },
  {
   "cell_type": "code",
   "execution_count": 40,
   "id": "f8efb67c",
   "metadata": {},
   "outputs": [
    {
     "data": {
      "text/plain": [
       "{'Prem', 'prem'}"
      ]
     },
     "execution_count": 40,
     "metadata": {},
     "output_type": "execute_result"
    }
   ],
   "source": [
    "s"
   ]
  },
  {
   "cell_type": "code",
   "execution_count": 41,
   "id": "5f8bd15a",
   "metadata": {},
   "outputs": [],
   "source": [
    "a,A = 56,87"
   ]
  },
  {
   "cell_type": "code",
   "execution_count": 42,
   "id": "4242149e",
   "metadata": {},
   "outputs": [
    {
     "data": {
      "text/plain": [
       "56"
      ]
     },
     "execution_count": 42,
     "metadata": {},
     "output_type": "execute_result"
    }
   ],
   "source": [
    "a"
   ]
  },
  {
   "cell_type": "code",
   "execution_count": 43,
   "id": "5ed59b7d",
   "metadata": {},
   "outputs": [
    {
     "data": {
      "text/plain": [
       "87"
      ]
     },
     "execution_count": 43,
     "metadata": {},
     "output_type": "execute_result"
    }
   ],
   "source": [
    "A"
   ]
  },
  {
   "cell_type": "code",
   "execution_count": 44,
   "id": "b3ab6bbb",
   "metadata": {},
   "outputs": [
    {
     "ename": "NameError",
     "evalue": "name 'length' is not defined",
     "output_type": "error",
     "traceback": [
      "\u001b[1;31m---------------------------------------------------------------------------\u001b[0m",
      "\u001b[1;31mNameError\u001b[0m                                 Traceback (most recent call last)",
      "Cell \u001b[1;32mIn[44], line 1\u001b[0m\n\u001b[1;32m----> 1\u001b[0m length(prem)\n",
      "\u001b[1;31mNameError\u001b[0m: name 'length' is not defined"
     ]
    }
   ],
   "source": [
    "length(prem)"
   ]
  },
  {
   "cell_type": "code",
   "execution_count": 45,
   "id": "2a00f6da",
   "metadata": {},
   "outputs": [
    {
     "ename": "NameError",
     "evalue": "name 'prem' is not defined",
     "output_type": "error",
     "traceback": [
      "\u001b[1;31m---------------------------------------------------------------------------\u001b[0m",
      "\u001b[1;31mNameError\u001b[0m                                 Traceback (most recent call last)",
      "Cell \u001b[1;32mIn[45], line 1\u001b[0m\n\u001b[1;32m----> 1\u001b[0m prem\n",
      "\u001b[1;31mNameError\u001b[0m: name 'prem' is not defined"
     ]
    }
   ],
   "source": [
    "prem"
   ]
  },
  {
   "cell_type": "code",
   "execution_count": 46,
   "id": "10b059ad",
   "metadata": {},
   "outputs": [],
   "source": [
    "perm = {31,45,657,312,46,256,56,77,23}"
   ]
  },
  {
   "cell_type": "code",
   "execution_count": 47,
   "id": "50da4f0b",
   "metadata": {},
   "outputs": [
    {
     "data": {
      "text/plain": [
       "{23, 31, 45, 46, 56, 77, 256, 312, 657}"
      ]
     },
     "execution_count": 47,
     "metadata": {},
     "output_type": "execute_result"
    }
   ],
   "source": [
    "perm"
   ]
  },
  {
   "cell_type": "code",
   "execution_count": 48,
   "id": "e267c150",
   "metadata": {},
   "outputs": [
    {
     "ename": "NameError",
     "evalue": "name 'length' is not defined",
     "output_type": "error",
     "traceback": [
      "\u001b[1;31m---------------------------------------------------------------------------\u001b[0m",
      "\u001b[1;31mNameError\u001b[0m                                 Traceback (most recent call last)",
      "Cell \u001b[1;32mIn[48], line 1\u001b[0m\n\u001b[1;32m----> 1\u001b[0m length(perm)\n",
      "\u001b[1;31mNameError\u001b[0m: name 'length' is not defined"
     ]
    }
   ],
   "source": [
    "length(perm)"
   ]
  },
  {
   "cell_type": "code",
   "execution_count": 49,
   "id": "a8599513",
   "metadata": {},
   "outputs": [
    {
     "data": {
      "text/plain": [
       "9"
      ]
     },
     "execution_count": 49,
     "metadata": {},
     "output_type": "execute_result"
    }
   ],
   "source": [
    "len(perm)"
   ]
  },
  {
   "cell_type": "code",
   "execution_count": 50,
   "id": "a3641f30",
   "metadata": {},
   "outputs": [
    {
     "data": {
      "text/plain": [
       "2"
      ]
     },
     "execution_count": 50,
     "metadata": {},
     "output_type": "execute_result"
    }
   ],
   "source": [
    "len(s)"
   ]
  },
  {
   "cell_type": "code",
   "execution_count": null,
   "id": "888c728d",
   "metadata": {},
   "outputs": [],
   "source": []
  }
 ],
 "metadata": {
  "kernelspec": {
   "display_name": "Python 3 (ipykernel)",
   "language": "python",
   "name": "python3"
  },
  "language_info": {
   "codemirror_mode": {
    "name": "ipython",
    "version": 3
   },
   "file_extension": ".py",
   "mimetype": "text/x-python",
   "name": "python",
   "nbconvert_exporter": "python",
   "pygments_lexer": "ipython3",
   "version": "3.11.4"
  }
 },
 "nbformat": 4,
 "nbformat_minor": 5
}
