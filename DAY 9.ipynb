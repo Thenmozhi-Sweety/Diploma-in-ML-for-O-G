{
 "cells": [
  {
   "cell_type": "markdown",
   "id": "244c780c",
   "metadata": {},
   "source": [
    "# RESHAPE"
   ]
  },
  {
   "cell_type": "markdown",
   "id": "d6dd8e49",
   "metadata": {},
   "source": [
    "# changing the shape of array\n",
    "- By reshaping we can add or remove a dimensions or change number of elements in each dimension"
   ]
  },
  {
   "cell_type": "code",
   "execution_count": 1,
   "id": "07c54b54",
   "metadata": {},
   "outputs": [],
   "source": [
    "import numpy as np"
   ]
  },
  {
   "cell_type": "code",
   "execution_count": 2,
   "id": "a9693774",
   "metadata": {},
   "outputs": [],
   "source": [
    "perm = np.array([1,2,3,4,5,6,7,8,9,67,12,45,24,678,89,56,454,23,56,76,89,89,65,45])"
   ]
  },
  {
   "cell_type": "code",
   "execution_count": 4,
   "id": "6af7dab5",
   "metadata": {},
   "outputs": [
    {
     "data": {
      "text/plain": [
       "array([  1,   2,   3,   4,   5,   6,   7,   8,   9,  67,  12,  45,  24,\n",
       "       678,  89,  56, 454,  23,  56,  76,  89,  89,  65,  45])"
      ]
     },
     "execution_count": 4,
     "metadata": {},
     "output_type": "execute_result"
    }
   ],
   "source": [
    "perm"
   ]
  },
  {
   "cell_type": "code",
   "execution_count": 5,
   "id": "4a8c5523",
   "metadata": {},
   "outputs": [
    {
     "data": {
      "text/plain": [
       "1"
      ]
     },
     "execution_count": 5,
     "metadata": {},
     "output_type": "execute_result"
    }
   ],
   "source": [
    "perm.ndim"
   ]
  },
  {
   "cell_type": "code",
   "execution_count": 6,
   "id": "019b660b",
   "metadata": {},
   "outputs": [
    {
     "data": {
      "text/plain": [
       "24"
      ]
     },
     "execution_count": 6,
     "metadata": {},
     "output_type": "execute_result"
    }
   ],
   "source": [
    "len(perm)"
   ]
  },
  {
   "cell_type": "code",
   "execution_count": 7,
   "id": "475be4e3",
   "metadata": {},
   "outputs": [
    {
     "data": {
      "text/plain": [
       "(24,)"
      ]
     },
     "execution_count": 7,
     "metadata": {},
     "output_type": "execute_result"
    }
   ],
   "source": [
    "perm.shape"
   ]
  },
  {
   "cell_type": "markdown",
   "id": "8ec664d6",
   "metadata": {},
   "source": [
    "# Reshape to n D array"
   ]
  },
  {
   "cell_type": "code",
   "execution_count": 8,
   "id": "d599815d",
   "metadata": {},
   "outputs": [],
   "source": [
    "perm2d = perm.reshape(6,4)"
   ]
  },
  {
   "cell_type": "code",
   "execution_count": 9,
   "id": "fd52aa62",
   "metadata": {},
   "outputs": [
    {
     "data": {
      "text/plain": [
       "array([[  1,   2,   3,   4],\n",
       "       [  5,   6,   7,   8],\n",
       "       [  9,  67,  12,  45],\n",
       "       [ 24, 678,  89,  56],\n",
       "       [454,  23,  56,  76],\n",
       "       [ 89,  89,  65,  45]])"
      ]
     },
     "execution_count": 9,
     "metadata": {},
     "output_type": "execute_result"
    }
   ],
   "source": [
    "perm2d"
   ]
  },
  {
   "cell_type": "code",
   "execution_count": 10,
   "id": "9bc404b1",
   "metadata": {},
   "outputs": [
    {
     "data": {
      "text/plain": [
       "(6, 4)"
      ]
     },
     "execution_count": 10,
     "metadata": {},
     "output_type": "execute_result"
    }
   ],
   "source": [
    "perm2d.shape"
   ]
  },
  {
   "cell_type": "code",
   "execution_count": 11,
   "id": "d98b3481",
   "metadata": {},
   "outputs": [],
   "source": [
    "perm3d = perm.reshape(4,3,2)"
   ]
  },
  {
   "cell_type": "code",
   "execution_count": 12,
   "id": "279d823f",
   "metadata": {},
   "outputs": [
    {
     "data": {
      "text/plain": [
       "array([[[  1,   2],\n",
       "        [  3,   4],\n",
       "        [  5,   6]],\n",
       "\n",
       "       [[  7,   8],\n",
       "        [  9,  67],\n",
       "        [ 12,  45]],\n",
       "\n",
       "       [[ 24, 678],\n",
       "        [ 89,  56],\n",
       "        [454,  23]],\n",
       "\n",
       "       [[ 56,  76],\n",
       "        [ 89,  89],\n",
       "        [ 65,  45]]])"
      ]
     },
     "execution_count": 12,
     "metadata": {},
     "output_type": "execute_result"
    }
   ],
   "source": [
    "perm3d"
   ]
  },
  {
   "cell_type": "code",
   "execution_count": 13,
   "id": "9dd1aa65",
   "metadata": {},
   "outputs": [
    {
     "data": {
      "text/plain": [
       "3"
      ]
     },
     "execution_count": 13,
     "metadata": {},
     "output_type": "execute_result"
    }
   ],
   "source": [
    "perm3d.ndim"
   ]
  },
  {
   "cell_type": "code",
   "execution_count": 14,
   "id": "da3eb8c1",
   "metadata": {},
   "outputs": [
    {
     "data": {
      "text/plain": [
       "(4, 3, 2)"
      ]
     },
     "execution_count": 14,
     "metadata": {},
     "output_type": "execute_result"
    }
   ],
   "source": [
    "perm3d.shape"
   ]
  },
  {
   "cell_type": "code",
   "execution_count": 15,
   "id": "eb6c11b0",
   "metadata": {},
   "outputs": [
    {
     "ename": "ValueError",
     "evalue": "cannot reshape array of size 24 into shape (7,2)",
     "output_type": "error",
     "traceback": [
      "\u001b[1;31m---------------------------------------------------------------------------\u001b[0m",
      "\u001b[1;31mValueError\u001b[0m                                Traceback (most recent call last)",
      "Cell \u001b[1;32mIn[15], line 1\u001b[0m\n\u001b[1;32m----> 1\u001b[0m perm\u001b[38;5;241m.\u001b[39mreshape(\u001b[38;5;241m7\u001b[39m,\u001b[38;5;241m2\u001b[39m)\n",
      "\u001b[1;31mValueError\u001b[0m: cannot reshape array of size 24 into shape (7,2)"
     ]
    }
   ],
   "source": [
    "perm.reshape(7,2)"
   ]
  },
  {
   "cell_type": "code",
   "execution_count": 16,
   "id": "144958eb",
   "metadata": {},
   "outputs": [
    {
     "data": {
      "text/plain": [
       "array([[[[[  1,   2],\n",
       "          [  3,   4],\n",
       "          [  5,   6]],\n",
       "\n",
       "         [[  7,   8],\n",
       "          [  9,  67],\n",
       "          [ 12,  45]]],\n",
       "\n",
       "\n",
       "        [[[ 24, 678],\n",
       "          [ 89,  56],\n",
       "          [454,  23]],\n",
       "\n",
       "         [[ 56,  76],\n",
       "          [ 89,  89],\n",
       "          [ 65,  45]]]]])"
      ]
     },
     "execution_count": 16,
     "metadata": {},
     "output_type": "execute_result"
    }
   ],
   "source": [
    "perm.reshape(1,2,2,3,2)"
   ]
  },
  {
   "cell_type": "markdown",
   "id": "efe50774",
   "metadata": {},
   "source": [
    "# Unknown dimension"
   ]
  },
  {
   "cell_type": "code",
   "execution_count": 17,
   "id": "72e901b2",
   "metadata": {},
   "outputs": [
    {
     "data": {
      "text/plain": [
       "array([  1,   2,   3,   4,   5,   6,   7,   8,   9,  67,  12,  45,  24,\n",
       "       678,  89,  56, 454,  23,  56,  76,  89,  89,  65,  45])"
      ]
     },
     "execution_count": 17,
     "metadata": {},
     "output_type": "execute_result"
    }
   ],
   "source": [
    "perm"
   ]
  },
  {
   "cell_type": "code",
   "execution_count": 18,
   "id": "ed493580",
   "metadata": {},
   "outputs": [
    {
     "data": {
      "text/plain": [
       "(24,)"
      ]
     },
     "execution_count": 18,
     "metadata": {},
     "output_type": "execute_result"
    }
   ],
   "source": [
    "perm.shape"
   ]
  },
  {
   "cell_type": "code",
   "execution_count": 19,
   "id": "3eab9c5d",
   "metadata": {},
   "outputs": [
    {
     "data": {
      "text/plain": [
       "array([[  1,   2,   3,   4,   5,   6],\n",
       "       [  7,   8,   9,  67,  12,  45],\n",
       "       [ 24, 678,  89,  56, 454,  23],\n",
       "       [ 56,  76,  89,  89,  65,  45]])"
      ]
     },
     "execution_count": 19,
     "metadata": {},
     "output_type": "execute_result"
    }
   ],
   "source": [
    "perm.reshape(4,6)"
   ]
  },
  {
   "cell_type": "code",
   "execution_count": 20,
   "id": "dc9b2f91",
   "metadata": {},
   "outputs": [
    {
     "data": {
      "text/plain": [
       "array([[  1,   2,   3,   4,   5,   6],\n",
       "       [  7,   8,   9,  67,  12,  45],\n",
       "       [ 24, 678,  89,  56, 454,  23],\n",
       "       [ 56,  76,  89,  89,  65,  45]])"
      ]
     },
     "execution_count": 20,
     "metadata": {},
     "output_type": "execute_result"
    }
   ],
   "source": [
    "perm.reshape(4,-1)"
   ]
  },
  {
   "cell_type": "code",
   "execution_count": 21,
   "id": "ec94325e",
   "metadata": {},
   "outputs": [
    {
     "data": {
      "text/plain": [
       "array([[  1,   2,   3,   4],\n",
       "       [  5,   6,   7,   8],\n",
       "       [  9,  67,  12,  45],\n",
       "       [ 24, 678,  89,  56],\n",
       "       [454,  23,  56,  76],\n",
       "       [ 89,  89,  65,  45]])"
      ]
     },
     "execution_count": 21,
     "metadata": {},
     "output_type": "execute_result"
    }
   ],
   "source": [
    "perm.reshape(-1,4)"
   ]
  },
  {
   "cell_type": "code",
   "execution_count": 22,
   "id": "39d0b01b",
   "metadata": {},
   "outputs": [
    {
     "data": {
      "text/plain": [
       "array([[[  1,   2,   3],\n",
       "        [  4,   5,   6]],\n",
       "\n",
       "       [[  7,   8,   9],\n",
       "        [ 67,  12,  45]],\n",
       "\n",
       "       [[ 24, 678,  89],\n",
       "        [ 56, 454,  23]],\n",
       "\n",
       "       [[ 56,  76,  89],\n",
       "        [ 89,  65,  45]]])"
      ]
     },
     "execution_count": 22,
     "metadata": {},
     "output_type": "execute_result"
    }
   ],
   "source": [
    "perm.reshape(-1,2,3)"
   ]
  },
  {
   "cell_type": "code",
   "execution_count": 23,
   "id": "5b329d66",
   "metadata": {},
   "outputs": [
    {
     "data": {
      "text/plain": [
       "array([[[  1,   2,   3],\n",
       "        [  4,   5,   6]],\n",
       "\n",
       "       [[  7,   8,   9],\n",
       "        [ 67,  12,  45]],\n",
       "\n",
       "       [[ 24, 678,  89],\n",
       "        [ 56, 454,  23]],\n",
       "\n",
       "       [[ 56,  76,  89],\n",
       "        [ 89,  65,  45]]])"
      ]
     },
     "execution_count": 23,
     "metadata": {},
     "output_type": "execute_result"
    }
   ],
   "source": [
    "perm.reshape(4,-1,3)"
   ]
  },
  {
   "cell_type": "markdown",
   "id": "0ab1f387",
   "metadata": {},
   "source": [
    "# Random Number Generation"
   ]
  },
  {
   "cell_type": "markdown",
   "id": "549eb5e5",
   "metadata": {},
   "source": [
    "# randint: Generating Random Integers\n",
    "- np.random.randint(250,350,(shape))"
   ]
  },
  {
   "cell_type": "code",
   "execution_count": 24,
   "id": "1ab9adcd",
   "metadata": {},
   "outputs": [],
   "source": [
    "np.random.seed(0)\n",
    "perm = np.random.randint(34,100,(4,3))"
   ]
  },
  {
   "cell_type": "code",
   "execution_count": 25,
   "id": "4f40e5a3",
   "metadata": {},
   "outputs": [
    {
     "data": {
      "text/plain": [
       "array([[78, 81, 98],\n",
       "       [43, 55, 70],\n",
       "       [46, 92, 99],\n",
       "       [73, 80, 71]])"
      ]
     },
     "execution_count": 25,
     "metadata": {},
     "output_type": "execute_result"
    }
   ],
   "source": [
    "perm"
   ]
  },
  {
   "cell_type": "markdown",
   "id": "aa4c0c6f",
   "metadata": {},
   "source": [
    "# rand: generate fraction betwenn 0 and 1¶\n",
    "- provide the shape"
   ]
  },
  {
   "cell_type": "code",
   "execution_count": 26,
   "id": "2c840b4f",
   "metadata": {},
   "outputs": [
    {
     "data": {
      "text/plain": [
       "0.8360787635373775"
      ]
     },
     "execution_count": 26,
     "metadata": {},
     "output_type": "execute_result"
    }
   ],
   "source": [
    "np.random.rand()"
   ]
  },
  {
   "cell_type": "code",
   "execution_count": 27,
   "id": "7cbe73de",
   "metadata": {},
   "outputs": [
    {
     "data": {
      "text/plain": [
       "array([[0.33739616, 0.64817187, 0.36824154, 0.95715516],\n",
       "       [0.14035078, 0.87008726, 0.47360805, 0.80091075],\n",
       "       [0.52047748, 0.67887953, 0.72063265, 0.58201979],\n",
       "       [0.53737323, 0.75861562, 0.10590761, 0.47360042],\n",
       "       [0.18633234, 0.73691818, 0.21655035, 0.13521817]])"
      ]
     },
     "execution_count": 27,
     "metadata": {},
     "output_type": "execute_result"
    }
   ],
   "source": [
    "np.random.rand(5,4)"
   ]
  },
  {
   "cell_type": "code",
   "execution_count": 28,
   "id": "eb606299",
   "metadata": {},
   "outputs": [
    {
     "data": {
      "text/plain": [
       "array([[[0.32414101, 0.14967487, 0.22232139],\n",
       "        [0.38648898, 0.90259848, 0.44994999],\n",
       "        [0.61306346, 0.90234858, 0.09928035],\n",
       "        [0.96980907, 0.65314004, 0.17090959]],\n",
       "\n",
       "       [[0.35815217, 0.75068614, 0.60783067],\n",
       "        [0.32504723, 0.03842543, 0.63427406],\n",
       "        [0.95894927, 0.65279032, 0.63505887],\n",
       "        [0.99529957, 0.58185033, 0.41436859]],\n",
       "\n",
       "       [[0.4746975 , 0.6235101 , 0.33800761],\n",
       "        [0.67475232, 0.31720174, 0.77834548],\n",
       "        [0.94957105, 0.66252687, 0.01357164],\n",
       "        [0.6228461 , 0.67365963, 0.971945  ]],\n",
       "\n",
       "       [[0.87819347, 0.50962438, 0.05571469],\n",
       "        [0.45115921, 0.01998767, 0.44171092],\n",
       "        [0.97958673, 0.35944446, 0.48089353],\n",
       "        [0.68866118, 0.88047589, 0.91823547]],\n",
       "\n",
       "       [[0.21682214, 0.56518887, 0.86510256],\n",
       "        [0.50896896, 0.91672295, 0.92115761],\n",
       "        [0.08311249, 0.27771856, 0.0093567 ],\n",
       "        [0.84234208, 0.64717414, 0.84138612]]])"
      ]
     },
     "execution_count": 28,
     "metadata": {},
     "output_type": "execute_result"
    }
   ],
   "source": [
    "np.random.rand(5,4,3)"
   ]
  },
  {
   "cell_type": "markdown",
   "id": "6fef63c3",
   "metadata": {},
   "source": [
    "# Choice\n",
    "- generate random values based on a array of values"
   ]
  },
  {
   "cell_type": "code",
   "execution_count": 29,
   "id": "40aa6bc3",
   "metadata": {},
   "outputs": [
    {
     "data": {
      "text/plain": [
       "56"
      ]
     },
     "execution_count": 29,
     "metadata": {},
     "output_type": "execute_result"
    }
   ],
   "source": [
    "np.random.choice([43,32,45,54,74,23,56])"
   ]
  },
  {
   "cell_type": "code",
   "execution_count": 30,
   "id": "362b0f07",
   "metadata": {},
   "outputs": [
    {
     "data": {
      "text/plain": [
       "array([[54, 56, 45, 54],\n",
       "       [43, 74, 43, 23],\n",
       "       [56, 43, 23, 45]])"
      ]
     },
     "execution_count": 30,
     "metadata": {},
     "output_type": "execute_result"
    }
   ],
   "source": [
    "np.random.choice([43,32,45,54,74,23,56],size=(3,4))"
   ]
  },
  {
   "cell_type": "markdown",
   "id": "48856e5f",
   "metadata": {},
   "source": [
    "# By using choice we can also specify probability for each value"
   ]
  },
  {
   "cell_type": "code",
   "execution_count": 31,
   "id": "48b0738e",
   "metadata": {},
   "outputs": [
    {
     "data": {
      "text/plain": [
       "array([[1, 1, 1, 1],\n",
       "       [1, 1, 1, 1],\n",
       "       [1, 1, 1, 1]])"
      ]
     },
     "execution_count": 31,
     "metadata": {},
     "output_type": "execute_result"
    }
   ],
   "source": [
    "np.random.choice([0,1],p = [0,1],size=(3,4))"
   ]
  },
  {
   "cell_type": "code",
   "execution_count": 32,
   "id": "bc7c678b",
   "metadata": {},
   "outputs": [],
   "source": [
    "x = np.random.choice([3, 5, 7, 9], p=[0.25, 0.25, 0.25, 0.25], size=(5,6))"
   ]
  },
  {
   "cell_type": "code",
   "execution_count": 33,
   "id": "3794a044",
   "metadata": {},
   "outputs": [
    {
     "data": {
      "text/plain": [
       "array([[5, 9, 5, 9, 7, 9],\n",
       "       [7, 7, 7, 9, 7, 5],\n",
       "       [7, 3, 5, 7, 5, 7],\n",
       "       [5, 3, 5, 7, 7, 7],\n",
       "       [7, 7, 5, 9, 5, 5]])"
      ]
     },
     "execution_count": 33,
     "metadata": {},
     "output_type": "execute_result"
    }
   ],
   "source": [
    "x\n",
    "\n",
    "## uniform distribution"
   ]
  },
  {
   "cell_type": "markdown",
   "id": "0aaf997a",
   "metadata": {},
   "source": [
    "# Random Data Distributions\n",
    "- A random distribution is a set of random numbers that follows a certain probability density function\n",
    "\n",
    "- density function: that describes a continuous probability"
   ]
  },
  {
   "cell_type": "markdown",
   "id": "ad6d6469",
   "metadata": {},
   "source": [
    "# UNIFORM DISTRIBUTION"
   ]
  },
  {
   "cell_type": "code",
   "execution_count": 34,
   "id": "a4f0dd7d",
   "metadata": {},
   "outputs": [],
   "source": [
    "x = np.random.uniform(1,10,100000)"
   ]
  },
  {
   "cell_type": "code",
   "execution_count": 35,
   "id": "b5708469",
   "metadata": {},
   "outputs": [
    {
     "data": {
      "text/plain": [
       "array([9.0273102 , 8.2557459 , 7.33499725, ..., 4.39477019, 7.75958119,\n",
       "       9.12598244])"
      ]
     },
     "execution_count": 35,
     "metadata": {},
     "output_type": "execute_result"
    }
   ],
   "source": [
    "x"
   ]
  },
  {
   "cell_type": "code",
   "execution_count": 36,
   "id": "3f72edb4",
   "metadata": {},
   "outputs": [],
   "source": [
    "import matplotlib.pyplot as plt\n",
    "import seaborn as sns"
   ]
  },
  {
   "cell_type": "code",
   "execution_count": 39,
   "id": "1386c19c",
   "metadata": {},
   "outputs": [
    {
     "data": {
      "text/plain": [
       "<Axes: ylabel='Count'>"
      ]
     },
     "execution_count": 39,
     "metadata": {},
     "output_type": "execute_result"
    },
    {
     "data": {
      "image/png": "[encoded data removed]",
      "text/plain": [
       "<Figure size 640x480 with 1 Axes>"
      ]
     },
     "metadata": {},
     "output_type": "display_data"
    }
   ],
   "source": [
    "x = np.random.uniform(1,10,100000)\n",
    "sns.histplot(x)"
   ]
  },
  {
   "cell_type": "code",
   "execution_count": 40,
   "id": "4d86daf1",
   "metadata": {},
   "outputs": [],
   "source": [
    "# create a uniform distribution of 1000 points having numbers between 5 to 10\n",
    "y = np.random.uniform(5,10,1000)"
   ]
  },
  {
   "cell_type": "code",
   "execution_count": 41,
   "id": "abbbe7da",
   "metadata": {},
   "outputs": [
    {
     "data": {
      "text/plain": [
       "<Axes: ylabel='Count'>"
      ]
     },
     "execution_count": 41,
     "metadata": {},
     "output_type": "execute_result"
    },
    {
     "data": {
      "image/png": "[encoded data removed]",
      "text/plain": [
       "<Figure size 640x480 with 1 Axes>"
      ]
     },
     "metadata": {},
     "output_type": "display_data"
    }
   ],
   "source": [
    "sns.histplot(y)"
   ]
  },
  {
   "cell_type": "code",
   "execution_count": 42,
   "id": "423138e8",
   "metadata": {},
   "outputs": [],
   "source": [
    "x = np.random.choice([1,2,3,4,5,6,7,8,9,10], p =[0.1,0.1,0.1,0.1,0.1,0.1,0.1,0.1,0.1,0.1], size = 10000)"
   ]
  },
  {
   "cell_type": "code",
   "execution_count": 43,
   "id": "4cf0a381",
   "metadata": {},
   "outputs": [
    {
     "data": {
      "text/plain": [
       "<Axes: ylabel='Count'>"
      ]
     },
     "execution_count": 43,
     "metadata": {},
     "output_type": "execute_result"
    },
    {
     "data": {
      "image/png": "[encoded data removed]",
      "text/plain": [
       "<Figure size 640x480 with 1 Axes>"
      ]
     },
     "metadata": {},
     "output_type": "display_data"
    }
   ],
   "source": [
    "sns.histplot(x)"
   ]
  },
  {
   "cell_type": "code",
   "execution_count": 44,
   "id": "36655d45",
   "metadata": {},
   "outputs": [
    {
     "data": {
      "text/plain": [
       "<Axes: ylabel='Count'>"
      ]
     },
     "execution_count": 44,
     "metadata": {},
     "output_type": "execute_result"
    },
    {
     "data": {
      "image/png": "[encoded data removed]",
      "text/plain": [
       "<Figure size 640x480 with 1 Axes>"
      ]
     },
     "metadata": {},
     "output_type": "display_data"
    }
   ],
   "source": [
    "y = np.random.uniform(1,10,1000)\n",
    "sns.histplot(y)"
   ]
  },
  {
   "cell_type": "markdown",
   "id": "40cb1bec",
   "metadata": {},
   "source": [
    "# NORMAL DISTRIBUTION"
   ]
  },
  {
   "cell_type": "code",
   "execution_count": 45,
   "id": "b2d6d38a",
   "metadata": {},
   "outputs": [],
   "source": [
    "w = np.random.choice([3,4,5,6,7,8,9],p=[0.05,0.1,0.2,0.3,0.2,0.1,0.05],size = 100)"
   ]
  },
  {
   "cell_type": "code",
   "execution_count": 46,
   "id": "18969db0",
   "metadata": {},
   "outputs": [
    {
     "data": {
      "text/plain": [
       "array([7, 5, 6, 8, 7, 7, 8, 5, 5, 8, 6, 3, 6, 8, 6, 7, 9, 6, 9, 6, 7, 6,\n",
       "       8, 5, 4, 8, 6, 5, 5, 7, 5, 6, 4, 3, 8, 4, 5, 7, 6, 6, 6, 8, 3, 5,\n",
       "       7, 7, 4, 5, 5, 7, 4, 8, 7, 7, 9, 7, 5, 6, 7, 5, 8, 6, 5, 4, 6, 5,\n",
       "       6, 4, 6, 7, 7, 6, 6, 8, 5, 7, 8, 6, 5, 7, 5, 4, 4, 7, 5, 8, 6, 3,\n",
       "       8, 7, 8, 6, 7, 4, 8, 6, 4, 8, 5, 6])"
      ]
     },
     "execution_count": 46,
     "metadata": {},
     "output_type": "execute_result"
    }
   ],
   "source": [
    "w"
   ]
  },
  {
   "cell_type": "code",
   "execution_count": 47,
   "id": "6a249431",
   "metadata": {},
   "outputs": [
    {
     "data": {
      "text/plain": [
       "(array([ 4., 11., 20., 24., 21., 17.,  3.]),\n",
       " array([3.        , 3.85714286, 4.71428571, 5.57142857, 6.42857143,\n",
       "        7.28571429, 8.14285714, 9.        ]),\n",
       " <BarContainer object of 7 artists>)"
      ]
     },
     "execution_count": 47,
     "metadata": {},
     "output_type": "execute_result"
    },
    {
     "data": {
      "image/png": "[encoded data removed]",
      "text/plain": [
       "<Figure size 640x480 with 1 Axes>"
      ]
     },
     "metadata": {},
     "output_type": "display_data"
    }
   ],
   "source": [
    "plt.hist(w,bins=7)"
   ]
  },
  {
   "cell_type": "code",
   "execution_count": 48,
   "id": "28ac7ab4",
   "metadata": {},
   "outputs": [
    {
     "data": {
      "text/plain": [
       "<seaborn.axisgrid.FacetGrid at 0x23636073410>"
      ]
     },
     "execution_count": 48,
     "metadata": {},
     "output_type": "execute_result"
    },
    {
     "data": {
      "image/png": "[encoded data removed]",
      "text/plain": [
       "<Figure size 500x500 with 1 Axes>"
      ]
     },
     "metadata": {},
     "output_type": "display_data"
    }
   ],
   "source": [
    "sns.displot(w,bins=7,kde =True)"
   ]
  },
  {
   "cell_type": "code",
   "execution_count": 49,
   "id": "8b72eb5e",
   "metadata": {},
   "outputs": [
    {
     "data": {
      "text/plain": [
       "6.1"
      ]
     },
     "execution_count": 49,
     "metadata": {},
     "output_type": "execute_result"
    }
   ],
   "source": [
    "w.mean()"
   ]
  },
  {
   "cell_type": "markdown",
   "id": "d8bbc971",
   "metadata": {},
   "source": [
    "# About 68% of values frawn from a normal distribution are within one standard deviation away from the mean; about 95% of values lies within 2 std, 99.7% are within 3 std"
   ]
  },
  {
   "cell_type": "code",
   "execution_count": 50,
   "id": "8a24d2f3",
   "metadata": {},
   "outputs": [
    {
     "name": "stderr",
     "output_type": "stream",
     "text": [
      "C:\\Users\\Admin\\AppData\\Local\\Temp\\ipykernel_5212\\3171852979.py:1: UserWarning: \n",
      "\n",
      "`distplot` is a deprecated function and will be removed in seaborn v0.14.0.\n",
      "\n",
      "Please adapt your code to use either `displot` (a figure-level function with\n",
      "similar flexibility) or `histplot` (an axes-level function for histograms).\n",
      "\n",
      "For a guide to updating your code to use the new functions, please see\n",
      "https://gist.github.com/mwaskom/de44147ed2974457ad6372750bbe5751\n",
      "\n",
      "  sns.distplot(np.random.normal(10,8,(10000)))\n"
     ]
    },
    {
     "data": {
      "text/plain": [
       "<Axes: ylabel='Density'>"
      ]
     },
     "execution_count": 50,
     "metadata": {},
     "output_type": "execute_result"
    },
    {
     "data": {
      "image/png": "[encoded data removed]",
      "text/plain": [
       "<Figure size 640x480 with 1 Axes>"
      ]
     },
     "metadata": {},
     "output_type": "display_data"
    }
   ],
   "source": [
    "sns.distplot(np.random.normal(10,8,(10000)))"
   ]
  },
  {
   "cell_type": "markdown",
   "id": "d743b544",
   "metadata": {},
   "source": [
    "# np.random.normal(loc=mean,scale=standard deviation,size)"
   ]
  },
  {
   "cell_type": "code",
   "execution_count": 51,
   "id": "de02a2ba",
   "metadata": {},
   "outputs": [],
   "source": [
    "x = np.random.normal(10,5,size=(10000))\n",
    "y = np.random.normal(10,2,size=(10000))\n"
   ]
  },
  {
   "cell_type": "code",
   "execution_count": 52,
   "id": "ee3c6cd0",
   "metadata": {},
   "outputs": [
    {
     "name": "stderr",
     "output_type": "stream",
     "text": [
      "C:\\Users\\Admin\\AppData\\Local\\Temp\\ipykernel_5212\\3392132004.py:3: UserWarning: \n",
      "\n",
      "`distplot` is a deprecated function and will be removed in seaborn v0.14.0.\n",
      "\n",
      "Please adapt your code to use either `displot` (a figure-level function with\n",
      "similar flexibility) or `histplot` (an axes-level function for histograms).\n",
      "\n",
      "For a guide to updating your code to use the new functions, please see\n",
      "https://gist.github.com/mwaskom/de44147ed2974457ad6372750bbe5751\n",
      "\n",
      "  sns.distplot(x)\n",
      "C:\\Users\\Admin\\AppData\\Local\\Temp\\ipykernel_5212\\3392132004.py:4: UserWarning: \n",
      "\n",
      "`distplot` is a deprecated function and will be removed in seaborn v0.14.0.\n",
      "\n",
      "Please adapt your code to use either `displot` (a figure-level function with\n",
      "similar flexibility) or `histplot` (an axes-level function for histograms).\n",
      "\n",
      "For a guide to updating your code to use the new functions, please see\n",
      "https://gist.github.com/mwaskom/de44147ed2974457ad6372750bbe5751\n",
      "\n",
      "  sns.distplot(y)\n"
     ]
    },
    {
     "data": {
      "image/png": "[encoded data removed]",
      "text/plain": [
       "<Figure size 640x480 with 1 Axes>"
      ]
     },
     "metadata": {},
     "output_type": "display_data"
    }
   ],
   "source": [
    "x = np.random.normal(10,5,size=(10000))\n",
    "y = np.random.normal(10,2,size=(10000))\n",
    "sns.distplot(x)\n",
    "sns.distplot(y)\n",
    "plt.grid(True)"
   ]
  },
  {
   "cell_type": "code",
   "execution_count": 53,
   "id": "2e4d4d22",
   "metadata": {},
   "outputs": [
    {
     "data": {
      "image/png": "[encoded data removed]",
      "text/plain": [
       "<Figure size 640x480 with 1 Axes>"
      ]
     },
     "metadata": {},
     "output_type": "display_data"
    }
   ],
   "source": [
    "x = np.random.normal(2,5,size=(10000))\n",
    "y = np.random.normal(10,4,size=(10000))\n",
    "plt.hist(x)\n",
    "plt.hist(y)\n",
    "plt.grid(True)"
   ]
  },
  {
   "cell_type": "code",
   "execution_count": 54,
   "id": "35df8022",
   "metadata": {},
   "outputs": [
    {
     "data": {
      "text/plain": [
       "(array([  6.,   9.,  56., 145., 228., 223., 195.,  83.,  40.,  15.]),\n",
       " array([1.90691603, 2.50039972, 3.09388341, 3.68736711, 4.2808508 ,\n",
       "        4.87433449, 5.46781818, 6.06130188, 6.65478557, 7.24826926,\n",
       "        7.84175295]),\n",
       " <BarContainer object of 10 artists>)"
      ]
     },
     "execution_count": 54,
     "metadata": {},
     "output_type": "execute_result"
    },
    {
     "data": {
      "image/png": "[encoded data removed]",
      "text/plain": [
       "<Figure size 640x480 with 1 Axes>"
      ]
     },
     "metadata": {},
     "output_type": "display_data"
    }
   ],
   "source": [
    "x = np.random.normal(5,1,size=(1000))\n",
    "plt.hist(x)"
   ]
  },
  {
   "cell_type": "markdown",
   "id": "cfd25baf",
   "metadata": {},
   "source": [
    "# Standard normal Distribution:\n",
    "Normal distribution:\n",
    "\n",
    "mean =0\n",
    "\n",
    "std =1"
   ]
  },
  {
   "cell_type": "code",
   "execution_count": 55,
   "id": "f5c17d76",
   "metadata": {},
   "outputs": [],
   "source": [
    "y = np.random.randn(10000)"
   ]
  },
  {
   "cell_type": "code",
   "execution_count": 57,
   "id": "9c3643d7",
   "metadata": {},
   "outputs": [
    {
     "data": {
      "text/plain": [
       "<Axes: ylabel='Count'>"
      ]
     },
     "execution_count": 57,
     "metadata": {},
     "output_type": "execute_result"
    },
    {
     "data": {
      "image/png": "[encoded data removed]",
      "text/plain": [
       "<Figure size 640x480 with 1 Axes>"
      ]
     },
     "metadata": {},
     "output_type": "display_data"
    }
   ],
   "source": [
    "sns.histplot(y)"
   ]
  },
  {
   "cell_type": "markdown",
   "id": "5e3321a2",
   "metadata": {},
   "source": [
    "# Some extra numpy functions"
   ]
  },
  {
   "cell_type": "code",
   "execution_count": 58,
   "id": "5030e999",
   "metadata": {},
   "outputs": [
    {
     "ename": "ZeroDivisionError",
     "evalue": "division by zero",
     "output_type": "error",
     "traceback": [
      "\u001b[1;31m---------------------------------------------------------------------------\u001b[0m",
      "\u001b[1;31mZeroDivisionError\u001b[0m                         Traceback (most recent call last)",
      "Cell \u001b[1;32mIn[58], line 1\u001b[0m\n\u001b[1;32m----> 1\u001b[0m \u001b[38;5;241m23\u001b[39m\u001b[38;5;241m/\u001b[39m\u001b[38;5;241m0\u001b[39m\n",
      "\u001b[1;31mZeroDivisionError\u001b[0m: division by zero"
     ]
    }
   ],
   "source": [
    "23/0"
   ]
  },
  {
   "cell_type": "code",
   "execution_count": 59,
   "id": "3d57e159",
   "metadata": {},
   "outputs": [
    {
     "name": "stderr",
     "output_type": "stream",
     "text": [
      "C:\\Users\\Admin\\AppData\\Local\\Temp\\ipykernel_5212\\1465454423.py:1: RuntimeWarning: divide by zero encountered in divide\n",
      "  np.array(23)/0\n"
     ]
    },
    {
     "data": {
      "text/plain": [
       "inf"
      ]
     },
     "execution_count": 59,
     "metadata": {},
     "output_type": "execute_result"
    }
   ],
   "source": [
    "np.array(23)/0"
   ]
  },
  {
   "cell_type": "code",
   "execution_count": 60,
   "id": "107be03e",
   "metadata": {},
   "outputs": [
    {
     "data": {
      "text/plain": [
       "inf"
      ]
     },
     "execution_count": 60,
     "metadata": {},
     "output_type": "execute_result"
    }
   ],
   "source": [
    "np.inf"
   ]
  },
  {
   "cell_type": "code",
   "execution_count": 61,
   "id": "162fa597",
   "metadata": {},
   "outputs": [
    {
     "data": {
      "text/plain": [
       "nan"
      ]
     },
     "execution_count": 61,
     "metadata": {},
     "output_type": "execute_result"
    }
   ],
   "source": [
    "np.nan"
   ]
  },
  {
   "cell_type": "markdown",
   "id": "943fe235",
   "metadata": {},
   "source": [
    "# ## Dot product"
   ]
  },
  {
   "cell_type": "code",
   "execution_count": 62,
   "id": "05ba357f",
   "metadata": {},
   "outputs": [],
   "source": [
    "ara = np.array([3,4,6])\n",
    "arb= np.array([2,3,5])"
   ]
  },
  {
   "cell_type": "code",
   "execution_count": 63,
   "id": "9fc2efc8",
   "metadata": {},
   "outputs": [
    {
     "data": {
      "text/plain": [
       "array([3, 4, 6])"
      ]
     },
     "execution_count": 63,
     "metadata": {},
     "output_type": "execute_result"
    }
   ],
   "source": [
    "ara"
   ]
  },
  {
   "cell_type": "code",
   "execution_count": 64,
   "id": "e324675d",
   "metadata": {},
   "outputs": [
    {
     "data": {
      "text/plain": [
       "array([2, 3, 5])"
      ]
     },
     "execution_count": 64,
     "metadata": {},
     "output_type": "execute_result"
    }
   ],
   "source": [
    "arb"
   ]
  },
  {
   "cell_type": "code",
   "execution_count": 65,
   "id": "91681101",
   "metadata": {},
   "outputs": [
    {
     "data": {
      "text/plain": [
       "array([3, 4, 6])"
      ]
     },
     "execution_count": 65,
     "metadata": {},
     "output_type": "execute_result"
    }
   ],
   "source": [
    "ara"
   ]
  },
  {
   "cell_type": "code",
   "execution_count": 66,
   "id": "2eb73a7b",
   "metadata": {},
   "outputs": [
    {
     "data": {
      "text/plain": [
       "array([ 5,  7, 11])"
      ]
     },
     "execution_count": 66,
     "metadata": {},
     "output_type": "execute_result"
    }
   ],
   "source": [
    "ara+arb"
   ]
  },
  {
   "cell_type": "code",
   "execution_count": 67,
   "id": "f4dce411",
   "metadata": {},
   "outputs": [
    {
     "data": {
      "text/plain": [
       "48"
      ]
     },
     "execution_count": 67,
     "metadata": {},
     "output_type": "execute_result"
    }
   ],
   "source": [
    "ara.dot(arb)"
   ]
  },
  {
   "cell_type": "code",
   "execution_count": 68,
   "id": "9a17f3c4",
   "metadata": {},
   "outputs": [
    {
     "data": {
      "text/plain": [
       "array([[1, 2, 3, 4],\n",
       "       [5, 6, 7, 8]])"
      ]
     },
     "execution_count": 68,
     "metadata": {},
     "output_type": "execute_result"
    }
   ],
   "source": [
    "#Transpose\n",
    "are = np.array([[1,2,3,4],[5,6,7,8]])\n",
    "are"
   ]
  },
  {
   "cell_type": "code",
   "execution_count": 69,
   "id": "fbb73de8",
   "metadata": {},
   "outputs": [],
   "source": [
    "ap = are.T"
   ]
  },
  {
   "cell_type": "code",
   "execution_count": 70,
   "id": "a523d0b3",
   "metadata": {},
   "outputs": [
    {
     "data": {
      "text/plain": [
       "array([[1, 5],\n",
       "       [2, 6],\n",
       "       [3, 7],\n",
       "       [4, 8]])"
      ]
     },
     "execution_count": 70,
     "metadata": {},
     "output_type": "execute_result"
    }
   ],
   "source": [
    "ap"
   ]
  },
  {
   "cell_type": "code",
   "execution_count": 71,
   "id": "65e72b06",
   "metadata": {},
   "outputs": [
    {
     "data": {
      "text/plain": [
       "array([[ 30,  70],\n",
       "       [ 70, 174]])"
      ]
     },
     "execution_count": 71,
     "metadata": {},
     "output_type": "execute_result"
    }
   ],
   "source": [
    "are.dot(ap)"
   ]
  },
  {
   "cell_type": "markdown",
   "id": "ad9bfd1b",
   "metadata": {},
   "source": [
    "# # miin,max"
   ]
  },
  {
   "cell_type": "code",
   "execution_count": 72,
   "id": "b0c11873",
   "metadata": {},
   "outputs": [],
   "source": [
    "ard = np.array([1,2,4,6,7,8,9,-12,-45,-110,556,342])"
   ]
  },
  {
   "cell_type": "code",
   "execution_count": 73,
   "id": "31a422d8",
   "metadata": {},
   "outputs": [
    {
     "data": {
      "text/plain": [
       "array([   1,    2,    4,    6,    7,    8,    9,  -12,  -45, -110,  556,\n",
       "        342])"
      ]
     },
     "execution_count": 73,
     "metadata": {},
     "output_type": "execute_result"
    }
   ],
   "source": [
    "ard"
   ]
  },
  {
   "cell_type": "code",
   "execution_count": 74,
   "id": "c9b32973",
   "metadata": {},
   "outputs": [
    {
     "data": {
      "text/plain": [
       "-110"
      ]
     },
     "execution_count": 74,
     "metadata": {},
     "output_type": "execute_result"
    }
   ],
   "source": [
    "ard.min()"
   ]
  },
  {
   "cell_type": "code",
   "execution_count": 75,
   "id": "e5d90d73",
   "metadata": {},
   "outputs": [
    {
     "data": {
      "text/plain": [
       "556"
      ]
     },
     "execution_count": 75,
     "metadata": {},
     "output_type": "execute_result"
    }
   ],
   "source": [
    "ard.max()"
   ]
  },
  {
   "cell_type": "code",
   "execution_count": 76,
   "id": "843db135",
   "metadata": {},
   "outputs": [
    {
     "data": {
      "text/plain": [
       "9"
      ]
     },
     "execution_count": 76,
     "metadata": {},
     "output_type": "execute_result"
    }
   ],
   "source": [
    "ard.argmin()"
   ]
  },
  {
   "cell_type": "code",
   "execution_count": 77,
   "id": "9a55295d",
   "metadata": {},
   "outputs": [
    {
     "data": {
      "text/plain": [
       "10"
      ]
     },
     "execution_count": 77,
     "metadata": {},
     "output_type": "execute_result"
    }
   ],
   "source": [
    "ard.argmax()"
   ]
  },
  {
   "cell_type": "code",
   "execution_count": 78,
   "id": "583f6216",
   "metadata": {},
   "outputs": [],
   "source": [
    "ard.sort()"
   ]
  },
  {
   "cell_type": "code",
   "execution_count": 79,
   "id": "cb6e4762",
   "metadata": {},
   "outputs": [
    {
     "data": {
      "text/plain": [
       "array([-110,  -45,  -12,    1,    2,    4,    6,    7,    8,    9,  342,\n",
       "        556])"
      ]
     },
     "execution_count": 79,
     "metadata": {},
     "output_type": "execute_result"
    }
   ],
   "source": [
    "ard\n"
   ]
  },
  {
   "cell_type": "code",
   "execution_count": 80,
   "id": "ae8344ec",
   "metadata": {},
   "outputs": [
    {
     "data": {
      "text/plain": [
       "64.0"
      ]
     },
     "execution_count": 80,
     "metadata": {},
     "output_type": "execute_result"
    }
   ],
   "source": [
    "ard.mean()"
   ]
  },
  {
   "cell_type": "code",
   "execution_count": 81,
   "id": "40857395",
   "metadata": {},
   "outputs": [
    {
     "data": {
      "text/plain": [
       "180.61653671060503"
      ]
     },
     "execution_count": 81,
     "metadata": {},
     "output_type": "execute_result"
    }
   ],
   "source": [
    "ard.std()"
   ]
  },
  {
   "cell_type": "code",
   "execution_count": null,
   "id": "e9f754fd",
   "metadata": {},
   "outputs": [],
   "source": []
  }
 ],
 "metadata": {
  "kernelspec": {
   "display_name": "Python 3 (ipykernel)",
   "language": "python",
   "name": "python3"
  },
  "language_info": {
   "codemirror_mode": {
    "name": "ipython",
    "version": 3
   },
   "file_extension": ".py",
   "mimetype": "text/x-python",
   "name": "python",
   "nbconvert_exporter": "python",
   "pygments_lexer": "ipython3",
   "version": "3.11.4"
  }
 },
 "nbformat": 4,
 "nbformat_minor": 5
}
