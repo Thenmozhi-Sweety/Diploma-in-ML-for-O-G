{
 "cells": [
  {
   "cell_type": "markdown",
   "id": "5734b263",
   "metadata": {},
   "source": [
    "# DICTIONARY\n",
    "\n",
    "1. KEYS: VALUES\n",
    "2. {} => keys : values pairs\n",
    "3. can store dict,tuples,lists,str,int,floats in values\n",
    "4. helps in storing data with Labels"
   ]
  },
  {
   "cell_type": "code",
   "execution_count": 1,
   "id": "7f87c682",
   "metadata": {},
   "outputs": [],
   "source": [
    "d = {}"
   ]
  },
  {
   "cell_type": "code",
   "execution_count": 2,
   "id": "f3134dac",
   "metadata": {},
   "outputs": [
    {
     "data": {
      "text/plain": [
       "dict"
      ]
     },
     "execution_count": 2,
     "metadata": {},
     "output_type": "execute_result"
    }
   ],
   "source": [
    "type(d)"
   ]
  },
  {
   "cell_type": "code",
   "execution_count": 3,
   "id": "92a9aac1",
   "metadata": {},
   "outputs": [],
   "source": [
    "s = {5}"
   ]
  },
  {
   "cell_type": "code",
   "execution_count": 4,
   "id": "37f43394",
   "metadata": {},
   "outputs": [
    {
     "data": {
      "text/plain": [
       "set"
      ]
     },
     "execution_count": 4,
     "metadata": {},
     "output_type": "execute_result"
    }
   ],
   "source": [
    "type(s)"
   ]
  },
  {
   "cell_type": "code",
   "execution_count": 6,
   "id": "75f47030",
   "metadata": {},
   "outputs": [],
   "source": [
    "d = {\"name\":\"HONEY SWEETY\",\"number\": 622503514624,\"mail.id\":\"honey@123\"}"
   ]
  },
  {
   "cell_type": "code",
   "execution_count": 7,
   "id": "00544e8f",
   "metadata": {},
   "outputs": [
    {
     "data": {
      "text/plain": [
       "dict"
      ]
     },
     "execution_count": 7,
     "metadata": {},
     "output_type": "execute_result"
    }
   ],
   "source": [
    "type(d)"
   ]
  },
  {
   "cell_type": "code",
   "execution_count": 8,
   "id": "76e4cd73",
   "metadata": {},
   "outputs": [],
   "source": [
    "rockprop = {\"poro\": 34,\"perm\": 98,\"litho\":\"limestone\"}"
   ]
  },
  {
   "cell_type": "code",
   "execution_count": 9,
   "id": "750f63c2",
   "metadata": {},
   "outputs": [
    {
     "data": {
      "text/plain": [
       "{'poro': 34, 'perm': 98, 'litho': 'limestone'}"
      ]
     },
     "execution_count": 9,
     "metadata": {},
     "output_type": "execute_result"
    }
   ],
   "source": [
    "rockprop"
   ]
  },
  {
   "cell_type": "markdown",
   "id": "9207566e",
   "metadata": {},
   "source": [
    "# # keys must be unique\n",
    ". if keys are dulpicated, the value will be updated to the latest data"
   ]
  },
  {
   "cell_type": "code",
   "execution_count": 10,
   "id": "ac12e664",
   "metadata": {},
   "outputs": [],
   "source": [
    "rock = {\"litho\": \"limestone\",\"litho\":\"sandstone\"}"
   ]
  },
  {
   "cell_type": "code",
   "execution_count": 11,
   "id": "487a9aee",
   "metadata": {},
   "outputs": [
    {
     "data": {
      "text/plain": [
       "{'litho': 'sandstone'}"
      ]
     },
     "execution_count": 11,
     "metadata": {},
     "output_type": "execute_result"
    }
   ],
   "source": [
    "rock"
   ]
  },
  {
   "cell_type": "code",
   "execution_count": 12,
   "id": "96b5b08a",
   "metadata": {},
   "outputs": [],
   "source": [
    "## integer are allowed as a keys"
   ]
  },
  {
   "cell_type": "code",
   "execution_count": 13,
   "id": "706ddfd9",
   "metadata": {},
   "outputs": [],
   "source": [
    "bike = {456765566: \"THHRSHBATHYRTH\",5537334588:\"GHETYJHFDH\"}"
   ]
  },
  {
   "cell_type": "code",
   "execution_count": 14,
   "id": "b856e465",
   "metadata": {},
   "outputs": [
    {
     "data": {
      "text/plain": [
       "{456765566: 'THHRSHBATHYRTH', 5537334588: 'GHETYJHFDH'}"
      ]
     },
     "execution_count": 14,
     "metadata": {},
     "output_type": "execute_result"
    }
   ],
   "source": [
    "bike"
   ]
  },
  {
   "cell_type": "code",
   "execution_count": 15,
   "id": "f7abae84",
   "metadata": {},
   "outputs": [],
   "source": [
    "## special characters are not allowed as a keys "
   ]
  },
  {
   "cell_type": "code",
   "execution_count": 16,
   "id": "2616891e",
   "metadata": {},
   "outputs": [
    {
     "ename": "SyntaxError",
     "evalue": "invalid syntax (290118921.py, line 1)",
     "output_type": "error",
     "traceback": [
      "\u001b[1;36m  Cell \u001b[1;32mIn[16], line 1\u001b[1;36m\u001b[0m\n\u001b[1;33m    kinetic = {%$^^%^&^:5654566,%$^&*^^%&*:4567898}\u001b[0m\n\u001b[1;37m               ^\u001b[0m\n\u001b[1;31mSyntaxError\u001b[0m\u001b[1;31m:\u001b[0m invalid syntax\n"
     ]
    }
   ],
   "source": [
    "kinetic = {%$^^%^&^:5654566,%$^&*^^%&*:4567898}"
   ]
  },
  {
   "cell_type": "code",
   "execution_count": 17,
   "id": "3143494f",
   "metadata": {},
   "outputs": [],
   "source": [
    "## float ,int ,str are allowed as a keys"
   ]
  },
  {
   "cell_type": "code",
   "execution_count": 18,
   "id": "ea571467",
   "metadata": {},
   "outputs": [],
   "source": [
    "hike = {548.67: 'gfjhk',\"duke\":\"jtug\"}"
   ]
  },
  {
   "cell_type": "code",
   "execution_count": 19,
   "id": "e86577a6",
   "metadata": {},
   "outputs": [
    {
     "data": {
      "text/plain": [
       "{548.67: 'gfjhk', 'duke': 'jtug'}"
      ]
     },
     "execution_count": 19,
     "metadata": {},
     "output_type": "execute_result"
    }
   ],
   "source": [
    "hike"
   ]
  },
  {
   "cell_type": "code",
   "execution_count": 20,
   "id": "7ffe0dc0",
   "metadata": {},
   "outputs": [],
   "source": [
    "kinetic = {\"%$^^%^&^\":5654566,\"%$^&*^^%&*\":4567898}"
   ]
  },
  {
   "cell_type": "code",
   "execution_count": 21,
   "id": "bbb75fed",
   "metadata": {},
   "outputs": [
    {
     "data": {
      "text/plain": [
       "{'%$^^%^&^': 5654566, '%$^&*^^%&*': 4567898}"
      ]
     },
     "execution_count": 21,
     "metadata": {},
     "output_type": "execute_result"
    }
   ],
   "source": [
    "kinetic"
   ]
  },
  {
   "cell_type": "code",
   "execution_count": 22,
   "id": "c46063ff",
   "metadata": {},
   "outputs": [],
   "source": [
    "## values can be anything it can be a list, tuple ,set, or anything "
   ]
  },
  {
   "cell_type": "code",
   "execution_count": 27,
   "id": "b1700403",
   "metadata": {},
   "outputs": [],
   "source": [
    "di = {\"_34543\": \"namme\",\"lime\":\"poro\",\"drill\":[23,465,5676,56,\"fef\",\"cvdfb\",\"dfwav\"],\"sets\": {'s':'suckling','t':\"bitting\"},\"oil_prd\": (43.34,34,55,67.354)}"
   ]
  },
  {
   "cell_type": "code",
   "execution_count": 28,
   "id": "7dc09f80",
   "metadata": {},
   "outputs": [
    {
     "data": {
      "text/plain": [
       "{'_34543': 'namme',\n",
       " 'lime': 'poro',\n",
       " 'drill': [23, 465, 5676, 56, 'fef', 'cvdfb', 'dfwav'],\n",
       " 'sets': {'s': 'suckling', 't': 'bitting'},\n",
       " 'oil_prd': (43.34, 34, 55, 67.354)}"
      ]
     },
     "execution_count": 28,
     "metadata": {},
     "output_type": "execute_result"
    }
   ],
   "source": [
    "di"
   ]
  },
  {
   "cell_type": "markdown",
   "id": "60697107",
   "metadata": {},
   "source": [
    "# accessing data from a dict"
   ]
  },
  {
   "cell_type": "code",
   "execution_count": 29,
   "id": "79b895d3",
   "metadata": {},
   "outputs": [],
   "source": [
    "a =[23,35,6,323,'poro','fox',67]"
   ]
  },
  {
   "cell_type": "code",
   "execution_count": 30,
   "id": "622193f4",
   "metadata": {},
   "outputs": [
    {
     "data": {
      "text/plain": [
       "list"
      ]
     },
     "execution_count": 30,
     "metadata": {},
     "output_type": "execute_result"
    }
   ],
   "source": [
    "type(a)"
   ]
  },
  {
   "cell_type": "code",
   "execution_count": 31,
   "id": "ff5f06f5",
   "metadata": {},
   "outputs": [
    {
     "data": {
      "text/plain": [
       "[23, 35, 6, 323, 'poro', 'fox', 67]"
      ]
     },
     "execution_count": 31,
     "metadata": {},
     "output_type": "execute_result"
    }
   ],
   "source": [
    "a"
   ]
  },
  {
   "cell_type": "code",
   "execution_count": 32,
   "id": "df7685d8",
   "metadata": {},
   "outputs": [
    {
     "data": {
      "text/plain": [
       "'poro'"
      ]
     },
     "execution_count": 32,
     "metadata": {},
     "output_type": "execute_result"
    }
   ],
   "source": [
    "a[-3]"
   ]
  },
  {
   "cell_type": "code",
   "execution_count": 33,
   "id": "a0e18eec",
   "metadata": {},
   "outputs": [],
   "source": [
    "rockprop = {\"poro\": 34,\"perm\": 98,\"litho\":\"limestone\"}"
   ]
  },
  {
   "cell_type": "code",
   "execution_count": 34,
   "id": "4f6fda79",
   "metadata": {},
   "outputs": [
    {
     "data": {
      "text/plain": [
       "{'poro': 34, 'perm': 98, 'litho': 'limestone'}"
      ]
     },
     "execution_count": 34,
     "metadata": {},
     "output_type": "execute_result"
    }
   ],
   "source": [
    "rockprop"
   ]
  },
  {
   "cell_type": "code",
   "execution_count": 35,
   "id": "4e669638",
   "metadata": {},
   "outputs": [
    {
     "data": {
      "text/plain": [
       "'limestone'"
      ]
     },
     "execution_count": 35,
     "metadata": {},
     "output_type": "execute_result"
    }
   ],
   "source": [
    "rockprop['litho']"
   ]
  },
  {
   "cell_type": "code",
   "execution_count": 36,
   "id": "63be82ae",
   "metadata": {},
   "outputs": [
    {
     "ename": "KeyError",
     "evalue": "0",
     "output_type": "error",
     "traceback": [
      "\u001b[1;31m---------------------------------------------------------------------------\u001b[0m",
      "\u001b[1;31mKeyError\u001b[0m                                  Traceback (most recent call last)",
      "Cell \u001b[1;32mIn[36], line 1\u001b[0m\n\u001b[1;32m----> 1\u001b[0m rockprop[\u001b[38;5;241m0\u001b[39m]\n",
      "\u001b[1;31mKeyError\u001b[0m: 0"
     ]
    }
   ],
   "source": [
    "rockprop[0]"
   ]
  },
  {
   "cell_type": "code",
   "execution_count": 37,
   "id": "cc84a89b",
   "metadata": {},
   "outputs": [],
   "source": [
    "## dict is mutable in nature"
   ]
  },
  {
   "cell_type": "code",
   "execution_count": 38,
   "id": "abbf69ed",
   "metadata": {},
   "outputs": [
    {
     "data": {
      "text/plain": [
       "{'_34543': 'namme',\n",
       " 'lime': 'poro',\n",
       " 'drill': [23, 465, 5676, 56, 'fef', 'cvdfb', 'dfwav'],\n",
       " 'sets': {'s': 'suckling', 't': 'bitting'},\n",
       " 'oil_prd': (43.34, 34, 55, 67.354)}"
      ]
     },
     "execution_count": 38,
     "metadata": {},
     "output_type": "execute_result"
    }
   ],
   "source": [
    "di"
   ]
  },
  {
   "cell_type": "code",
   "execution_count": 39,
   "id": "f2ad5fb7",
   "metadata": {},
   "outputs": [
    {
     "data": {
      "text/plain": [
       "43.34"
      ]
     },
     "execution_count": 39,
     "metadata": {},
     "output_type": "execute_result"
    }
   ],
   "source": [
    "di['oil_prd'][0]"
   ]
  },
  {
   "cell_type": "code",
   "execution_count": 40,
   "id": "9230cbf0",
   "metadata": {},
   "outputs": [
    {
     "data": {
      "text/plain": [
       "'bitting'"
      ]
     },
     "execution_count": 40,
     "metadata": {},
     "output_type": "execute_result"
    }
   ],
   "source": [
    "di['sets']['t']"
   ]
  },
  {
   "cell_type": "code",
   "execution_count": 41,
   "id": "c6e79906",
   "metadata": {},
   "outputs": [
    {
     "data": {
      "text/plain": [
       "'fef'"
      ]
     },
     "execution_count": 41,
     "metadata": {},
     "output_type": "execute_result"
    }
   ],
   "source": [
    "di['drill'][4]"
   ]
  },
  {
   "cell_type": "code",
   "execution_count": 42,
   "id": "17446a7c",
   "metadata": {},
   "outputs": [
    {
     "data": {
      "text/plain": [
       "'poro'"
      ]
     },
     "execution_count": 42,
     "metadata": {},
     "output_type": "execute_result"
    }
   ],
   "source": [
    "di['lime']"
   ]
  },
  {
   "cell_type": "code",
   "execution_count": 43,
   "id": "50aa7f4f",
   "metadata": {},
   "outputs": [
    {
     "data": {
      "text/plain": [
       "'namme'"
      ]
     },
     "execution_count": 43,
     "metadata": {},
     "output_type": "execute_result"
    }
   ],
   "source": [
    "di['_34543']"
   ]
  },
  {
   "cell_type": "code",
   "execution_count": 49,
   "id": "ef53e164",
   "metadata": {},
   "outputs": [],
   "source": [
    "rock_prop = {\"rock_a\": {'porosity': 0.67,'permeability':34.2,'lithology':'sandstone'},\n",
    "            \"rock_b\": {'porosity': 0.28,'permeability':78.2,'lithology':'limestone'},\n",
    "            \"rock_c\": {'porosity': 0.92,'permeability':98.2,'lithology':'sandstone'},\n",
    "            \"rock_d\": {'porosity': 0.78,'permeability':56.2,'lithology':'shale'}}"
   ]
  },
  {
   "cell_type": "code",
   "execution_count": 50,
   "id": "7661d902",
   "metadata": {},
   "outputs": [
    {
     "data": {
      "text/plain": [
       "{'rock_a': {'porosity': 0.67, 'permeability': 34.2, 'lithology': 'sandstone'},\n",
       " 'rock_b': {'porosity': 0.28, 'permeability': 78.2, 'lithology': 'limestone'},\n",
       " 'rock_c': {'porosity': 0.92, 'permeability': 98.2, 'lithology': 'sandstone'},\n",
       " 'rock_d': {'porosity': 0.78, 'permeability': 56.2, 'lithology': 'shale'}}"
      ]
     },
     "execution_count": 50,
     "metadata": {},
     "output_type": "execute_result"
    }
   ],
   "source": [
    "rock_prop "
   ]
  },
  {
   "cell_type": "code",
   "execution_count": 51,
   "id": "0c222240",
   "metadata": {},
   "outputs": [
    {
     "data": {
      "text/plain": [
       "34.2"
      ]
     },
     "execution_count": 51,
     "metadata": {},
     "output_type": "execute_result"
    }
   ],
   "source": [
    "rock_prop['rock_a']['permeability']"
   ]
  },
  {
   "cell_type": "code",
   "execution_count": 52,
   "id": "c7ef0a05",
   "metadata": {},
   "outputs": [
    {
     "data": {
      "text/plain": [
       "{'_34543': 'namme',\n",
       " 'lime': 'poro',\n",
       " 'drill': [23, 465, 5676, 56, 'fef', 'cvdfb', 'dfwav'],\n",
       " 'sets': {'s': 'suckling', 't': 'bitting'},\n",
       " 'oil_prd': (43.34, 34, 55, 67.354)}"
      ]
     },
     "execution_count": 52,
     "metadata": {},
     "output_type": "execute_result"
    }
   ],
   "source": [
    "di"
   ]
  },
  {
   "cell_type": "code",
   "execution_count": 53,
   "id": "c0cc7c7d",
   "metadata": {},
   "outputs": [
    {
     "data": {
      "text/plain": [
       "'bitting'"
      ]
     },
     "execution_count": 53,
     "metadata": {},
     "output_type": "execute_result"
    }
   ],
   "source": [
    "di['sets']['t']"
   ]
  },
  {
   "cell_type": "code",
   "execution_count": 54,
   "id": "a92eb6ca",
   "metadata": {},
   "outputs": [
    {
     "data": {
      "text/plain": [
       "'cvdfb'"
      ]
     },
     "execution_count": 54,
     "metadata": {},
     "output_type": "execute_result"
    }
   ],
   "source": [
    "di['drill'][-2]"
   ]
  },
  {
   "cell_type": "code",
   "execution_count": 55,
   "id": "29b85c0f",
   "metadata": {},
   "outputs": [
    {
     "data": {
      "text/plain": [
       "67.354"
      ]
     },
     "execution_count": 55,
     "metadata": {},
     "output_type": "execute_result"
    }
   ],
   "source": [
    "di['oil_prd'][-1]"
   ]
  },
  {
   "cell_type": "code",
   "execution_count": 56,
   "id": "64b990fe",
   "metadata": {},
   "outputs": [],
   "source": [
    "## tuples are allowed as a keys, but sets,lists and dict are not allowed as a keys"
   ]
  },
  {
   "cell_type": "code",
   "execution_count": 58,
   "id": "d68bb3c5",
   "metadata": {},
   "outputs": [],
   "source": [
    "ds = {(2,3,4,5):\"sdcds\"}"
   ]
  },
  {
   "cell_type": "code",
   "execution_count": 59,
   "id": "054e181f",
   "metadata": {},
   "outputs": [
    {
     "data": {
      "text/plain": [
       "{(2, 3, 4, 5): 'sdcds'}"
      ]
     },
     "execution_count": 59,
     "metadata": {},
     "output_type": "execute_result"
    }
   ],
   "source": [
    "ds"
   ]
  },
  {
   "cell_type": "code",
   "execution_count": 61,
   "id": "418e0291",
   "metadata": {},
   "outputs": [
    {
     "data": {
      "text/plain": [
       "'sdcds'"
      ]
     },
     "execution_count": 61,
     "metadata": {},
     "output_type": "execute_result"
    }
   ],
   "source": [
    "ds[(2, 3, 4, 5)]"
   ]
  },
  {
   "cell_type": "code",
   "execution_count": 62,
   "id": "61b5fb7d",
   "metadata": {},
   "outputs": [
    {
     "ename": "TypeError",
     "evalue": "unhashable type: 'list'",
     "output_type": "error",
     "traceback": [
      "\u001b[1;31m---------------------------------------------------------------------------\u001b[0m",
      "\u001b[1;31mTypeError\u001b[0m                                 Traceback (most recent call last)",
      "Cell \u001b[1;32mIn[62], line 1\u001b[0m\n\u001b[1;32m----> 1\u001b[0m ds \u001b[38;5;241m=\u001b[39m {[\u001b[38;5;241m2\u001b[39m,\u001b[38;5;241m3\u001b[39m,\u001b[38;5;241m4\u001b[39m,\u001b[38;5;241m5\u001b[39m]:\u001b[38;5;124m\"\u001b[39m\u001b[38;5;124msdcds\u001b[39m\u001b[38;5;124m\"\u001b[39m}\n",
      "\u001b[1;31mTypeError\u001b[0m: unhashable type: 'list'"
     ]
    }
   ],
   "source": [
    "ds = {[2,3,4,5]:\"sdcds\"}"
   ]
  },
  {
   "cell_type": "code",
   "execution_count": 63,
   "id": "a39ae8d6",
   "metadata": {},
   "outputs": [],
   "source": [
    "d1 = {'_4656':'cwc',\n",
    "     'name':'jaiyesh',\n",
    "      'n':[4345,47,235,787,778,3,47,22345674,873,(2,3,4,5,56,78,88,54)],\n",
    "      'M':(2,3,4,5),\n",
    "      'F':{11:'dcd',456:'dvf'}}\n",
    "     "
   ]
  },
  {
   "cell_type": "code",
   "execution_count": 64,
   "id": "a9673618",
   "metadata": {},
   "outputs": [
    {
     "data": {
      "text/plain": [
       "{'_4656': 'cwc',\n",
       " 'name': 'jaiyesh',\n",
       " 'n': [4345,\n",
       "  47,\n",
       "  235,\n",
       "  787,\n",
       "  778,\n",
       "  3,\n",
       "  47,\n",
       "  22345674,\n",
       "  873,\n",
       "  (2, 3, 4, 5, 56, 78, 88, 54)],\n",
       " 'M': (2, 3, 4, 5),\n",
       " 'F': {11: 'dcd', 456: 'dvf'}}"
      ]
     },
     "execution_count": 64,
     "metadata": {},
     "output_type": "execute_result"
    }
   ],
   "source": [
    "d1"
   ]
  },
  {
   "cell_type": "code",
   "execution_count": 65,
   "id": "26bcb002",
   "metadata": {},
   "outputs": [
    {
     "data": {
      "text/plain": [
       "88"
      ]
     },
     "execution_count": 65,
     "metadata": {},
     "output_type": "execute_result"
    }
   ],
   "source": [
    "d1['n'][-1][-2]"
   ]
  },
  {
   "cell_type": "code",
   "execution_count": 66,
   "id": "e8110b19",
   "metadata": {
    "scrolled": true
   },
   "outputs": [
    {
     "data": {
      "text/plain": [
       "{'_4656': 'cwc',\n",
       " 'name': 'jaiyesh',\n",
       " 'n': [4345,\n",
       "  47,\n",
       "  235,\n",
       "  787,\n",
       "  778,\n",
       "  3,\n",
       "  47,\n",
       "  22345674,\n",
       "  873,\n",
       "  (2, 3, 4, 5, 56, 78, 88, 54)],\n",
       " 'M': (2, 3, 4, 5),\n",
       " 'F': {11: 'dcd', 456: 'dvf'}}"
      ]
     },
     "execution_count": 66,
     "metadata": {},
     "output_type": "execute_result"
    }
   ],
   "source": [
    "d1"
   ]
  },
  {
   "cell_type": "code",
   "execution_count": 67,
   "id": "642adefa",
   "metadata": {},
   "outputs": [],
   "source": [
    "d1 = {'_4656': 'cwc',\n",
    " 'name': 'jaiyesh',\n",
    " 'n': [4345,\n",
    "  47,\n",
    "  235,\n",
    "  787,\n",
    "  778,\n",
    "  3,\n",
    "  47,\n",
    "  22345674,\n",
    "  873,\n",
    "  {2, 3, 4, 5, 56, 78, 88, 54}],\n",
    " 'M': (2, 3, 4, 5),\n",
    " 'F': {11: 'dcd', 456: 'dvf'}}\n"
   ]
  },
  {
   "cell_type": "code",
   "execution_count": 68,
   "id": "2dd9034f",
   "metadata": {},
   "outputs": [
    {
     "data": {
      "text/plain": [
       "{'_4656': 'cwc',\n",
       " 'name': 'jaiyesh',\n",
       " 'n': [4345,\n",
       "  47,\n",
       "  235,\n",
       "  787,\n",
       "  778,\n",
       "  3,\n",
       "  47,\n",
       "  22345674,\n",
       "  873,\n",
       "  {2, 3, 4, 5, 54, 56, 78, 88}],\n",
       " 'M': (2, 3, 4, 5),\n",
       " 'F': {11: 'dcd', 456: 'dvf'}}"
      ]
     },
     "execution_count": 68,
     "metadata": {},
     "output_type": "execute_result"
    }
   ],
   "source": [
    "d1"
   ]
  },
  {
   "cell_type": "code",
   "execution_count": 70,
   "id": "686dcfe6",
   "metadata": {},
   "outputs": [
    {
     "ename": "TypeError",
     "evalue": "'set' object is not subscriptable",
     "output_type": "error",
     "traceback": [
      "\u001b[1;31m---------------------------------------------------------------------------\u001b[0m",
      "\u001b[1;31mTypeError\u001b[0m                                 Traceback (most recent call last)",
      "Cell \u001b[1;32mIn[70], line 1\u001b[0m\n\u001b[1;32m----> 1\u001b[0m d1[\u001b[38;5;124m'\u001b[39m\u001b[38;5;124mn\u001b[39m\u001b[38;5;124m'\u001b[39m][\u001b[38;5;241m-\u001b[39m\u001b[38;5;241m1\u001b[39m][\u001b[38;5;241m-\u001b[39m\u001b[38;5;241m7\u001b[39m]\n",
      "\u001b[1;31mTypeError\u001b[0m: 'set' object is not subscriptable"
     ]
    }
   ],
   "source": [
    "d1['n'][-1][-7]"
   ]
  },
  {
   "cell_type": "code",
   "execution_count": 71,
   "id": "8ec11731",
   "metadata": {},
   "outputs": [
    {
     "data": {
      "text/plain": [
       "3"
      ]
     },
     "execution_count": 71,
     "metadata": {},
     "output_type": "execute_result"
    }
   ],
   "source": [
    "list(d1['n'][-1])[-7]"
   ]
  },
  {
   "cell_type": "code",
   "execution_count": 72,
   "id": "6ee1b678",
   "metadata": {},
   "outputs": [],
   "source": [
    "##sets are unordered in nature so cannot be Accessible "
   ]
  },
  {
   "cell_type": "markdown",
   "id": "032d6e3b",
   "metadata": {},
   "source": [
    "# dictionaries are mutable in nature"
   ]
  },
  {
   "cell_type": "code",
   "execution_count": 73,
   "id": "cf7994ff",
   "metadata": {},
   "outputs": [
    {
     "data": {
      "text/plain": [
       "{'poro': 34, 'perm': 98, 'litho': 'limestone'}"
      ]
     },
     "execution_count": 73,
     "metadata": {},
     "output_type": "execute_result"
    }
   ],
   "source": [
    "rockprop"
   ]
  },
  {
   "cell_type": "code",
   "execution_count": 74,
   "id": "4823ea0e",
   "metadata": {},
   "outputs": [],
   "source": [
    "rockprop['litho']= 'shale'"
   ]
  },
  {
   "cell_type": "code",
   "execution_count": 75,
   "id": "bf179e42",
   "metadata": {},
   "outputs": [
    {
     "data": {
      "text/plain": [
       "{'poro': 34, 'perm': 98, 'litho': 'shale'}"
      ]
     },
     "execution_count": 75,
     "metadata": {},
     "output_type": "execute_result"
    }
   ],
   "source": [
    "rockprop"
   ]
  },
  {
   "cell_type": "code",
   "execution_count": 76,
   "id": "92955a9f",
   "metadata": {},
   "outputs": [],
   "source": [
    "rockprop['watersaturation']= 879"
   ]
  },
  {
   "cell_type": "code",
   "execution_count": 77,
   "id": "efb1dcae",
   "metadata": {},
   "outputs": [
    {
     "data": {
      "text/plain": [
       "{'poro': 34, 'perm': 98, 'litho': 'shale', 'watersaturation': 879}"
      ]
     },
     "execution_count": 77,
     "metadata": {},
     "output_type": "execute_result"
    }
   ],
   "source": [
    "rockprop"
   ]
  },
  {
   "cell_type": "code",
   "execution_count": 79,
   "id": "1e8f64e8",
   "metadata": {},
   "outputs": [
    {
     "data": {
      "text/plain": [
       "'shale'"
      ]
     },
     "execution_count": 79,
     "metadata": {},
     "output_type": "execute_result"
    }
   ],
   "source": [
    "rockprop.pop('litho')"
   ]
  },
  {
   "cell_type": "code",
   "execution_count": 80,
   "id": "fd2c9020",
   "metadata": {},
   "outputs": [
    {
     "data": {
      "text/plain": [
       "{'poro': 34, 'perm': 98, 'watersaturation': 879}"
      ]
     },
     "execution_count": 80,
     "metadata": {},
     "output_type": "execute_result"
    }
   ],
   "source": [
    "rockprop"
   ]
  },
  {
   "cell_type": "code",
   "execution_count": 81,
   "id": "6445161a",
   "metadata": {},
   "outputs": [
    {
     "data": {
      "text/plain": [
       "dict_keys(['poro', 'perm', 'watersaturation'])"
      ]
     },
     "execution_count": 81,
     "metadata": {},
     "output_type": "execute_result"
    }
   ],
   "source": [
    "rockprop.keys()"
   ]
  },
  {
   "cell_type": "code",
   "execution_count": 82,
   "id": "14c94467",
   "metadata": {},
   "outputs": [
    {
     "data": {
      "text/plain": [
       "dict_values([34, 98, 879])"
      ]
     },
     "execution_count": 82,
     "metadata": {},
     "output_type": "execute_result"
    }
   ],
   "source": [
    "rockprop.values()"
   ]
  },
  {
   "cell_type": "markdown",
   "id": "164fcfc9",
   "metadata": {},
   "source": [
    "# summary on data structures\n",
    "\n",
    "1.list = mutable in nature ,empty list are used heavily to populate it later duroimg the program, [] .\n",
    "2.tuples = immutable ,unordered,data cannot be changed, ()\n",
    "3.sets = unordered ,uniqueness of the element ,{}\n",
    "4.dict = key:value pair ,mutable,{key:value}\n",
    "\n",
    " "
   ]
  },
  {
   "cell_type": "markdown",
   "id": "e10840f3",
   "metadata": {},
   "source": [
    "# for loops"
   ]
  },
  {
   "cell_type": "markdown",
   "id": "4329bd7d",
   "metadata": {},
   "source": [
    "#tools to utilize the power of computers(iterations)\n",
    "#we can perform repetiton of a command n number of times\n",
    "#iterations are always preformed on iterables (onordered-collections: lists, tuples, dict,string,numpy,array,df)"
   ]
  },
  {
   "cell_type": "code",
   "execution_count": 84,
   "id": "47a949f5",
   "metadata": {},
   "outputs": [
    {
     "name": "stdout",
     "output_type": "stream",
     "text": [
      "0.2\n",
      "0.3\n",
      "0.4\n",
      "0.5\n",
      "0.6\n",
      "0.7\n"
     ]
    }
   ],
   "source": [
    "poro = (0.1,0.2,0.3,0.4,0.5,0.6,0.7,0.8,0.9)\n",
    "\n",
    "print(poro[1])\n",
    "print(poro[2])\n",
    "print(poro[3])\n",
    "print(poro[4])\n",
    "print(poro[5])\n",
    "print(poro[6])\n"
   ]
  },
  {
   "cell_type": "code",
   "execution_count": 87,
   "id": "212c2918",
   "metadata": {},
   "outputs": [
    {
     "name": "stdout",
     "output_type": "stream",
     "text": [
      "0.1\n",
      "0.2\n",
      "0.3\n",
      "0.4\n",
      "0.5\n",
      "0.6\n",
      "0.7\n",
      "0.8\n",
      "0.9\n"
     ]
    }
   ],
   "source": [
    "for i in poro:\n",
    "    print(i)"
   ]
  },
  {
   "cell_type": "code",
   "execution_count": 89,
   "id": "69a95d33",
   "metadata": {},
   "outputs": [],
   "source": [
    "## i is the variable\n",
    "\n",
    "## poro: is the iterable"
   ]
  },
  {
   "cell_type": "code",
   "execution_count": 91,
   "id": "f4e35c0a",
   "metadata": {},
   "outputs": [
    {
     "name": "stdout",
     "output_type": "stream",
     "text": [
      "The value of i is 0.1\n",
      "End of for loop for i = 0.1\n",
      "========================================\n",
      "The value of i is 0.2\n",
      "End of for loop for i = 0.2\n",
      "========================================\n",
      "The value of i is 0.3\n",
      "End of for loop for i = 0.3\n",
      "========================================\n",
      "The value of i is 0.4\n",
      "End of for loop for i = 0.4\n",
      "========================================\n",
      "The value of i is 0.5\n",
      "End of for loop for i = 0.5\n",
      "========================================\n",
      "The value of i is 0.6\n",
      "End of for loop for i = 0.6\n",
      "========================================\n",
      "The value of i is 0.7\n",
      "End of for loop for i = 0.7\n",
      "========================================\n",
      "The value of i is 0.8\n",
      "End of for loop for i = 0.8\n",
      "========================================\n",
      "The value of i is 0.9\n",
      "End of for loop for i = 0.9\n",
      "========================================\n"
     ]
    }
   ],
   "source": [
    "poro = (0.1,0.2,0.3,0.4,0.5,0.6,0.7,0.8,0.9)\n",
    "for i in poro:\n",
    "    print(f'The value of i is {i}')\n",
    "    print(f'End of for loop for i = {i}')\n",
    "    print('========================================')"
   ]
  },
  {
   "cell_type": "markdown",
   "id": "6baeec6c",
   "metadata": {},
   "source": [
    "# print statements are known as identation blocks"
   ]
  },
  {
   "cell_type": "code",
   "execution_count": 92,
   "id": "9978a113",
   "metadata": {},
   "outputs": [
    {
     "name": "stdout",
     "output_type": "stream",
     "text": [
      "The value of i is 0.1\n",
      "End of for loop for i = 0.1\n",
      "========================================\n",
      "Outside of for loop\n",
      "The value of i is 0.2\n",
      "End of for loop for i = 0.2\n",
      "========================================\n",
      "Outside of for loop\n",
      "The value of i is 0.3\n",
      "End of for loop for i = 0.3\n",
      "========================================\n",
      "Outside of for loop\n",
      "The value of i is 0.4\n",
      "End of for loop for i = 0.4\n",
      "========================================\n",
      "Outside of for loop\n",
      "The value of i is 0.5\n",
      "End of for loop for i = 0.5\n",
      "========================================\n",
      "Outside of for loop\n"
     ]
    }
   ],
   "source": [
    "poro = (0.1,0.2,0.3,0.4,0.5)\n",
    "for i in poro:\n",
    "    print(f'The value of i is {i}')\n",
    "    print(f'End of for loop for i = {i}')\n",
    "    print('========================================')\n",
    "    print(\"Outside of for loop\")"
   ]
  },
  {
   "cell_type": "markdown",
   "id": "dde496fc",
   "metadata": {},
   "source": [
    "# API = 141.5/SPECIFIC GRAVITY - 131.5"
   ]
  },
  {
   "cell_type": "code",
   "execution_count": 93,
   "id": "aa23fb9c",
   "metadata": {},
   "outputs": [],
   "source": [
    "specific_gravity = [0.5,0.34,0.67,0.26,1,0,89]"
   ]
  },
  {
   "cell_type": "code",
   "execution_count": 95,
   "id": "66830c7c",
   "metadata": {},
   "outputs": [
    {
     "data": {
      "text/plain": [
       "[0.5, 0.34, 0.67, 0.26, 1, 0, 89]"
      ]
     },
     "execution_count": 95,
     "metadata": {},
     "output_type": "execute_result"
    }
   ],
   "source": [
    "specific_gravity"
   ]
  },
  {
   "cell_type": "code",
   "execution_count": 96,
   "id": "5fac18b3",
   "metadata": {},
   "outputs": [
    {
     "data": {
      "text/plain": [
       "list"
      ]
     },
     "execution_count": 96,
     "metadata": {},
     "output_type": "execute_result"
    }
   ],
   "source": [
    "type(specific_gravity)"
   ]
  },
  {
   "cell_type": "code",
   "execution_count": 7,
   "id": "ec74deef",
   "metadata": {},
   "outputs": [],
   "source": [
    "specific_gravity = [0.5,0.34,0.67,0.26,1,0.9]"
   ]
  },
  {
   "cell_type": "code",
   "execution_count": 8,
   "id": "2df6f18c",
   "metadata": {},
   "outputs": [
    {
     "name": "stdout",
     "output_type": "stream",
     "text": [
      "API gravity corresponding to Specific Gravity 0.5 is 151.5\n",
      "API gravity corresponding to Specific Gravity 0.34 is 284.67647058823525\n",
      "API gravity corresponding to Specific Gravity 0.67 is 79.69402985074626\n",
      "API gravity corresponding to Specific Gravity 0.26 is 412.73076923076917\n",
      "API gravity corresponding to Specific Gravity 1 is 10.0\n",
      "API gravity corresponding to Specific Gravity 0.9 is 25.72222222222223\n"
     ]
    }
   ],
   "source": [
    "for i in specific_gravity:\n",
    "    api = (141.5/i) - 131.5\n",
    "    print(f\"API gravity corresponding to Specific Gravity {i} is {api}\")"
   ]
  },
  {
   "cell_type": "code",
   "execution_count": 4,
   "id": "d9111423",
   "metadata": {},
   "outputs": [],
   "source": [
    "specific_gravity = [0.5,0.34,0.67,0.26,1,0.89]"
   ]
  },
  {
   "cell_type": "code",
   "execution_count": 9,
   "id": "bab868f2",
   "metadata": {},
   "outputs": [
    {
     "name": "stdout",
     "output_type": "stream",
     "text": [
      "API gravity corresponding to Specific Gravity 0.5 is 151.5\n",
      "API gravity corresponding to Specific Gravity 0.34 is 284.67647058823525\n",
      "API gravity corresponding to Specific Gravity 0.67 is 79.69402985074626\n",
      "API gravity corresponding to Specific Gravity 0.26 is 412.73076923076917\n",
      "API gravity corresponding to Specific Gravity 1 is 10.0\n",
      "API gravity corresponding to Specific Gravity 0.9 is 25.72222222222223\n"
     ]
    }
   ],
   "source": [
    "for i in specific_gravity:\n",
    "    api = (141.5/i) - 131.5\n",
    "    print(f\"API gravity corresponding to Specific Gravity {i} is {api}\")"
   ]
  },
  {
   "cell_type": "code",
   "execution_count": 10,
   "id": "6d03d8d0",
   "metadata": {},
   "outputs": [
    {
     "name": "stdout",
     "output_type": "stream",
     "text": [
      "API gravity corresponding to Specific Gravity {i} is {api}\n",
      "API gravity corresponding to Specific Gravity {i} is {api}\n",
      "API gravity corresponding to Specific Gravity {i} is {api}\n",
      "API gravity corresponding to Specific Gravity {i} is {api}\n",
      "API gravity corresponding to Specific Gravity {i} is {api}\n",
      "API gravity corresponding to Specific Gravity {i} is {api}\n"
     ]
    }
   ],
   "source": [
    "for i in specific_gravity:\n",
    "    api = (141.5/i) - 131.5\n",
    "    print(\"API gravity corresponding to Specific Gravity {i} is {api}\")"
   ]
  },
  {
   "cell_type": "code",
   "execution_count": 43,
   "id": "a837b0b6",
   "metadata": {},
   "outputs": [
    {
     "name": "stdout",
     "output_type": "stream",
     "text": [
      "API gravity corresponding to Specific Gravity 0.26 is 412.73076923076917\n",
      "412.73076923076917 stored in Apigravity list\n",
      "===========================================================\n",
      "API gravity corresponding to Specific Gravity 0.34 is 284.67647058823525\n",
      "284.67647058823525 stored in Apigravity list\n",
      "===========================================================\n",
      "API gravity corresponding to Specific Gravity 0.5 is 151.5\n",
      "151.5 stored in Apigravity list\n",
      "===========================================================\n",
      "API gravity corresponding to Specific Gravity 0.67 is 79.69402985074626\n",
      "79.69402985074626 stored in Apigravity list\n",
      "===========================================================\n",
      "API gravity corresponding to Specific Gravity 0.9 is 25.72222222222223\n",
      "25.72222222222223 stored in Apigravity list\n",
      "===========================================================\n",
      "API gravity corresponding to Specific Gravity 1 is 10.0\n",
      "10.0 stored in Apigravity list\n",
      "===========================================================\n"
     ]
    }
   ],
   "source": [
    "Apigravity = []\n",
    "\n",
    "for i in specific_gravity:\n",
    "    api = (141.5/i) - 131.5\n",
    "    print(f\"API gravity corresponding to Specific Gravity {i} is {api}\")\n",
    "    Apigravity.append(api)\n",
    "    print(f\"{api} stored in Apigravity list\")\n",
    "    print(\"===========================================================\")\n",
    "          \n",
    "    \n"
   ]
  },
  {
   "cell_type": "code",
   "execution_count": 44,
   "id": "1f8283f3",
   "metadata": {},
   "outputs": [
    {
     "data": {
      "text/plain": [
       "[412.73076923076917,\n",
       " 284.67647058823525,\n",
       " 151.5,\n",
       " 79.69402985074626,\n",
       " 25.72222222222223,\n",
       " 10.0]"
      ]
     },
     "execution_count": 44,
     "metadata": {},
     "output_type": "execute_result"
    }
   ],
   "source": [
    "Apigravity"
   ]
  },
  {
   "cell_type": "code",
   "execution_count": 45,
   "id": "f7f76382",
   "metadata": {},
   "outputs": [
    {
     "data": {
      "text/plain": [
       "list"
      ]
     },
     "execution_count": 45,
     "metadata": {},
     "output_type": "execute_result"
    }
   ],
   "source": [
    "type(Apigravity)"
   ]
  },
  {
   "cell_type": "code",
   "execution_count": 46,
   "id": "e8028113",
   "metadata": {},
   "outputs": [
    {
     "data": {
      "text/plain": [
       "[412.73076923076917,\n",
       " 284.67647058823525,\n",
       " 151.5,\n",
       " 79.69402985074626,\n",
       " 25.72222222222223,\n",
       " 10.0]"
      ]
     },
     "execution_count": 46,
     "metadata": {},
     "output_type": "execute_result"
    }
   ],
   "source": [
    "Apigravity"
   ]
  },
  {
   "cell_type": "code",
   "execution_count": 19,
   "id": "a9f8e38f",
   "metadata": {},
   "outputs": [],
   "source": [
    "apigravity = []"
   ]
  },
  {
   "cell_type": "code",
   "execution_count": 20,
   "id": "7e94698b",
   "metadata": {},
   "outputs": [
    {
     "data": {
      "text/plain": [
       "list"
      ]
     },
     "execution_count": 20,
     "metadata": {},
     "output_type": "execute_result"
    }
   ],
   "source": [
    "type(apigravity)"
   ]
  },
  {
   "cell_type": "code",
   "execution_count": 21,
   "id": "89dbd020",
   "metadata": {},
   "outputs": [
    {
     "data": {
      "text/plain": [
       "[]"
      ]
     },
     "execution_count": 21,
     "metadata": {},
     "output_type": "execute_result"
    }
   ],
   "source": [
    "apigravity"
   ]
  },
  {
   "cell_type": "code",
   "execution_count": 25,
   "id": "04b5505a",
   "metadata": {},
   "outputs": [],
   "source": [
    "apigravity.append(67)"
   ]
  },
  {
   "cell_type": "code",
   "execution_count": 26,
   "id": "87243fb9",
   "metadata": {},
   "outputs": [
    {
     "data": {
      "text/plain": [
       "[67]"
      ]
     },
     "execution_count": 26,
     "metadata": {},
     "output_type": "execute_result"
    }
   ],
   "source": [
    "apigravity"
   ]
  },
  {
   "cell_type": "code",
   "execution_count": 27,
   "id": "796def50",
   "metadata": {},
   "outputs": [],
   "source": [
    "apigravity.append(45)"
   ]
  },
  {
   "cell_type": "code",
   "execution_count": 28,
   "id": "ecbb7888",
   "metadata": {},
   "outputs": [
    {
     "data": {
      "text/plain": [
       "[67, 45]"
      ]
     },
     "execution_count": 28,
     "metadata": {},
     "output_type": "execute_result"
    }
   ],
   "source": [
    "apigravity"
   ]
  },
  {
   "cell_type": "code",
   "execution_count": 38,
   "id": "6ec6f6ae",
   "metadata": {},
   "outputs": [
    {
     "name": "stdout",
     "output_type": "stream",
     "text": [
      "API gravity corresponding to Specific Gravity 0.26 is 412.73076923076917\n",
      "412.73076923076917 stored in api_gravity list\n",
      "API gravity corresponding to Specific Gravity 0.34 is 284.67647058823525\n",
      "284.67647058823525 stored in api_gravity list\n",
      "API gravity corresponding to Specific Gravity 0.5 is 151.5\n",
      "151.5 stored in api_gravity list\n",
      "API gravity corresponding to Specific Gravity 0.67 is 79.69402985074626\n",
      "79.69402985074626 stored in api_gravity list\n",
      "API gravity corresponding to Specific Gravity 0.9 is 25.72222222222223\n",
      "25.72222222222223 stored in api_gravity list\n",
      "API gravity corresponding to Specific Gravity 1 is 10.0\n",
      "10.0 stored in api_gravity list\n"
     ]
    }
   ],
   "source": [
    "api_gravity = {}\n",
    "\n",
    "for i in specific_gravity:\n",
    "    api = (141.5/i) - 131.5\n",
    "    print(f\"API gravity corresponding to Specific Gravity {i} is {api}\")\n",
    "    #apigravity.append(api)\n",
    "    api_gravity[f\"SG_{i}\"] = api\n",
    "    print(f\"{api} stored in api_gravity list\")"
   ]
  },
  {
   "cell_type": "code",
   "execution_count": 39,
   "id": "a3d5a395",
   "metadata": {},
   "outputs": [
    {
     "data": {
      "text/plain": [
       "{'SG_0.26': 412.73076923076917,\n",
       " 'SG_0.34': 284.67647058823525,\n",
       " 'SG_0.5': 151.5,\n",
       " 'SG_0.67': 79.69402985074626,\n",
       " 'SG_0.9': 25.72222222222223,\n",
       " 'SG_1': 10.0}"
      ]
     },
     "execution_count": 39,
     "metadata": {},
     "output_type": "execute_result"
    }
   ],
   "source": [
    "api_gravity"
   ]
  },
  {
   "cell_type": "code",
   "execution_count": 34,
   "id": "95720abf",
   "metadata": {},
   "outputs": [
    {
     "name": "stderr",
     "output_type": "stream",
     "text": [
      "Matplotlib is building the font cache; this may take a moment.\n"
     ]
    }
   ],
   "source": [
    "import matplotlib.pyplot as plt"
   ]
  },
  {
   "cell_type": "code",
   "execution_count": 35,
   "id": "60fad9ee",
   "metadata": {},
   "outputs": [],
   "source": [
    "specific_gravity.sort()"
   ]
  },
  {
   "cell_type": "code",
   "execution_count": 36,
   "id": "92fba00f",
   "metadata": {},
   "outputs": [
    {
     "data": {
      "text/plain": [
       "[0.26, 0.34, 0.5, 0.67, 0.9, 1]"
      ]
     },
     "execution_count": 36,
     "metadata": {},
     "output_type": "execute_result"
    }
   ],
   "source": [
    "specific_gravity"
   ]
  },
  {
   "cell_type": "code",
   "execution_count": 47,
   "id": "e13eaf7b",
   "metadata": {},
   "outputs": [],
   "source": [
    "Apigravity.sort()"
   ]
  },
  {
   "cell_type": "code",
   "execution_count": 48,
   "id": "899bd2a3",
   "metadata": {},
   "outputs": [
    {
     "data": {
      "text/plain": [
       "[10.0,\n",
       " 25.72222222222223,\n",
       " 79.69402985074626,\n",
       " 151.5,\n",
       " 284.67647058823525,\n",
       " 412.73076923076917]"
      ]
     },
     "execution_count": 48,
     "metadata": {},
     "output_type": "execute_result"
    }
   ],
   "source": [
    "Apigravity"
   ]
  },
  {
   "cell_type": "code",
   "execution_count": 49,
   "id": "2328a351",
   "metadata": {},
   "outputs": [
    {
     "data": {
      "text/plain": [
       "[<matplotlib.lines.Line2D at 0x20d56b5ce50>]"
      ]
     },
     "execution_count": 49,
     "metadata": {},
     "output_type": "execute_result"
    },
    {
     "data": {
      "image/png": "[encoded data removed]",
      "text/plain": [
       "<Figure size 640x480 with 1 Axes>"
      ]
     },
     "metadata": {},
     "output_type": "display_data"
    }
   ],
   "source": [
    "plt.plot(specific_gravity,Apigravity)"
   ]
  },
  {
   "cell_type": "code",
   "execution_count": 50,
   "id": "fbeefa41",
   "metadata": {},
   "outputs": [],
   "source": [
    "perm = [1,2,3]"
   ]
  },
  {
   "cell_type": "code",
   "execution_count": 51,
   "id": "060b1c92",
   "metadata": {},
   "outputs": [
    {
     "data": {
      "text/plain": [
       "[0.26, 0.34, 0.5, 0.67, 0.9, 1]"
      ]
     },
     "execution_count": 51,
     "metadata": {},
     "output_type": "execute_result"
    }
   ],
   "source": [
    "specific_gravity"
   ]
  },
  {
   "cell_type": "code",
   "execution_count": 53,
   "id": "52c200ea",
   "metadata": {},
   "outputs": [
    {
     "name": "stdout",
     "output_type": "stream",
     "text": [
      "Perm value is 1\n",
      "Now all the gravities will be printed\n",
      "for perm value 1, the SG value is 0.26\n",
      "for perm value 1, the SG value is 0.34\n",
      "for perm value 1, the SG value is 0.5\n",
      "for perm value 1, the SG value is 0.67\n",
      "for perm value 1, the SG value is 0.9\n",
      "for perm value 1, the SG value is 1\n",
      "===========================================================\n",
      "Perm value is 2\n",
      "Now all the gravities will be printed\n",
      "for perm value 2, the SG value is 0.26\n",
      "for perm value 2, the SG value is 0.34\n",
      "for perm value 2, the SG value is 0.5\n",
      "for perm value 2, the SG value is 0.67\n",
      "for perm value 2, the SG value is 0.9\n",
      "for perm value 2, the SG value is 1\n",
      "===========================================================\n",
      "Perm value is 3\n",
      "Now all the gravities will be printed\n",
      "for perm value 3, the SG value is 0.26\n",
      "for perm value 3, the SG value is 0.34\n",
      "for perm value 3, the SG value is 0.5\n",
      "for perm value 3, the SG value is 0.67\n",
      "for perm value 3, the SG value is 0.9\n",
      "for perm value 3, the SG value is 1\n",
      "===========================================================\n"
     ]
    }
   ],
   "source": [
    "for i in perm:\n",
    "    print(f\"Perm value is {i}\")\n",
    "    print(\"Now all the gravities will be printed\")\n",
    "    for j in specific_gravity:\n",
    "        print(f\"for perm value {i}, the SG value is {j}\")\n",
    "    print('===========================================================')"
   ]
  },
  {
   "cell_type": "markdown",
   "id": "612b24d5",
   "metadata": {},
   "source": [
    "# ZIP"
   ]
  },
  {
   "cell_type": "code",
   "execution_count": 54,
   "id": "c6a220ee",
   "metadata": {},
   "outputs": [],
   "source": [
    "perm = [1,2,3,4,5]\n",
    "specific_grav = [0.3,0.5,0.7,0.8,0.9,0.6767]\n",
    "porosity = [0.3,0.6,0.9]"
   ]
  },
  {
   "cell_type": "code",
   "execution_count": 55,
   "id": "471c5fb8",
   "metadata": {},
   "outputs": [
    {
     "data": {
      "text/plain": [
       "<zip at 0x20d56fce540>"
      ]
     },
     "execution_count": 55,
     "metadata": {},
     "output_type": "execute_result"
    }
   ],
   "source": [
    "zip(perm,specific_grav,porosity)"
   ]
  },
  {
   "cell_type": "code",
   "execution_count": 56,
   "id": "7338df9e",
   "metadata": {},
   "outputs": [
    {
     "data": {
      "text/plain": [
       "zip"
      ]
     },
     "execution_count": 56,
     "metadata": {},
     "output_type": "execute_result"
    }
   ],
   "source": [
    "type(zip(perm,specific_grav,porosity))"
   ]
  },
  {
   "cell_type": "code",
   "execution_count": 71,
   "id": "70e0f704",
   "metadata": {},
   "outputs": [
    {
     "data": {
      "text/plain": [
       "[(1, 0.3, 0.2), (2, 0.5, 0.3), (3, 0.7, 0.4)]"
      ]
     },
     "execution_count": 71,
     "metadata": {},
     "output_type": "execute_result"
    }
   ],
   "source": [
    "list(zip(perm,specific_grav,porosity))"
   ]
  },
  {
   "cell_type": "code",
   "execution_count": 57,
   "id": "e01da7e0",
   "metadata": {},
   "outputs": [
    {
     "name": "stdout",
     "output_type": "stream",
     "text": [
      "Perm is : 1\n",
      "SG is : 0.3\n",
      "Poro is : 0.3\n",
      "================\n",
      "Perm is : 2\n",
      "SG is : 0.5\n",
      "Poro is : 0.6\n",
      "================\n",
      "Perm is : 3\n",
      "SG is : 0.7\n",
      "Poro is : 0.9\n",
      "================\n"
     ]
    }
   ],
   "source": [
    "for i,j,k in zip(perm,specific_grav,porosity):\n",
    "    print(f\"Perm is : {i}\")\n",
    "    print(f\"SG is : {j}\")\n",
    "    print(f\"Poro is : {k}\")\n",
    "    print(\"================\")"
   ]
  },
  {
   "cell_type": "code",
   "execution_count": 58,
   "id": "d5d4fd56",
   "metadata": {},
   "outputs": [],
   "source": [
    "perm = [1,2,3]\n",
    "specific_grav = [0.3,0.5,0.7]\n",
    "porosity = [0.3,0.6,0.9]"
   ]
  },
  {
   "cell_type": "code",
   "execution_count": 59,
   "id": "eb1f5783",
   "metadata": {},
   "outputs": [],
   "source": [
    "#perm*sg/poro"
   ]
  },
  {
   "cell_type": "code",
   "execution_count": 60,
   "id": "40a89000",
   "metadata": {},
   "outputs": [
    {
     "name": "stdout",
     "output_type": "stream",
     "text": [
      "The value of perm*sg/poro is 1.0\n",
      "The value of perm*sg/poro is 1.6666666666666667\n",
      "The value of perm*sg/poro is 2.333333333333333\n"
     ]
    }
   ],
   "source": [
    "product = []\n",
    "for i,j,k in zip(perm,specific_grav,porosity):\n",
    "    c = (i*j)/k\n",
    "    print(f\"The value of perm*sg/poro is {c}\")\n",
    "    product.append(c)"
   ]
  },
  {
   "cell_type": "code",
   "execution_count": 61,
   "id": "cc6e1352",
   "metadata": {},
   "outputs": [
    {
     "data": {
      "text/plain": [
       "[1.0, 1.6666666666666667, 2.333333333333333]"
      ]
     },
     "execution_count": 61,
     "metadata": {},
     "output_type": "execute_result"
    }
   ],
   "source": [
    "product"
   ]
  },
  {
   "cell_type": "code",
   "execution_count": 62,
   "id": "360edc73",
   "metadata": {},
   "outputs": [],
   "source": [
    "perm = [1,2,3]\n",
    "field_name = ['neelam','panna','volve']\n",
    "porosity = [0.2,0.3,0.4]"
   ]
  },
  {
   "cell_type": "code",
   "execution_count": 63,
   "id": "e80aa884",
   "metadata": {},
   "outputs": [],
   "source": [
    "#Print = In field _____ , the value of porosity(%) is _____ and perm is ____"
   ]
  },
  {
   "cell_type": "code",
   "execution_count": 64,
   "id": "c6016ee8",
   "metadata": {},
   "outputs": [
    {
     "name": "stdout",
     "output_type": "stream",
     "text": [
      "In field neelam , the value of porosity(%) is 20.0 and perm is 1\n",
      "In field panna , the value of porosity(%) is 30.0 and perm is 2\n",
      "In field volve , the value of porosity(%) is 40.0 and perm is 3\n"
     ]
    }
   ],
   "source": [
    "for i,j,k in zip(field_name,porosity,perm):\n",
    "    print(f\"In field {i} , the value of porosity(%) is {j*100} and perm is {k}\")"
   ]
  },
  {
   "cell_type": "markdown",
   "id": "a12d34f6",
   "metadata": {},
   "source": [
    "# if-else: To runa block of code only if certain condition holds true¶\n",
    "identation"
   ]
  },
  {
   "cell_type": "code",
   "execution_count": 65,
   "id": "b45517b8",
   "metadata": {},
   "outputs": [],
   "source": [
    "if 5<2:\n",
    "    print(\"Executed\")"
   ]
  },
  {
   "cell_type": "code",
   "execution_count": 66,
   "id": "11536725",
   "metadata": {},
   "outputs": [
    {
     "data": {
      "text/plain": [
       "False"
      ]
     },
     "execution_count": 66,
     "metadata": {},
     "output_type": "execute_result"
    }
   ],
   "source": [
    "5<2"
   ]
  },
  {
   "cell_type": "code",
   "execution_count": 67,
   "id": "303a3862",
   "metadata": {},
   "outputs": [
    {
     "data": {
      "text/plain": [
       "True"
      ]
     },
     "execution_count": 67,
     "metadata": {},
     "output_type": "execute_result"
    }
   ],
   "source": [
    "5>2"
   ]
  },
  {
   "cell_type": "code",
   "execution_count": 68,
   "id": "b5dd5816",
   "metadata": {},
   "outputs": [
    {
     "data": {
      "text/plain": [
       "True"
      ]
     },
     "execution_count": 68,
     "metadata": {},
     "output_type": "execute_result"
    }
   ],
   "source": [
    "5==5"
   ]
  },
  {
   "cell_type": "code",
   "execution_count": 69,
   "id": "16a5fbf7",
   "metadata": {},
   "outputs": [
    {
     "name": "stdout",
     "output_type": "stream",
     "text": [
      "False\n"
     ]
    }
   ],
   "source": [
    "condition = 5<2\n",
    "print(condition)"
   ]
  },
  {
   "cell_type": "code",
   "execution_count": 70,
   "id": "139e8ce8",
   "metadata": {},
   "outputs": [
    {
     "name": "stdout",
     "output_type": "stream",
     "text": [
      "else is executed\n"
     ]
    }
   ],
   "source": [
    "if condition:\n",
    "    print(\"If is Executed\")\n",
    "\n",
    "else:\n",
    "    print(\"else is executed\")"
   ]
  },
  {
   "cell_type": "code",
   "execution_count": null,
   "id": "64ab9332",
   "metadata": {},
   "outputs": [],
   "source": []
  }
 ],
 "metadata": {
  "kernelspec": {
   "display_name": "Python 3 (ipykernel)",
   "language": "python",
   "name": "python3"
  },
  "language_info": {
   "codemirror_mode": {
    "name": "ipython",
    "version": 3
   },
   "file_extension": ".py",
   "mimetype": "text/x-python",
   "name": "python",
   "nbconvert_exporter": "python",
   "pygments_lexer": "ipython3",
   "version": "3.11.4"
  }
 },
 "nbformat": 4,
 "nbformat_minor": 5
}
