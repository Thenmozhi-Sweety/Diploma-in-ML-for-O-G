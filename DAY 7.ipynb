{
 "cells": [
  {
   "cell_type": "markdown",
   "id": "dded0304",
   "metadata": {},
   "source": [
    "# KLINKENBERG EFFECT IN PYTHON"
   ]
  },
  {
   "cell_type": "code",
   "execution_count": 13,
   "id": "00afc70f",
   "metadata": {},
   "outputs": [
    {
     "ename": "SyntaxError",
     "evalue": "unterminated string literal (detected at line 9) (3472814484.py, line 9)",
     "output_type": "error",
     "traceback": [
      "\u001b[1;36m  Cell \u001b[1;32mIn[13], line 9\u001b[1;36m\u001b[0m\n\u001b[1;33m    f'(K_l) = 4.416K(l)^(-0.36) +pm\u001b[0m\n\u001b[1;37m    ^\u001b[0m\n\u001b[1;31mSyntaxError\u001b[0m\u001b[1;31m:\u001b[0m unterminated string literal (detected at line 9)\n"
     ]
    }
   ],
   "source": [
    "K(g) = K(l) + c(1/pm)\n",
    "\n",
    "K(g) = measured gas permeability, pm = mean pressure, Kl = equivalent liquid perm(absolute perm), c = slope of line\n",
    "\n",
    "c = b.K(l) = 6.9 K(l)^(-0.36)\n",
    "\n",
    "$ 6.9(𝐾_𝑙)^{0.64} + 𝑝_𝑚*𝐾_𝑙 - 𝑝_𝑚*𝐾_𝑔 = 0$\n",
    " \n",
    "f'(K_l) = 4.416K(l)^(-0.36) +pm\n",
    "\n"
   ]
  },
  {
   "cell_type": "code",
   "execution_count": 14,
   "id": "305c88dc",
   "metadata": {},
   "outputs": [
    {
     "name": "stdout",
     "output_type": "stream",
     "text": [
      "Enter the measured permeability: 46.6\n",
      "Enter the mean pressure across the core: 2.152\n",
      "Enter the initial guess of absolute permeability: 50\n",
      "The final value of Perm K is: 22.849002279471133 \n",
      "The % Error is: 3.549379139663855\n"
     ]
    }
   ],
   "source": [
    "kg = float(input(\"Enter the measured permeability: \"))\n",
    "pm = float(input(\"Enter the mean pressure across the core: \"))\n",
    "k = float(input(\"Enter the initial guess of absolute permeability: \"))\n",
    "\n",
    "\n",
    "while (abs(6.9*k**0.64+pm*k - pm*kg)>0.0000000001):\n",
    "    k = k - ((6.9*k**0.64+pm*k - pm*kg)/(4.416*(k**(-0.36))+pm))\n",
    "    \n",
    "print(f\"The final value of Perm K is: {k} \")\n",
    "\n",
    "print(f\"The % Error is: {100*abs((k-23.66)/k)}\")"
   ]
  },
  {
   "cell_type": "markdown",
   "id": "27e3fa90",
   "metadata": {},
   "source": [
    "# Python functions:¶\n",
    "- Block of statements, that does a specific task, and return something to user"
   ]
  },
  {
   "cell_type": "code",
   "execution_count": 15,
   "id": "0fbd3ea5",
   "metadata": {},
   "outputs": [
    {
     "name": "stdout",
     "output_type": "stream",
     "text": [
      "Hello Tarun, welcome to the class\n"
     ]
    }
   ],
   "source": [
    "print(\"Hello Tarun, welcome to the class\")"
   ]
  },
  {
   "cell_type": "code",
   "execution_count": 16,
   "id": "5147169b",
   "metadata": {},
   "outputs": [
    {
     "name": "stdout",
     "output_type": "stream",
     "text": [
      "Hello Peila, welcome to the class\n"
     ]
    }
   ],
   "source": [
    "print(\"Hello Peila, welcome to the class\")"
   ]
  },
  {
   "cell_type": "code",
   "execution_count": 17,
   "id": "6763190b",
   "metadata": {},
   "outputs": [
    {
     "name": "stdout",
     "output_type": "stream",
     "text": [
      "Hello Alzokane, welcome to the class\n"
     ]
    }
   ],
   "source": [
    "print(\"Hello Alzokane, welcome to the class\")"
   ]
  },
  {
   "cell_type": "code",
   "execution_count": 18,
   "id": "7bff62fe",
   "metadata": {},
   "outputs": [],
   "source": [
    "def greet(name):\n",
    "    print(f\"Hello {name}, welcome to the class\")"
   ]
  },
  {
   "cell_type": "code",
   "execution_count": 19,
   "id": "4178f81e",
   "metadata": {},
   "outputs": [
    {
     "name": "stdout",
     "output_type": "stream",
     "text": [
      "Hello Tarun, welcome to the class\n"
     ]
    }
   ],
   "source": [
    "greet(\"Tarun\")"
   ]
  },
  {
   "cell_type": "code",
   "execution_count": 20,
   "id": "7994f008",
   "metadata": {},
   "outputs": [
    {
     "name": "stdout",
     "output_type": "stream",
     "text": [
      "Hello Peila, welcome to the class\n"
     ]
    }
   ],
   "source": [
    "greet(\"Peila\")"
   ]
  },
  {
   "cell_type": "code",
   "execution_count": 21,
   "id": "0aa0c754",
   "metadata": {},
   "outputs": [],
   "source": [
    "def test():\n",
    "    print(\"This is a test function\")"
   ]
  },
  {
   "cell_type": "code",
   "execution_count": 22,
   "id": "52a195b7",
   "metadata": {},
   "outputs": [
    {
     "name": "stdout",
     "output_type": "stream",
     "text": [
      "This is a test function\n"
     ]
    }
   ],
   "source": [
    "test()"
   ]
  },
  {
   "cell_type": "code",
   "execution_count": 23,
   "id": "5714fb1b",
   "metadata": {},
   "outputs": [],
   "source": [
    "def add(x,y):\n",
    "    z = x+y\n",
    "    print(f\"Sum of {x} and {y} is {z}\")"
   ]
  },
  {
   "cell_type": "code",
   "execution_count": 24,
   "id": "c6d45d56",
   "metadata": {},
   "outputs": [
    {
     "name": "stdout",
     "output_type": "stream",
     "text": [
      "Sum of 3 and 4 is 7\n"
     ]
    }
   ],
   "source": [
    "add(3,4)"
   ]
  },
  {
   "cell_type": "code",
   "execution_count": 25,
   "id": "231757f3",
   "metadata": {},
   "outputs": [
    {
     "name": "stdout",
     "output_type": "stream",
     "text": [
      "Sum of 6 and 7 is 13\n"
     ]
    }
   ],
   "source": [
    "add(6,7)"
   ]
  },
  {
   "cell_type": "code",
   "execution_count": 27,
   "id": "531e5d91",
   "metadata": {},
   "outputs": [
    {
     "name": "stdout",
     "output_type": "stream",
     "text": [
      "Sum of 6 and 7 is 13\n"
     ]
    },
    {
     "ename": "TypeError",
     "evalue": "unsupported operand type(s) for +: 'NoneType' and 'int'",
     "output_type": "error",
     "traceback": [
      "\u001b[1;31m---------------------------------------------------------------------------\u001b[0m",
      "\u001b[1;31mTypeError\u001b[0m                                 Traceback (most recent call last)",
      "Cell \u001b[1;32mIn[27], line 3\u001b[0m\n\u001b[0;32m      1\u001b[0m t \u001b[38;5;241m=\u001b[39m add(\u001b[38;5;241m6\u001b[39m,\u001b[38;5;241m7\u001b[39m)\n\u001b[1;32m----> 3\u001b[0m t\u001b[38;5;241m+\u001b[39m\u001b[38;5;241m10\u001b[39m\n",
      "\u001b[1;31mTypeError\u001b[0m: unsupported operand type(s) for +: 'NoneType' and 'int'"
     ]
    }
   ],
   "source": [
    "t = add(6,7)\n",
    "\n",
    "t+10\n"
   ]
  },
  {
   "cell_type": "code",
   "execution_count": 28,
   "id": "229307b3",
   "metadata": {},
   "outputs": [],
   "source": [
    "t"
   ]
  },
  {
   "cell_type": "code",
   "execution_count": 29,
   "id": "e297f6b3",
   "metadata": {},
   "outputs": [],
   "source": [
    "def add(x,y):\n",
    "    z = x+y\n",
    "    print(f\"Sum of {x} and {y} is {z}\")\n",
    "    return z"
   ]
  },
  {
   "cell_type": "code",
   "execution_count": 30,
   "id": "50afe3f3",
   "metadata": {},
   "outputs": [
    {
     "name": "stdout",
     "output_type": "stream",
     "text": [
      "Sum of 6 and 7 is 13\n"
     ]
    },
    {
     "data": {
      "text/plain": [
       "23"
      ]
     },
     "execution_count": 30,
     "metadata": {},
     "output_type": "execute_result"
    }
   ],
   "source": [
    "t = add(6,7)\n",
    "\n",
    "t+10"
   ]
  },
  {
   "cell_type": "code",
   "execution_count": 31,
   "id": "173598d1",
   "metadata": {},
   "outputs": [
    {
     "data": {
      "text/plain": [
       "13"
      ]
     },
     "execution_count": 31,
     "metadata": {},
     "output_type": "execute_result"
    }
   ],
   "source": [
    "t\n"
   ]
  },
  {
   "cell_type": "code",
   "execution_count": 32,
   "id": "3c69aaf6",
   "metadata": {},
   "outputs": [],
   "source": [
    "def operations(x,y):\n",
    "    add = x+y\n",
    "    sub = x-y\n",
    "    mul = x*y\n",
    "    div =x/y\n",
    "   \n",
    "    return add,sub,mul,div\n",
    "    "
   ]
  },
  {
   "cell_type": "code",
   "execution_count": 33,
   "id": "662becb4",
   "metadata": {},
   "outputs": [],
   "source": [
    "r = operations(10,2)"
   ]
  },
  {
   "cell_type": "code",
   "execution_count": 34,
   "id": "85fa9618",
   "metadata": {},
   "outputs": [
    {
     "data": {
      "text/plain": [
       "tuple"
      ]
     },
     "execution_count": 34,
     "metadata": {},
     "output_type": "execute_result"
    }
   ],
   "source": [
    "type(r)"
   ]
  },
  {
   "cell_type": "code",
   "execution_count": 35,
   "id": "a0273c83",
   "metadata": {},
   "outputs": [
    {
     "data": {
      "text/plain": [
       "(12, 8, 20, 5.0)"
      ]
     },
     "execution_count": 35,
     "metadata": {},
     "output_type": "execute_result"
    }
   ],
   "source": [
    "r"
   ]
  },
  {
   "cell_type": "code",
   "execution_count": 36,
   "id": "944791f6",
   "metadata": {},
   "outputs": [],
   "source": [
    "a,b,c,d  = operations(10,2)"
   ]
  },
  {
   "cell_type": "code",
   "execution_count": 37,
   "id": "733a10b2",
   "metadata": {},
   "outputs": [
    {
     "data": {
      "text/plain": [
       "12"
      ]
     },
     "execution_count": 37,
     "metadata": {},
     "output_type": "execute_result"
    }
   ],
   "source": [
    "a"
   ]
  },
  {
   "cell_type": "code",
   "execution_count": 38,
   "id": "ebd72aab",
   "metadata": {},
   "outputs": [
    {
     "data": {
      "text/plain": [
       "8"
      ]
     },
     "execution_count": 38,
     "metadata": {},
     "output_type": "execute_result"
    }
   ],
   "source": [
    "b"
   ]
  },
  {
   "cell_type": "code",
   "execution_count": 39,
   "id": "1f230bb5",
   "metadata": {},
   "outputs": [
    {
     "data": {
      "text/plain": [
       "20"
      ]
     },
     "execution_count": 39,
     "metadata": {},
     "output_type": "execute_result"
    }
   ],
   "source": [
    "c"
   ]
  },
  {
   "cell_type": "code",
   "execution_count": 40,
   "id": "34a05472",
   "metadata": {},
   "outputs": [
    {
     "data": {
      "text/plain": [
       "5.0"
      ]
     },
     "execution_count": 40,
     "metadata": {},
     "output_type": "execute_result"
    }
   ],
   "source": [
    "d"
   ]
  },
  {
   "cell_type": "code",
   "execution_count": 41,
   "id": "5493d44e",
   "metadata": {},
   "outputs": [
    {
     "ename": "ValueError",
     "evalue": "too many values to unpack (expected 3)",
     "output_type": "error",
     "traceback": [
      "\u001b[1;31m---------------------------------------------------------------------------\u001b[0m",
      "\u001b[1;31mValueError\u001b[0m                                Traceback (most recent call last)",
      "Cell \u001b[1;32mIn[41], line 1\u001b[0m\n\u001b[1;32m----> 1\u001b[0m a,b,c  \u001b[38;5;241m=\u001b[39m operations(\u001b[38;5;241m10\u001b[39m,\u001b[38;5;241m2\u001b[39m)\n",
      "\u001b[1;31mValueError\u001b[0m: too many values to unpack (expected 3)"
     ]
    }
   ],
   "source": [
    "a,b,c  = operations(10,2)"
   ]
  },
  {
   "cell_type": "code",
   "execution_count": 42,
   "id": "f16507f1",
   "metadata": {},
   "outputs": [
    {
     "ename": "ValueError",
     "evalue": "not enough values to unpack (expected 5, got 4)",
     "output_type": "error",
     "traceback": [
      "\u001b[1;31m---------------------------------------------------------------------------\u001b[0m",
      "\u001b[1;31mValueError\u001b[0m                                Traceback (most recent call last)",
      "Cell \u001b[1;32mIn[42], line 1\u001b[0m\n\u001b[1;32m----> 1\u001b[0m a,b,c,d,e  \u001b[38;5;241m=\u001b[39m operations(\u001b[38;5;241m10\u001b[39m,\u001b[38;5;241m2\u001b[39m)\n",
      "\u001b[1;31mValueError\u001b[0m: not enough values to unpack (expected 5, got 4)"
     ]
    }
   ],
   "source": [
    "a,b,c,d,e  = operations(10,2)"
   ]
  },
  {
   "cell_type": "code",
   "execution_count": 43,
   "id": "91a09a9e",
   "metadata": {},
   "outputs": [],
   "source": [
    "a,b,c,d  = operations(10,2)"
   ]
  },
  {
   "cell_type": "code",
   "execution_count": 44,
   "id": "211daf94",
   "metadata": {},
   "outputs": [],
   "source": [
    "def operations(x,y):\n",
    "    add = x+y\n",
    "    sub = x-y\n",
    "    mul = x*y\n",
    "    div =x/y\n",
    "   \n",
    "    return (add,sub),[mul,div]r = operations(10,2)"
   ]
  },
  {
   "cell_type": "code",
   "execution_count": 45,
   "id": "a4c38532",
   "metadata": {},
   "outputs": [],
   "source": [
    "r = operations(10,2)"
   ]
  },
  {
   "cell_type": "code",
   "execution_count": 46,
   "id": "1168b6ae",
   "metadata": {},
   "outputs": [
    {
     "data": {
      "text/plain": [
       "((12, 8), [20, 5.0])"
      ]
     },
     "execution_count": 46,
     "metadata": {},
     "output_type": "execute_result"
    }
   ],
   "source": [
    "r"
   ]
  },
  {
   "cell_type": "code",
   "execution_count": 47,
   "id": "948ec535",
   "metadata": {},
   "outputs": [
    {
     "data": {
      "text/plain": [
       "(12, 8)"
      ]
     },
     "execution_count": 47,
     "metadata": {},
     "output_type": "execute_result"
    }
   ],
   "source": [
    "r[0]"
   ]
  },
  {
   "cell_type": "code",
   "execution_count": 48,
   "id": "9ec4cdd8",
   "metadata": {},
   "outputs": [
    {
     "data": {
      "text/plain": [
       "[20, 5.0]"
      ]
     },
     "execution_count": 48,
     "metadata": {},
     "output_type": "execute_result"
    }
   ],
   "source": [
    "r[1]"
   ]
  },
  {
   "cell_type": "code",
   "execution_count": 49,
   "id": "c4e3fb5f",
   "metadata": {},
   "outputs": [],
   "source": [
    "t,k = operations(10,2)"
   ]
  },
  {
   "cell_type": "code",
   "execution_count": 50,
   "id": "89660df1",
   "metadata": {},
   "outputs": [
    {
     "data": {
      "text/plain": [
       "(12, 8)"
      ]
     },
     "execution_count": 50,
     "metadata": {},
     "output_type": "execute_result"
    }
   ],
   "source": [
    "t"
   ]
  },
  {
   "cell_type": "code",
   "execution_count": 51,
   "id": "6c6fa62e",
   "metadata": {},
   "outputs": [
    {
     "data": {
      "text/plain": [
       "[20, 5.0]"
      ]
     },
     "execution_count": 51,
     "metadata": {},
     "output_type": "execute_result"
    }
   ],
   "source": [
    "k"
   ]
  },
  {
   "cell_type": "code",
   "execution_count": 52,
   "id": "6391465a",
   "metadata": {},
   "outputs": [],
   "source": [
    "def operations(x,y=2,c=3):\n",
    "    add = x+y+c\n",
    "    sub = x-y+c\n",
    "    mul = x*y\n",
    "    div =x/y\n",
    "   \n",
    "    return add,sub,mul,div"
   ]
  },
  {
   "cell_type": "code",
   "execution_count": 53,
   "id": "e963c8f1",
   "metadata": {},
   "outputs": [
    {
     "data": {
      "text/plain": [
       "(15, 11, 20, 5.0)"
      ]
     },
     "execution_count": 53,
     "metadata": {},
     "output_type": "execute_result"
    }
   ],
   "source": [
    "operations(10)"
   ]
  },
  {
   "cell_type": "code",
   "execution_count": 54,
   "id": "da9d2ef3",
   "metadata": {},
   "outputs": [],
   "source": [
    "def klinkenberg(kg,pm,k):\n",
    "    \n",
    "    \"\"\"\n",
    "    This klinkenberg function calculates absolute permeability for given gas permeability at a given mean pressure.\n",
    "    INPUTS:\n",
    "    kg=> gas permeability in lab at a given mean pressure pm\n",
    "    pm => mean pressure\n",
    "    k=>User initial guess for absolute perm.\n",
    "    \n",
    "    return:\n",
    "    k=> value of absolute permeability\n",
    "    \n",
    "    \"\"\"\n",
    "    count = 0\n",
    "\n",
    "    while (abs(6.9*k**0.64+pm*k - pm*kg)>0.0000000001):\n",
    "        k = k - ((6.9*k**0.64+pm*k - pm*kg)/(4.416*(k**(-0.36))+pm))\n",
    "        count=count+1\n",
    "\n",
    "    print(f\"The final value of Perm K is: {k} \")\n",
    "    print(f\"The number of iterations used = {count}\")\n",
    "\n",
    "    return k"
   ]
  },
  {
   "cell_type": "code",
   "execution_count": 55,
   "id": "0453d38a",
   "metadata": {},
   "outputs": [
    {
     "name": "stdout",
     "output_type": "stream",
     "text": [
      "The final value of Perm K is: 24.963577634875573 \n",
      "The number of iterations used = 4\n"
     ]
    },
    {
     "data": {
      "text/plain": [
       "24.963577634875573"
      ]
     },
     "execution_count": 55,
     "metadata": {},
     "output_type": "execute_result"
    }
   ],
   "source": [
    "\n",
    "klinkenberg(46.6,2.5,2)"
   ]
  },
  {
   "cell_type": "code",
   "execution_count": 56,
   "id": "f84207bd",
   "metadata": {},
   "outputs": [
    {
     "name": "stdout",
     "output_type": "stream",
     "text": [
      "The final value of Perm K is: 16.18096736624205 \n",
      "The number of iterations used = 5\n"
     ]
    },
    {
     "data": {
      "text/plain": [
       "16.18096736624205"
      ]
     },
     "execution_count": 56,
     "metadata": {},
     "output_type": "execute_result"
    }
   ],
   "source": [
    "# shift+tab\n",
    "klinkenberg(34,2.3,200)\n"
   ]
  },
  {
   "cell_type": "markdown",
   "id": "724e6cbc",
   "metadata": {},
   "source": [
    "# Numpy:¶\n",
    "\n",
    "- Numerical Python\n",
    "\n",
    "- array: object for storing data, just like list, but it is 50 times faster than list and also takes lesser space# "
   ]
  },
  {
   "cell_type": "code",
   "execution_count": 57,
   "id": "146062b5",
   "metadata": {},
   "outputs": [],
   "source": [
    "import numpy as np "
   ]
  },
  {
   "cell_type": "code",
   "execution_count": 58,
   "id": "cae38dac",
   "metadata": {},
   "outputs": [
    {
     "data": {
      "text/plain": [
       "array({432, 232, 12, 45}, dtype=object)"
      ]
     },
     "execution_count": 58,
     "metadata": {},
     "output_type": "execute_result"
    }
   ],
   "source": [
    "np.array({45,432,232,12})"
   ]
  },
  {
   "cell_type": "code",
   "execution_count": 59,
   "id": "898d0dc8",
   "metadata": {},
   "outputs": [],
   "source": [
    "porosity = [34,34,232,43,23,2343,4]"
   ]
  },
  {
   "cell_type": "code",
   "execution_count": 60,
   "id": "3f02aadc",
   "metadata": {},
   "outputs": [
    {
     "data": {
      "text/plain": [
       "[34, 34, 232, 43, 23, 2343, 4]"
      ]
     },
     "execution_count": 60,
     "metadata": {},
     "output_type": "execute_result"
    }
   ],
   "source": [
    "porosity"
   ]
  },
  {
   "cell_type": "code",
   "execution_count": 61,
   "id": "c639013e",
   "metadata": {},
   "outputs": [
    {
     "data": {
      "text/plain": [
       "list"
      ]
     },
     "execution_count": 61,
     "metadata": {},
     "output_type": "execute_result"
    }
   ],
   "source": [
    "type(porosity)"
   ]
  },
  {
   "cell_type": "code",
   "execution_count": 62,
   "id": "d88903dc",
   "metadata": {},
   "outputs": [],
   "source": [
    "por_array = np.array(porosity)"
   ]
  },
  {
   "cell_type": "code",
   "execution_count": 63,
   "id": "1cb4cc24",
   "metadata": {},
   "outputs": [
    {
     "data": {
      "text/plain": [
       "numpy.ndarray"
      ]
     },
     "execution_count": 63,
     "metadata": {},
     "output_type": "execute_result"
    }
   ],
   "source": [
    "type(por_array)"
   ]
  },
  {
   "cell_type": "code",
   "execution_count": null,
   "id": "272f3d48",
   "metadata": {},
   "outputs": [],
   "source": []
  }
 ],
 "metadata": {
  "kernelspec": {
   "display_name": "Python 3 (ipykernel)",
   "language": "python",
   "name": "python3"
  },
  "language_info": {
   "codemirror_mode": {
    "name": "ipython",
    "version": 3
   },
   "file_extension": ".py",
   "mimetype": "text/x-python",
   "name": "python",
   "nbconvert_exporter": "python",
   "pygments_lexer": "ipython3",
   "version": "3.11.4"
  }
 },
 "nbformat": 4,
 "nbformat_minor": 5
}
