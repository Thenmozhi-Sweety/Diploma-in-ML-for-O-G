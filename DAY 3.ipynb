{
 "cells": [
  {
   "cell_type": "code",
   "execution_count": 3,
   "id": "b9742f21",
   "metadata": {},
   "outputs": [
    {
     "name": "stdout",
     "output_type": "stream",
     "text": [
      "hello\n"
     ]
    }
   ],
   "source": [
    "print (\"hello\")"
   ]
  },
  {
   "cell_type": "code",
   "execution_count": 1,
   "id": "b2bcac22",
   "metadata": {},
   "outputs": [
    {
     "data": {
      "text/plain": [
       "'Hello, all it is a beautiful sunny day'"
      ]
     },
     "execution_count": 1,
     "metadata": {},
     "output_type": "execute_result"
    }
   ],
   "source": [
    "\"Hello, all it is a beautiful sunny day\""
   ]
  },
  {
   "cell_type": "code",
   "execution_count": 9,
   "id": "72e5411e",
   "metadata": {},
   "outputs": [
    {
     "data": {
      "text/plain": [
       "'Hello, all it is a beautiful {weather} day'"
      ]
     },
     "execution_count": 9,
     "metadata": {},
     "output_type": "execute_result"
    }
   ],
   "source": [
    "\"Hello, all it is a beautiful {weather} day\""
   ]
  },
  {
   "cell_type": "code",
   "execution_count": 10,
   "id": "07836b6b",
   "metadata": {},
   "outputs": [
    {
     "data": {
      "text/plain": [
       "'Hello, all it is a beautiful sunny day'"
      ]
     },
     "execution_count": 10,
     "metadata": {},
     "output_type": "execute_result"
    }
   ],
   "source": [
    "weather = \"sunny\"\n",
    "f\"Hello, all it is a beautiful {weather} day\""
   ]
  },
  {
   "cell_type": "code",
   "execution_count": 11,
   "id": "621ee872",
   "metadata": {},
   "outputs": [],
   "source": [
    "weather = \"rainy\""
   ]
  },
  {
   "cell_type": "code",
   "execution_count": 12,
   "id": "2abb4472",
   "metadata": {},
   "outputs": [
    {
     "data": {
      "text/plain": [
       "'Hello, all it is a beautiful rainy day'"
      ]
     },
     "execution_count": 12,
     "metadata": {},
     "output_type": "execute_result"
    }
   ],
   "source": [
    "f\"Hello, all it is a beautiful {weather} day\""
   ]
  },
  {
   "cell_type": "markdown",
   "id": "61cc5a9e",
   "metadata": {},
   "source": [
    "### data structures - holding large data and processing"
   ]
  },
  {
   "cell_type": "markdown",
   "id": "04f410bf",
   "metadata": {},
   "source": [
    "# lists \n",
    "-used to store multiple items in a single variable.\n",
    "-square brackets [] are used for creating lists, list().\n",
    "-mutable: can be able to change the length,element and element values."
   ]
  },
  {
   "cell_type": "code",
   "execution_count": 13,
   "id": "f17b4be6",
   "metadata": {},
   "outputs": [],
   "source": [
    "# list[]"
   ]
  },
  {
   "cell_type": "code",
   "execution_count": 14,
   "id": "6b356299",
   "metadata": {},
   "outputs": [],
   "source": [
    "prem =[12,13,14,15,16,17,18,19]"
   ]
  },
  {
   "cell_type": "code",
   "execution_count": 15,
   "id": "825009e9",
   "metadata": {},
   "outputs": [
    {
     "data": {
      "text/plain": [
       "[12, 13, 14, 15, 16, 17, 18, 19]"
      ]
     },
     "execution_count": 15,
     "metadata": {},
     "output_type": "execute_result"
    }
   ],
   "source": [
    "prem"
   ]
  },
  {
   "cell_type": "code",
   "execution_count": 16,
   "id": "a95deffa",
   "metadata": {},
   "outputs": [
    {
     "data": {
      "text/plain": [
       "list"
      ]
     },
     "execution_count": 16,
     "metadata": {},
     "output_type": "execute_result"
    }
   ],
   "source": [
    "type(prem)"
   ]
  },
  {
   "cell_type": "code",
   "execution_count": 27,
   "id": "32d16419",
   "metadata": {},
   "outputs": [],
   "source": [
    "li =['vck',\"udgc\",'jhdgcuk','sdhbc',\"true\",'saturation',['uygc','gfd','uyfd','uwygdy','then']]"
   ]
  },
  {
   "cell_type": "code",
   "execution_count": 28,
   "id": "7f37ee70",
   "metadata": {},
   "outputs": [
    {
     "data": {
      "text/plain": [
       "['vck',\n",
       " 'udgc',\n",
       " 'jhdgcuk',\n",
       " 'sdhbc',\n",
       " 'true',\n",
       " 'saturation',\n",
       " ['uygc', 'gfd', 'uyfd', 'uwygdy', 'then']]"
      ]
     },
     "execution_count": 28,
     "metadata": {},
     "output_type": "execute_result"
    }
   ],
   "source": [
    "li"
   ]
  },
  {
   "cell_type": "code",
   "execution_count": 29,
   "id": "83c265c0",
   "metadata": {},
   "outputs": [],
   "source": [
    "li =[6.7,'then','yhs',78.4,[678,'true','str','saturation']]"
   ]
  },
  {
   "cell_type": "code",
   "execution_count": 30,
   "id": "5cc8f068",
   "metadata": {},
   "outputs": [],
   "source": [
    "ijo = [True]"
   ]
  },
  {
   "cell_type": "code",
   "execution_count": 31,
   "id": "10aab6a1",
   "metadata": {},
   "outputs": [
    {
     "data": {
      "text/plain": [
       "[True]"
      ]
     },
     "execution_count": 31,
     "metadata": {},
     "output_type": "execute_result"
    }
   ],
   "source": [
    "ijo"
   ]
  },
  {
   "cell_type": "markdown",
   "id": "4d652bbd",
   "metadata": {},
   "source": [
    "# extracting data out from the list"
   ]
  },
  {
   "cell_type": "code",
   "execution_count": 32,
   "id": "5eb6b244",
   "metadata": {},
   "outputs": [],
   "source": [
    "# index = is the nothing but a address of an element in the list"
   ]
  },
  {
   "cell_type": "code",
   "execution_count": 33,
   "id": "88bebda0",
   "metadata": {},
   "outputs": [
    {
     "data": {
      "text/plain": [
       "[12, 13, 14, 15, 16, 17, 18, 19]"
      ]
     },
     "execution_count": 33,
     "metadata": {},
     "output_type": "execute_result"
    }
   ],
   "source": [
    "prem"
   ]
  },
  {
   "cell_type": "code",
   "execution_count": 34,
   "id": "36d95955",
   "metadata": {},
   "outputs": [
    {
     "data": {
      "text/plain": [
       "19"
      ]
     },
     "execution_count": 34,
     "metadata": {},
     "output_type": "execute_result"
    }
   ],
   "source": [
    "prem[7]"
   ]
  },
  {
   "cell_type": "code",
   "execution_count": 35,
   "id": "774affef",
   "metadata": {},
   "outputs": [
    {
     "data": {
      "text/plain": [
       "16"
      ]
     },
     "execution_count": 35,
     "metadata": {},
     "output_type": "execute_result"
    }
   ],
   "source": [
    "prem[4]"
   ]
  },
  {
   "cell_type": "code",
   "execution_count": 36,
   "id": "802c98b0",
   "metadata": {},
   "outputs": [
    {
     "data": {
      "text/plain": [
       "15"
      ]
     },
     "execution_count": 36,
     "metadata": {},
     "output_type": "execute_result"
    }
   ],
   "source": [
    "prem[3]"
   ]
  },
  {
   "cell_type": "code",
   "execution_count": 37,
   "id": "2b59e551",
   "metadata": {},
   "outputs": [],
   "source": [
    "li =['vck',\"udgc\",'jhdgcuk','sdhbc',\"true\",'saturation',['uygc','gfd','uyfd','uwygdy','then']]"
   ]
  },
  {
   "cell_type": "code",
   "execution_count": 38,
   "id": "9effa968",
   "metadata": {},
   "outputs": [
    {
     "data": {
      "text/plain": [
       "'saturation'"
      ]
     },
     "execution_count": 38,
     "metadata": {},
     "output_type": "execute_result"
    }
   ],
   "source": [
    "li[5]"
   ]
  },
  {
   "cell_type": "code",
   "execution_count": 50,
   "id": "2bcf767a",
   "metadata": {},
   "outputs": [],
   "source": [
    "list =[56,67,89,90,52,78,94,\"thenmozhi\"]"
   ]
  },
  {
   "cell_type": "code",
   "execution_count": 51,
   "id": "286446e8",
   "metadata": {},
   "outputs": [
    {
     "data": {
      "text/plain": [
       "78"
      ]
     },
     "execution_count": 51,
     "metadata": {},
     "output_type": "execute_result"
    }
   ],
   "source": [
    "list[5]"
   ]
  },
  {
   "cell_type": "code",
   "execution_count": 52,
   "id": "8963c728",
   "metadata": {},
   "outputs": [
    {
     "data": {
      "text/plain": [
       "'thenmozhi'"
      ]
     },
     "execution_count": 52,
     "metadata": {},
     "output_type": "execute_result"
    }
   ],
   "source": [
    "list[7]"
   ]
  },
  {
   "cell_type": "code",
   "execution_count": 53,
   "id": "043b26ab",
   "metadata": {},
   "outputs": [
    {
     "data": {
      "text/plain": [
       "94"
      ]
     },
     "execution_count": 53,
     "metadata": {},
     "output_type": "execute_result"
    }
   ],
   "source": [
    "list[6]"
   ]
  },
  {
   "cell_type": "code",
   "execution_count": 54,
   "id": "4ab10ab8",
   "metadata": {},
   "outputs": [
    {
     "data": {
      "text/plain": [
       "90"
      ]
     },
     "execution_count": 54,
     "metadata": {},
     "output_type": "execute_result"
    }
   ],
   "source": [
    "list[3]"
   ]
  },
  {
   "cell_type": "code",
   "execution_count": 55,
   "id": "afa418b8",
   "metadata": {},
   "outputs": [],
   "source": [
    "list = [789,434,67,787686,[453,865,43443,43]]"
   ]
  },
  {
   "cell_type": "code",
   "execution_count": 57,
   "id": "1e7eb2b3",
   "metadata": {},
   "outputs": [
    {
     "data": {
      "text/plain": [
       "[453, 865, 43443, 43]"
      ]
     },
     "execution_count": 57,
     "metadata": {},
     "output_type": "execute_result"
    }
   ],
   "source": [
    "list[4]"
   ]
  },
  {
   "cell_type": "code",
   "execution_count": 59,
   "id": "7f76a709",
   "metadata": {},
   "outputs": [
    {
     "data": {
      "text/plain": [
       "43443"
      ]
     },
     "execution_count": 59,
     "metadata": {},
     "output_type": "execute_result"
    }
   ],
   "source": [
    "list[4][2]"
   ]
  },
  {
   "cell_type": "code",
   "execution_count": 60,
   "id": "e15a9fc3",
   "metadata": {},
   "outputs": [],
   "source": [
    "li =['vck',\"udgc\",'jhdgcuk','sdhbc',\"true\",'saturation',['uygc','gfd','uyfd','uwygdy','then']]"
   ]
  },
  {
   "cell_type": "code",
   "execution_count": 61,
   "id": "d01bc42d",
   "metadata": {},
   "outputs": [
    {
     "data": {
      "text/plain": [
       "['uygc', 'gfd', 'uyfd', 'uwygdy', 'then']"
      ]
     },
     "execution_count": 61,
     "metadata": {},
     "output_type": "execute_result"
    }
   ],
   "source": [
    "li[6]"
   ]
  },
  {
   "cell_type": "code",
   "execution_count": 62,
   "id": "d769f206",
   "metadata": {},
   "outputs": [
    {
     "data": {
      "text/plain": [
       "'then'"
      ]
     },
     "execution_count": 62,
     "metadata": {},
     "output_type": "execute_result"
    }
   ],
   "source": [
    "li[6][4]"
   ]
  },
  {
   "cell_type": "code",
   "execution_count": 63,
   "id": "362a0b1c",
   "metadata": {},
   "outputs": [],
   "source": [
    "li =['vck',\"udgc\",'jhdgcuk','sdhbc',\"true\",'saturation',['uygc',[56,67,89,90,52,78,94,\"thenmozhi\"],'gfd','uyfd','uwygdy','then']]"
   ]
  },
  {
   "cell_type": "code",
   "execution_count": 64,
   "id": "e0aabd77",
   "metadata": {},
   "outputs": [
    {
     "data": {
      "text/plain": [
       "['uygc',\n",
       " [56, 67, 89, 90, 52, 78, 94, 'thenmozhi'],\n",
       " 'gfd',\n",
       " 'uyfd',\n",
       " 'uwygdy',\n",
       " 'then']"
      ]
     },
     "execution_count": 64,
     "metadata": {},
     "output_type": "execute_result"
    }
   ],
   "source": [
    "li[6]"
   ]
  },
  {
   "cell_type": "code",
   "execution_count": 65,
   "id": "7939e924",
   "metadata": {},
   "outputs": [
    {
     "data": {
      "text/plain": [
       "'then'"
      ]
     },
     "execution_count": 65,
     "metadata": {},
     "output_type": "execute_result"
    }
   ],
   "source": [
    "li[6][5]"
   ]
  },
  {
   "cell_type": "code",
   "execution_count": 66,
   "id": "2b38d664",
   "metadata": {},
   "outputs": [
    {
     "data": {
      "text/plain": [
       "'gfd'"
      ]
     },
     "execution_count": 66,
     "metadata": {},
     "output_type": "execute_result"
    }
   ],
   "source": [
    "li[6][2]"
   ]
  },
  {
   "cell_type": "code",
   "execution_count": 67,
   "id": "bb0a4f7b",
   "metadata": {},
   "outputs": [
    {
     "data": {
      "text/plain": [
       "[56, 67, 89, 90, 52, 78, 94, 'thenmozhi']"
      ]
     },
     "execution_count": 67,
     "metadata": {},
     "output_type": "execute_result"
    }
   ],
   "source": [
    "li[6][1]"
   ]
  },
  {
   "cell_type": "code",
   "execution_count": 68,
   "id": "20a99a44",
   "metadata": {},
   "outputs": [
    {
     "data": {
      "text/plain": [
       "94"
      ]
     },
     "execution_count": 68,
     "metadata": {},
     "output_type": "execute_result"
    }
   ],
   "source": [
    "li[6][1][6]"
   ]
  },
  {
   "cell_type": "code",
   "execution_count": 71,
   "id": "425aff1c",
   "metadata": {},
   "outputs": [],
   "source": [
    "li =['vck',\"udgc\",'jhdgcuk','sdhbc',\"true\",'saturation',['uygc',[56,67,89,90,['settle'],52,78,94,\"thenmozhi\"],'gfd','uyfd','uwygdy','then']]"
   ]
  },
  {
   "cell_type": "code",
   "execution_count": 72,
   "id": "add2bc72",
   "metadata": {},
   "outputs": [
    {
     "data": {
      "text/plain": [
       "['settle']"
      ]
     },
     "execution_count": 72,
     "metadata": {},
     "output_type": "execute_result"
    }
   ],
   "source": [
    "li[6][1][4]"
   ]
  },
  {
   "cell_type": "code",
   "execution_count": 73,
   "id": "16df46fc",
   "metadata": {},
   "outputs": [
    {
     "data": {
      "text/plain": [
       "list"
      ]
     },
     "execution_count": 73,
     "metadata": {},
     "output_type": "execute_result"
    }
   ],
   "source": [
    "type(li[6][1][4])"
   ]
  },
  {
   "cell_type": "code",
   "execution_count": 74,
   "id": "ef5258fc",
   "metadata": {},
   "outputs": [
    {
     "data": {
      "text/plain": [
       "str"
      ]
     },
     "execution_count": 74,
     "metadata": {},
     "output_type": "execute_result"
    }
   ],
   "source": [
    "type(li[6][1][4][0])"
   ]
  },
  {
   "cell_type": "code",
   "execution_count": 76,
   "id": "a77b5dc4",
   "metadata": {},
   "outputs": [
    {
     "data": {
      "text/plain": [
       "'settle'"
      ]
     },
     "execution_count": 76,
     "metadata": {},
     "output_type": "execute_result"
    }
   ],
   "source": [
    "li[6][1][4][0]"
   ]
  },
  {
   "cell_type": "code",
   "execution_count": 77,
   "id": "e67d5b91",
   "metadata": {},
   "outputs": [],
   "source": [
    "list = [789,434,67,787686,[453,865,43443,43]]"
   ]
  },
  {
   "cell_type": "code",
   "execution_count": 78,
   "id": "888518d4",
   "metadata": {},
   "outputs": [
    {
     "data": {
      "text/plain": [
       "5"
      ]
     },
     "execution_count": 78,
     "metadata": {},
     "output_type": "execute_result"
    }
   ],
   "source": [
    "len(list)"
   ]
  },
  {
   "cell_type": "code",
   "execution_count": 79,
   "id": "6f5d9c4c",
   "metadata": {},
   "outputs": [
    {
     "data": {
      "text/plain": [
       "67"
      ]
     },
     "execution_count": 79,
     "metadata": {},
     "output_type": "execute_result"
    }
   ],
   "source": [
    "list[-3]"
   ]
  },
  {
   "cell_type": "code",
   "execution_count": 80,
   "id": "b8069f46",
   "metadata": {},
   "outputs": [
    {
     "data": {
      "text/plain": [
       "[453, 865, 43443, 43]"
      ]
     },
     "execution_count": 80,
     "metadata": {},
     "output_type": "execute_result"
    }
   ],
   "source": [
    "list[-1]"
   ]
  },
  {
   "cell_type": "code",
   "execution_count": 81,
   "id": "098efbb5",
   "metadata": {},
   "outputs": [
    {
     "data": {
      "text/plain": [
       "43"
      ]
     },
     "execution_count": 81,
     "metadata": {},
     "output_type": "execute_result"
    }
   ],
   "source": [
    "list[-1][-1]"
   ]
  },
  {
   "cell_type": "code",
   "execution_count": 82,
   "id": "0506b256",
   "metadata": {},
   "outputs": [
    {
     "data": {
      "text/plain": [
       "False"
      ]
     },
     "execution_count": 82,
     "metadata": {},
     "output_type": "execute_result"
    }
   ],
   "source": [
    "list[2]==[4]"
   ]
  },
  {
   "cell_type": "code",
   "execution_count": 83,
   "id": "204e6da1",
   "metadata": {},
   "outputs": [],
   "source": [
    "#mutable"
   ]
  },
  {
   "cell_type": "code",
   "execution_count": 84,
   "id": "903a1c52",
   "metadata": {},
   "outputs": [],
   "source": [
    "prem =[12,13,14,15,16,17,18,19]"
   ]
  },
  {
   "cell_type": "code",
   "execution_count": 85,
   "id": "e9bc2dde",
   "metadata": {},
   "outputs": [
    {
     "data": {
      "text/plain": [
       "14"
      ]
     },
     "execution_count": 85,
     "metadata": {},
     "output_type": "execute_result"
    }
   ],
   "source": [
    "prem[2]"
   ]
  },
  {
   "cell_type": "code",
   "execution_count": 86,
   "id": "c141e699",
   "metadata": {},
   "outputs": [],
   "source": [
    "prem[2]=54"
   ]
  },
  {
   "cell_type": "code",
   "execution_count": 87,
   "id": "8e0e54ec",
   "metadata": {},
   "outputs": [
    {
     "data": {
      "text/plain": [
       "[12, 13, 54, 15, 16, 17, 18, 19]"
      ]
     },
     "execution_count": 87,
     "metadata": {},
     "output_type": "execute_result"
    }
   ],
   "source": [
    "prem"
   ]
  },
  {
   "cell_type": "code",
   "execution_count": 88,
   "id": "801bfc6f",
   "metadata": {},
   "outputs": [],
   "source": [
    "# append : means add elements at of the list "
   ]
  },
  {
   "cell_type": "code",
   "execution_count": 89,
   "id": "4e499a24",
   "metadata": {},
   "outputs": [
    {
     "data": {
      "text/plain": [
       "[12, 13, 54, 15, 16, 17, 18, 19]"
      ]
     },
     "execution_count": 89,
     "metadata": {},
     "output_type": "execute_result"
    }
   ],
   "source": [
    "prem"
   ]
  },
  {
   "cell_type": "code",
   "execution_count": 90,
   "id": "8720ea80",
   "metadata": {},
   "outputs": [],
   "source": [
    "prem.append(99)"
   ]
  },
  {
   "cell_type": "code",
   "execution_count": 91,
   "id": "9b72777b",
   "metadata": {},
   "outputs": [
    {
     "data": {
      "text/plain": [
       "[12, 13, 54, 15, 16, 17, 18, 19, 99]"
      ]
     },
     "execution_count": 91,
     "metadata": {},
     "output_type": "execute_result"
    }
   ],
   "source": [
    "prem"
   ]
  },
  {
   "cell_type": "code",
   "execution_count": 92,
   "id": "63486322",
   "metadata": {},
   "outputs": [],
   "source": [
    "#slicing : means accessiing more than one element "
   ]
  },
  {
   "cell_type": "markdown",
   "id": "6c924df7",
   "metadata": {},
   "source": [
    "# List(start:stop:step)\n",
    "### element at stopping index will be excluded from the slice"
   ]
  },
  {
   "cell_type": "code",
   "execution_count": 94,
   "id": "eaa4c545",
   "metadata": {},
   "outputs": [],
   "source": [
    "perm =[23,4345,565,6657,47,34,5]"
   ]
  },
  {
   "cell_type": "code",
   "execution_count": 95,
   "id": "57df4b82",
   "metadata": {},
   "outputs": [
    {
     "data": {
      "text/plain": [
       "[12, 13, 54, 15, 16, 17, 18, 19, 99]"
      ]
     },
     "execution_count": 95,
     "metadata": {},
     "output_type": "execute_result"
    }
   ],
   "source": [
    "prem"
   ]
  },
  {
   "cell_type": "code",
   "execution_count": 96,
   "id": "d25e7882",
   "metadata": {},
   "outputs": [
    {
     "data": {
      "text/plain": [
       "[13, 54, 15, 16, 17]"
      ]
     },
     "execution_count": 96,
     "metadata": {},
     "output_type": "execute_result"
    }
   ],
   "source": [
    "prem[1:6]"
   ]
  },
  {
   "cell_type": "code",
   "execution_count": 97,
   "id": "7a41209d",
   "metadata": {},
   "outputs": [
    {
     "data": {
      "text/plain": [
       "[13, 54, 15, 16, 17, 18, 19, 99]"
      ]
     },
     "execution_count": 97,
     "metadata": {},
     "output_type": "execute_result"
    }
   ],
   "source": [
    "prem[1:100]"
   ]
  },
  {
   "cell_type": "code",
   "execution_count": 98,
   "id": "abde2968",
   "metadata": {},
   "outputs": [
    {
     "data": {
      "text/plain": [
       "[13, 54, 15, 16, 17, 18, 19, 99]"
      ]
     },
     "execution_count": 98,
     "metadata": {},
     "output_type": "execute_result"
    }
   ],
   "source": [
    "prem[1:]"
   ]
  },
  {
   "cell_type": "code",
   "execution_count": 99,
   "id": "ab53b376",
   "metadata": {},
   "outputs": [
    {
     "data": {
      "text/plain": [
       "[12, 13, 54, 15, 16, 17, 18]"
      ]
     },
     "execution_count": 99,
     "metadata": {},
     "output_type": "execute_result"
    }
   ],
   "source": [
    "prem[:7]"
   ]
  },
  {
   "cell_type": "code",
   "execution_count": 100,
   "id": "013892c7",
   "metadata": {},
   "outputs": [
    {
     "data": {
      "text/plain": [
       "[12, 13, 54, 15, 16, 17, 18, 19, 99]"
      ]
     },
     "execution_count": 100,
     "metadata": {},
     "output_type": "execute_result"
    }
   ],
   "source": [
    "prem[:]"
   ]
  },
  {
   "cell_type": "code",
   "execution_count": 101,
   "id": "edec75a5",
   "metadata": {},
   "outputs": [
    {
     "data": {
      "text/plain": [
       "[12, 13, 54, 15, 16, 17, 18, 19, 99]"
      ]
     },
     "execution_count": 101,
     "metadata": {},
     "output_type": "execute_result"
    }
   ],
   "source": [
    "prem[::]"
   ]
  },
  {
   "cell_type": "code",
   "execution_count": 102,
   "id": "38aa8e4d",
   "metadata": {},
   "outputs": [
    {
     "data": {
      "text/plain": [
       "[12, 54, 16, 18, 99]"
      ]
     },
     "execution_count": 102,
     "metadata": {},
     "output_type": "execute_result"
    }
   ],
   "source": [
    "prem[::2]"
   ]
  },
  {
   "cell_type": "code",
   "execution_count": 103,
   "id": "ad3776d6",
   "metadata": {},
   "outputs": [
    {
     "data": {
      "text/plain": [
       "[12, 15, 18]"
      ]
     },
     "execution_count": 103,
     "metadata": {},
     "output_type": "execute_result"
    }
   ],
   "source": [
    "prem[::3]"
   ]
  },
  {
   "cell_type": "code",
   "execution_count": 108,
   "id": "4681e525",
   "metadata": {},
   "outputs": [
    {
     "data": {
      "text/plain": [
       "[12, 19]"
      ]
     },
     "execution_count": 108,
     "metadata": {},
     "output_type": "execute_result"
    }
   ],
   "source": [
    "prem[::7]"
   ]
  },
  {
   "cell_type": "code",
   "execution_count": 109,
   "id": "324122e5",
   "metadata": {},
   "outputs": [
    {
     "data": {
      "text/plain": [
       "9"
      ]
     },
     "execution_count": 109,
     "metadata": {},
     "output_type": "execute_result"
    }
   ],
   "source": [
    "len(prem)"
   ]
  },
  {
   "cell_type": "code",
   "execution_count": 110,
   "id": "50319e4d",
   "metadata": {},
   "outputs": [
    {
     "data": {
      "text/plain": [
       "[12, 54, 16, 18, 99]"
      ]
     },
     "execution_count": 110,
     "metadata": {},
     "output_type": "execute_result"
    }
   ],
   "source": [
    "prem[::2]"
   ]
  },
  {
   "cell_type": "code",
   "execution_count": 111,
   "id": "868cd200",
   "metadata": {},
   "outputs": [
    {
     "data": {
      "text/plain": [
       "[13, 15, 17, 19]"
      ]
     },
     "execution_count": 111,
     "metadata": {},
     "output_type": "execute_result"
    }
   ],
   "source": [
    "prem[1::2]"
   ]
  },
  {
   "cell_type": "code",
   "execution_count": 112,
   "id": "7f20566b",
   "metadata": {},
   "outputs": [
    {
     "data": {
      "text/plain": [
       "[54, 17, 99]"
      ]
     },
     "execution_count": 112,
     "metadata": {},
     "output_type": "execute_result"
    }
   ],
   "source": [
    "prem[2::3]"
   ]
  },
  {
   "cell_type": "code",
   "execution_count": 113,
   "id": "f06454db",
   "metadata": {},
   "outputs": [
    {
     "data": {
      "text/plain": [
       "[13, 17]"
      ]
     },
     "execution_count": 113,
     "metadata": {},
     "output_type": "execute_result"
    }
   ],
   "source": [
    "prem[1::4]"
   ]
  },
  {
   "cell_type": "code",
   "execution_count": 114,
   "id": "67955026",
   "metadata": {},
   "outputs": [
    {
     "data": {
      "text/plain": [
       "[13, 16]"
      ]
     },
     "execution_count": 114,
     "metadata": {},
     "output_type": "execute_result"
    }
   ],
   "source": [
    "prem[1:5:3]"
   ]
  },
  {
   "cell_type": "code",
   "execution_count": 115,
   "id": "e8c8264a",
   "metadata": {},
   "outputs": [
    {
     "data": {
      "text/plain": [
       "[12, 13, 54, 15, 16, 17, 18, 19, 99]"
      ]
     },
     "execution_count": 115,
     "metadata": {},
     "output_type": "execute_result"
    }
   ],
   "source": [
    "prem"
   ]
  },
  {
   "cell_type": "code",
   "execution_count": 116,
   "id": "8a6a95b4",
   "metadata": {},
   "outputs": [
    {
     "data": {
      "text/plain": [
       "[17, 18]"
      ]
     },
     "execution_count": 116,
     "metadata": {},
     "output_type": "execute_result"
    }
   ],
   "source": [
    "prem[5:-2]"
   ]
  },
  {
   "cell_type": "code",
   "execution_count": 117,
   "id": "6bddd733",
   "metadata": {},
   "outputs": [
    {
     "data": {
      "text/plain": [
       "[99, 19, 18, 17, 16, 15, 54, 13, 12]"
      ]
     },
     "execution_count": 117,
     "metadata": {},
     "output_type": "execute_result"
    }
   ],
   "source": [
    "prem[::-1]"
   ]
  },
  {
   "cell_type": "code",
   "execution_count": 118,
   "id": "0f6e8a5c",
   "metadata": {},
   "outputs": [
    {
     "data": {
      "text/plain": [
       "[]"
      ]
     },
     "execution_count": 118,
     "metadata": {},
     "output_type": "execute_result"
    }
   ],
   "source": [
    "prem[2:6:-1]"
   ]
  },
  {
   "cell_type": "code",
   "execution_count": 119,
   "id": "6a68204a",
   "metadata": {},
   "outputs": [
    {
     "data": {
      "text/plain": [
       "[18, 17, 16, 15]"
      ]
     },
     "execution_count": 119,
     "metadata": {},
     "output_type": "execute_result"
    }
   ],
   "source": [
    "prem[6:2:-1]"
   ]
  },
  {
   "cell_type": "code",
   "execution_count": 121,
   "id": "f59741a8",
   "metadata": {},
   "outputs": [
    {
     "data": {
      "text/plain": [
       "[54, 15]"
      ]
     },
     "execution_count": 121,
     "metadata": {},
     "output_type": "execute_result"
    }
   ],
   "source": [
    "prem[2:4:1]"
   ]
  },
  {
   "cell_type": "code",
   "execution_count": 123,
   "id": "c7497cac",
   "metadata": {},
   "outputs": [
    {
     "data": {
      "text/plain": [
       "[54]"
      ]
     },
     "execution_count": 123,
     "metadata": {},
     "output_type": "execute_result"
    }
   ],
   "source": [
    "prem[2:4:3]"
   ]
  },
  {
   "cell_type": "code",
   "execution_count": 124,
   "id": "e66bdf64",
   "metadata": {},
   "outputs": [
    {
     "data": {
      "text/plain": [
       "[54]"
      ]
     },
     "execution_count": 124,
     "metadata": {},
     "output_type": "execute_result"
    }
   ],
   "source": [
    "prem[2:4:2]"
   ]
  },
  {
   "cell_type": "code",
   "execution_count": 125,
   "id": "c23b3020",
   "metadata": {},
   "outputs": [
    {
     "data": {
      "text/plain": [
       "[54]"
      ]
     },
     "execution_count": 125,
     "metadata": {},
     "output_type": "execute_result"
    }
   ],
   "source": [
    "prem[2:4:5]"
   ]
  },
  {
   "cell_type": "code",
   "execution_count": 126,
   "id": "e8c99fe5",
   "metadata": {},
   "outputs": [
    {
     "data": {
      "text/plain": [
       "[54, 15]"
      ]
     },
     "execution_count": 126,
     "metadata": {},
     "output_type": "execute_result"
    }
   ],
   "source": [
    "prem[2:4]"
   ]
  },
  {
   "cell_type": "code",
   "execution_count": 127,
   "id": "99323754",
   "metadata": {},
   "outputs": [
    {
     "data": {
      "text/plain": [
       "[12, 13, 54, 15, 16, 17, 18, 19, 99]"
      ]
     },
     "execution_count": 127,
     "metadata": {},
     "output_type": "execute_result"
    }
   ],
   "source": [
    "prem"
   ]
  },
  {
   "cell_type": "code",
   "execution_count": 128,
   "id": "e8a89c8d",
   "metadata": {},
   "outputs": [
    {
     "data": {
      "text/plain": [
       "[99, 19, 18, 17, 16, 15, 54, 13]"
      ]
     },
     "execution_count": 128,
     "metadata": {},
     "output_type": "execute_result"
    }
   ],
   "source": [
    "prem[-1:0:-1]"
   ]
  },
  {
   "cell_type": "code",
   "execution_count": 129,
   "id": "7cfd4861",
   "metadata": {},
   "outputs": [],
   "source": [
    "prem =[12,32,54,32,12,43,21,43,99,87]"
   ]
  },
  {
   "cell_type": "code",
   "execution_count": 130,
   "id": "49e79b02",
   "metadata": {},
   "outputs": [
    {
     "data": {
      "text/plain": [
       "[12, 32, 54, 32, 12, 43, 21, 43, 99, 87]"
      ]
     },
     "execution_count": 130,
     "metadata": {},
     "output_type": "execute_result"
    }
   ],
   "source": [
    "prem"
   ]
  },
  {
   "cell_type": "code",
   "execution_count": 134,
   "id": "162f0f1c",
   "metadata": {},
   "outputs": [
    {
     "data": {
      "text/plain": [
       "[99]"
      ]
     },
     "execution_count": 134,
     "metadata": {},
     "output_type": "execute_result"
    }
   ],
   "source": [
    "prem[-2:4:-5]"
   ]
  },
  {
   "cell_type": "code",
   "execution_count": 133,
   "id": "92d48536",
   "metadata": {},
   "outputs": [
    {
     "data": {
      "text/plain": [
       "[99, 43, 54]"
      ]
     },
     "execution_count": 133,
     "metadata": {},
     "output_type": "execute_result"
    }
   ],
   "source": [
    "prem[-2:1:-3]"
   ]
  },
  {
   "cell_type": "code",
   "execution_count": 135,
   "id": "85f9a2fb",
   "metadata": {},
   "outputs": [
    {
     "data": {
      "text/plain": [
       "[99, 43, 54]"
      ]
     },
     "execution_count": 135,
     "metadata": {},
     "output_type": "execute_result"
    }
   ],
   "source": [
    "prem[-2:-9:-3]"
   ]
  },
  {
   "cell_type": "code",
   "execution_count": 136,
   "id": "44f25deb",
   "metadata": {},
   "outputs": [
    {
     "data": {
      "text/plain": [
       "[]"
      ]
     },
     "execution_count": 136,
     "metadata": {},
     "output_type": "execute_result"
    }
   ],
   "source": [
    "prem[-2:1:3]"
   ]
  },
  {
   "cell_type": "code",
   "execution_count": 137,
   "id": "3c42ea39",
   "metadata": {},
   "outputs": [
    {
     "data": {
      "text/plain": [
       "[99, 43, 54]"
      ]
     },
     "execution_count": 137,
     "metadata": {},
     "output_type": "execute_result"
    }
   ],
   "source": [
    "prem[-2:1:-3]"
   ]
  },
  {
   "cell_type": "code",
   "execution_count": 138,
   "id": "126f7bba",
   "metadata": {},
   "outputs": [
    {
     "data": {
      "text/plain": [
       "[99, 43]"
      ]
     },
     "execution_count": 138,
     "metadata": {},
     "output_type": "execute_result"
    }
   ],
   "source": [
    "prem[-2:-8:-3]"
   ]
  },
  {
   "cell_type": "code",
   "execution_count": 140,
   "id": "376175b4",
   "metadata": {},
   "outputs": [],
   "source": [
    "li = [34,34,23,'saturation',True,6.7,[34,565,74,[98695,545,'ghery',['getme'],345,34],3,'str'],'jfdj']"
   ]
  },
  {
   "cell_type": "code",
   "execution_count": 141,
   "id": "ae51bc94",
   "metadata": {},
   "outputs": [],
   "source": [
    "# ['ghery',98695]"
   ]
  },
  {
   "cell_type": "code",
   "execution_count": 144,
   "id": "d8f332c4",
   "metadata": {},
   "outputs": [
    {
     "data": {
      "text/plain": [
       "['ghery', 98695]"
      ]
     },
     "execution_count": 144,
     "metadata": {},
     "output_type": "execute_result"
    }
   ],
   "source": [
    "li[6][3][2::-2]"
   ]
  },
  {
   "cell_type": "code",
   "execution_count": 145,
   "id": "9b099cdc",
   "metadata": {},
   "outputs": [
    {
     "data": {
      "text/plain": [
       "['ghery', 98695]"
      ]
     },
     "execution_count": 145,
     "metadata": {},
     "output_type": "execute_result"
    }
   ],
   "source": [
    "li[6][3][-4::-2]"
   ]
  },
  {
   "cell_type": "code",
   "execution_count": null,
   "id": "5b73fb89",
   "metadata": {},
   "outputs": [],
   "source": []
  }
 ],
 "metadata": {
  "kernelspec": {
   "display_name": "Python 3 (ipykernel)",
   "language": "python",
   "name": "python3"
  },
  "language_info": {
   "codemirror_mode": {
    "name": "ipython",
    "version": 3
   },
   "file_extension": ".py",
   "mimetype": "text/x-python",
   "name": "python",
   "nbconvert_exporter": "python",
   "pygments_lexer": "ipython3",
   "version": "3.11.4"
  }
 },
 "nbformat": 4,
 "nbformat_minor": 5
}
