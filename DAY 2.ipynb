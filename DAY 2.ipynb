{
 "cells": [
  {
   "cell_type": "code",
   "execution_count": 1,
   "id": "99c984ac",
   "metadata": {},
   "outputs": [
    {
     "name": "stdout",
     "output_type": "stream",
     "text": [
      "Hello World\n"
     ]
    }
   ],
   "source": [
    "print(\"Hello World\")"
   ]
  },
  {
   "cell_type": "markdown",
   "id": "6e6dac28",
   "metadata": {},
   "source": [
    "# INTEGERS"
   ]
  },
  {
   "cell_type": "code",
   "execution_count": 2,
   "id": "615fa06a",
   "metadata": {},
   "outputs": [
    {
     "data": {
      "text/plain": [
       "123"
      ]
     },
     "execution_count": 2,
     "metadata": {},
     "output_type": "execute_result"
    }
   ],
   "source": [
    "123"
   ]
  },
  {
   "cell_type": "code",
   "execution_count": 3,
   "id": "7af283cb",
   "metadata": {},
   "outputs": [
    {
     "data": {
      "text/plain": [
       "456"
      ]
     },
     "execution_count": 3,
     "metadata": {},
     "output_type": "execute_result"
    }
   ],
   "source": [
    "456"
   ]
  },
  {
   "cell_type": "code",
   "execution_count": 5,
   "id": "46d5272d",
   "metadata": {},
   "outputs": [
    {
     "data": {
      "text/plain": [
       "6767653"
      ]
     },
     "execution_count": 5,
     "metadata": {},
     "output_type": "execute_result"
    }
   ],
   "source": [
    "6767653"
   ]
  },
  {
   "cell_type": "code",
   "execution_count": 6,
   "id": "a3d89d9e",
   "metadata": {},
   "outputs": [
    {
     "data": {
      "text/plain": [
       "8667"
      ]
     },
     "execution_count": 6,
     "metadata": {},
     "output_type": "execute_result"
    }
   ],
   "source": [
    "8667"
   ]
  },
  {
   "cell_type": "code",
   "execution_count": 7,
   "id": "c06b1b13",
   "metadata": {},
   "outputs": [
    {
     "data": {
      "text/plain": [
       "1"
      ]
     },
     "execution_count": 7,
     "metadata": {},
     "output_type": "execute_result"
    }
   ],
   "source": [
    "1"
   ]
  },
  {
   "cell_type": "markdown",
   "id": "b8360d52",
   "metadata": {},
   "source": [
    "# FLOATS decimal values"
   ]
  },
  {
   "cell_type": "code",
   "execution_count": 8,
   "id": "72138ce3",
   "metadata": {},
   "outputs": [
    {
     "data": {
      "text/plain": [
       "7.8"
      ]
     },
     "execution_count": 8,
     "metadata": {},
     "output_type": "execute_result"
    }
   ],
   "source": [
    "7.8"
   ]
  },
  {
   "cell_type": "code",
   "execution_count": 9,
   "id": "533f2258",
   "metadata": {},
   "outputs": [
    {
     "data": {
      "text/plain": [
       "9.0006734565"
      ]
     },
     "execution_count": 9,
     "metadata": {},
     "output_type": "execute_result"
    }
   ],
   "source": [
    "9.0006734565"
   ]
  },
  {
   "cell_type": "code",
   "execution_count": 10,
   "id": "7c843937",
   "metadata": {},
   "outputs": [
    {
     "data": {
      "text/plain": [
       "54437.87"
      ]
     },
     "execution_count": 10,
     "metadata": {},
     "output_type": "execute_result"
    }
   ],
   "source": [
    "54437.87"
   ]
  },
  {
   "cell_type": "code",
   "execution_count": 12,
   "id": "e5a040bf",
   "metadata": {},
   "outputs": [
    {
     "data": {
      "text/plain": [
       "int"
      ]
     },
     "execution_count": 12,
     "metadata": {},
     "output_type": "execute_result"
    }
   ],
   "source": [
    "type(7)"
   ]
  },
  {
   "cell_type": "code",
   "execution_count": 14,
   "id": "1a4e6f26",
   "metadata": {},
   "outputs": [
    {
     "data": {
      "text/plain": [
       "float"
      ]
     },
     "execution_count": 14,
     "metadata": {},
     "output_type": "execute_result"
    }
   ],
   "source": [
    "type(4.7)"
   ]
  },
  {
   "cell_type": "markdown",
   "id": "b16aac2c",
   "metadata": {},
   "source": [
    "# strings \" \" ,' '"
   ]
  },
  {
   "cell_type": "code",
   "execution_count": 15,
   "id": "f65b0595",
   "metadata": {},
   "outputs": [
    {
     "data": {
      "text/plain": [
       "'porosity'"
      ]
     },
     "execution_count": 15,
     "metadata": {},
     "output_type": "execute_result"
    }
   ],
   "source": [
    "'porosity'"
   ]
  },
  {
   "cell_type": "code",
   "execution_count": 16,
   "id": "dc1a445d",
   "metadata": {},
   "outputs": [
    {
     "data": {
      "text/plain": [
       "'permeability'"
      ]
     },
     "execution_count": 16,
     "metadata": {},
     "output_type": "execute_result"
    }
   ],
   "source": [
    "\"permeability\""
   ]
  },
  {
   "cell_type": "code",
   "execution_count": 18,
   "id": "14c315f9",
   "metadata": {},
   "outputs": [
    {
     "data": {
      "text/plain": [
       "str"
      ]
     },
     "execution_count": 18,
     "metadata": {},
     "output_type": "execute_result"
    }
   ],
   "source": [
    "type('porosity')"
   ]
  },
  {
   "cell_type": "markdown",
   "id": "33b16850",
   "metadata": {},
   "source": [
    "# BOOLEANS true.false"
   ]
  },
  {
   "cell_type": "code",
   "execution_count": 19,
   "id": "bd40a2d9",
   "metadata": {},
   "outputs": [
    {
     "data": {
      "text/plain": [
       "True"
      ]
     },
     "execution_count": 19,
     "metadata": {},
     "output_type": "execute_result"
    }
   ],
   "source": [
    "8>2"
   ]
  },
  {
   "cell_type": "code",
   "execution_count": 20,
   "id": "48d794a2",
   "metadata": {},
   "outputs": [
    {
     "data": {
      "text/plain": [
       "False"
      ]
     },
     "execution_count": 20,
     "metadata": {},
     "output_type": "execute_result"
    }
   ],
   "source": [
    "8<2"
   ]
  },
  {
   "cell_type": "code",
   "execution_count": 22,
   "id": "670061a0",
   "metadata": {},
   "outputs": [
    {
     "data": {
      "text/plain": [
       "True"
      ]
     },
     "execution_count": 22,
     "metadata": {},
     "output_type": "execute_result"
    }
   ],
   "source": [
    "True"
   ]
  },
  {
   "cell_type": "code",
   "execution_count": 23,
   "id": "519241ec",
   "metadata": {},
   "outputs": [
    {
     "data": {
      "text/plain": [
       "False"
      ]
     },
     "execution_count": 23,
     "metadata": {},
     "output_type": "execute_result"
    }
   ],
   "source": [
    "False"
   ]
  },
  {
   "cell_type": "code",
   "execution_count": 25,
   "id": "2c80940b",
   "metadata": {},
   "outputs": [
    {
     "data": {
      "text/plain": [
       "bool"
      ]
     },
     "execution_count": 25,
     "metadata": {},
     "output_type": "execute_result"
    }
   ],
   "source": [
    "type(True)"
   ]
  },
  {
   "cell_type": "markdown",
   "id": "0090c207",
   "metadata": {},
   "source": [
    "# Mathematical Operations "
   ]
  },
  {
   "cell_type": "code",
   "execution_count": 26,
   "id": "c5e7a521",
   "metadata": {},
   "outputs": [
    {
     "data": {
      "text/plain": [
       "9"
      ]
     },
     "execution_count": 26,
     "metadata": {},
     "output_type": "execute_result"
    }
   ],
   "source": [
    "8+1"
   ]
  },
  {
   "cell_type": "code",
   "execution_count": 27,
   "id": "27b0e3d9",
   "metadata": {},
   "outputs": [
    {
     "data": {
      "text/plain": [
       "2"
      ]
     },
     "execution_count": 27,
     "metadata": {},
     "output_type": "execute_result"
    }
   ],
   "source": [
    "8-6"
   ]
  },
  {
   "cell_type": "code",
   "execution_count": 28,
   "id": "fb1ac86c",
   "metadata": {},
   "outputs": [
    {
     "data": {
      "text/plain": [
       "4.0"
      ]
     },
     "execution_count": 28,
     "metadata": {},
     "output_type": "execute_result"
    }
   ],
   "source": [
    "8/2"
   ]
  },
  {
   "cell_type": "code",
   "execution_count": 29,
   "id": "a64278ad",
   "metadata": {},
   "outputs": [
    {
     "data": {
      "text/plain": [
       "998001"
      ]
     },
     "execution_count": 29,
     "metadata": {},
     "output_type": "execute_result"
    }
   ],
   "source": [
    "999*999"
   ]
  },
  {
   "cell_type": "code",
   "execution_count": 30,
   "id": "b3142655",
   "metadata": {},
   "outputs": [
    {
     "data": {
      "text/plain": [
       "2"
      ]
     },
     "execution_count": 30,
     "metadata": {},
     "output_type": "execute_result"
    }
   ],
   "source": [
    "100%7"
   ]
  },
  {
   "cell_type": "code",
   "execution_count": 31,
   "id": "c6491f35",
   "metadata": {},
   "outputs": [
    {
     "data": {
      "text/plain": [
       "int"
      ]
     },
     "execution_count": 31,
     "metadata": {},
     "output_type": "execute_result"
    }
   ],
   "source": [
    "type(7*8)"
   ]
  },
  {
   "cell_type": "code",
   "execution_count": 32,
   "id": "dcae38d5",
   "metadata": {},
   "outputs": [
    {
     "data": {
      "text/plain": [
       "25"
      ]
     },
     "execution_count": 32,
     "metadata": {},
     "output_type": "execute_result"
    }
   ],
   "source": [
    "5**2"
   ]
  },
  {
   "cell_type": "code",
   "execution_count": 33,
   "id": "77ae398c",
   "metadata": {},
   "outputs": [
    {
     "data": {
      "text/plain": [
       "152587890625"
      ]
     },
     "execution_count": 33,
     "metadata": {},
     "output_type": "execute_result"
    }
   ],
   "source": [
    "25**8"
   ]
  },
  {
   "cell_type": "code",
   "execution_count": 40,
   "id": "0b8b7d92",
   "metadata": {},
   "outputs": [
    {
     "name": "stdout",
     "output_type": "stream",
     "text": [
      "10\n",
      "25\n"
     ]
    }
   ],
   "source": [
    "# * for multiplication ,** for exponatial power\n",
    "\n",
    "print(5*2)\n",
    "print(5**2)"
   ]
  },
  {
   "cell_type": "code",
   "execution_count": 41,
   "id": "9186dd78",
   "metadata": {},
   "outputs": [
    {
     "data": {
      "text/plain": [
       "3.5"
      ]
     },
     "execution_count": 41,
     "metadata": {},
     "output_type": "execute_result"
    }
   ],
   "source": [
    "7/2"
   ]
  },
  {
   "cell_type": "code",
   "execution_count": 42,
   "id": "360da524",
   "metadata": {},
   "outputs": [
    {
     "data": {
      "text/plain": [
       "3"
      ]
     },
     "execution_count": 42,
     "metadata": {},
     "output_type": "execute_result"
    }
   ],
   "source": [
    "7//2"
   ]
  },
  {
   "cell_type": "code",
   "execution_count": 43,
   "id": "1e64f883",
   "metadata": {},
   "outputs": [
    {
     "data": {
      "text/plain": [
       "1"
      ]
     },
     "execution_count": 43,
     "metadata": {},
     "output_type": "execute_result"
    }
   ],
   "source": [
    "7%2"
   ]
  },
  {
   "cell_type": "code",
   "execution_count": 44,
   "id": "74330f6a",
   "metadata": {},
   "outputs": [
    {
     "data": {
      "text/plain": [
       "'55+22'"
      ]
     },
     "execution_count": 44,
     "metadata": {},
     "output_type": "execute_result"
    }
   ],
   "source": [
    "\"55+22\""
   ]
  },
  {
   "cell_type": "code",
   "execution_count": 45,
   "id": "23e05ccc",
   "metadata": {},
   "outputs": [
    {
     "data": {
      "text/plain": [
       "'5522'"
      ]
     },
     "execution_count": 45,
     "metadata": {},
     "output_type": "execute_result"
    }
   ],
   "source": [
    "\"55\"+\"22\""
   ]
  },
  {
   "cell_type": "code",
   "execution_count": 46,
   "id": "2805d2e1",
   "metadata": {},
   "outputs": [
    {
     "data": {
      "text/plain": [
       "'helloall'"
      ]
     },
     "execution_count": 46,
     "metadata": {},
     "output_type": "execute_result"
    }
   ],
   "source": [
    "\"hello\"+\"all\""
   ]
  },
  {
   "cell_type": "code",
   "execution_count": 48,
   "id": "7fb643dc",
   "metadata": {},
   "outputs": [
    {
     "data": {
      "text/plain": [
       "'555'"
      ]
     },
     "execution_count": 48,
     "metadata": {},
     "output_type": "execute_result"
    }
   ],
   "source": [
    "\"5\"*3"
   ]
  },
  {
   "cell_type": "code",
   "execution_count": 49,
   "id": "acb7978b",
   "metadata": {},
   "outputs": [
    {
     "data": {
      "text/plain": [
       "'555'"
      ]
     },
     "execution_count": 49,
     "metadata": {},
     "output_type": "execute_result"
    }
   ],
   "source": [
    "\"5\"+\"5\"+\"5\""
   ]
  },
  {
   "cell_type": "code",
   "execution_count": 53,
   "id": "9aff7313",
   "metadata": {},
   "outputs": [
    {
     "data": {
      "text/plain": [
       "'petroleum petroleum petroleum '"
      ]
     },
     "execution_count": 53,
     "metadata": {},
     "output_type": "execute_result"
    }
   ],
   "source": [
    "\"petroleum \"*3"
   ]
  },
  {
   "cell_type": "code",
   "execution_count": 54,
   "id": "07f89e01",
   "metadata": {},
   "outputs": [
    {
     "data": {
      "text/plain": [
       "True"
      ]
     },
     "execution_count": 54,
     "metadata": {},
     "output_type": "execute_result"
    }
   ],
   "source": [
    "##booleans \n",
    "\n",
    "6>3"
   ]
  },
  {
   "cell_type": "code",
   "execution_count": 55,
   "id": "80d0761c",
   "metadata": {},
   "outputs": [
    {
     "data": {
      "text/plain": [
       "False"
      ]
     },
     "execution_count": 55,
     "metadata": {},
     "output_type": "execute_result"
    }
   ],
   "source": [
    "6<3"
   ]
  },
  {
   "cell_type": "code",
   "execution_count": 56,
   "id": "b0e9142b",
   "metadata": {},
   "outputs": [
    {
     "data": {
      "text/plain": [
       "True"
      ]
     },
     "execution_count": 56,
     "metadata": {},
     "output_type": "execute_result"
    }
   ],
   "source": [
    "55==55"
   ]
  },
  {
   "cell_type": "code",
   "execution_count": 58,
   "id": "2a37d78c",
   "metadata": {},
   "outputs": [
    {
     "data": {
      "text/plain": [
       "False"
      ]
     },
     "execution_count": 58,
     "metadata": {},
     "output_type": "execute_result"
    }
   ],
   "source": [
    "55==65"
   ]
  },
  {
   "cell_type": "code",
   "execution_count": 59,
   "id": "207924e9",
   "metadata": {},
   "outputs": [
    {
     "data": {
      "text/plain": [
       "True"
      ]
     },
     "execution_count": 59,
     "metadata": {},
     "output_type": "execute_result"
    }
   ],
   "source": [
    "3>2 and 4>3"
   ]
  },
  {
   "cell_type": "code",
   "execution_count": 60,
   "id": "266ad7e5",
   "metadata": {},
   "outputs": [
    {
     "data": {
      "text/plain": [
       "False"
      ]
     },
     "execution_count": 60,
     "metadata": {},
     "output_type": "execute_result"
    }
   ],
   "source": [
    "3>2 and 4<3"
   ]
  },
  {
   "cell_type": "code",
   "execution_count": 61,
   "id": "82eec7e2",
   "metadata": {},
   "outputs": [
    {
     "data": {
      "text/plain": [
       "False"
      ]
     },
     "execution_count": 61,
     "metadata": {},
     "output_type": "execute_result"
    }
   ],
   "source": [
    "3<2 and 4<3"
   ]
  },
  {
   "cell_type": "code",
   "execution_count": 62,
   "id": "ede805c5",
   "metadata": {},
   "outputs": [
    {
     "data": {
      "text/plain": [
       "True"
      ]
     },
     "execution_count": 62,
     "metadata": {},
     "output_type": "execute_result"
    }
   ],
   "source": [
    "3>2 or 4>3"
   ]
  },
  {
   "cell_type": "code",
   "execution_count": 63,
   "id": "bef1e4e4",
   "metadata": {},
   "outputs": [
    {
     "data": {
      "text/plain": [
       "True"
      ]
     },
     "execution_count": 63,
     "metadata": {},
     "output_type": "execute_result"
    }
   ],
   "source": [
    "3>2 or 4<3"
   ]
  },
  {
   "cell_type": "code",
   "execution_count": 64,
   "id": "31c84e09",
   "metadata": {},
   "outputs": [
    {
     "data": {
      "text/plain": [
       "False"
      ]
     },
     "execution_count": 64,
     "metadata": {},
     "output_type": "execute_result"
    }
   ],
   "source": [
    "3<2 or 4<3"
   ]
  },
  {
   "cell_type": "code",
   "execution_count": 65,
   "id": "7bb7a6b7",
   "metadata": {},
   "outputs": [
    {
     "data": {
      "text/plain": [
       "True"
      ]
     },
     "execution_count": 65,
     "metadata": {},
     "output_type": "execute_result"
    }
   ],
   "source": [
    "3<2 or 4>3"
   ]
  },
  {
   "cell_type": "markdown",
   "id": "e9252d91",
   "metadata": {},
   "source": [
    "# Variables\n",
    "\n",
    ". containers for storing informations \n",
    ". variables are created \"=\"\n",
    ". for a given runtime "
   ]
  },
  {
   "cell_type": "code",
   "execution_count": 1,
   "id": "2d8a54a5",
   "metadata": {},
   "outputs": [],
   "source": [
    "porosity = 20"
   ]
  },
  {
   "cell_type": "code",
   "execution_count": 2,
   "id": "9723eeda",
   "metadata": {},
   "outputs": [
    {
     "data": {
      "text/plain": [
       "20"
      ]
     },
     "execution_count": 2,
     "metadata": {},
     "output_type": "execute_result"
    }
   ],
   "source": [
    "porosity"
   ]
  },
  {
   "cell_type": "code",
   "execution_count": 5,
   "id": "497ce713",
   "metadata": {},
   "outputs": [
    {
     "data": {
      "text/plain": [
       "'hello'"
      ]
     },
     "execution_count": 5,
     "metadata": {},
     "output_type": "execute_result"
    }
   ],
   "source": [
    "\"hello\""
   ]
  },
  {
   "cell_type": "code",
   "execution_count": 6,
   "id": "6c41eb76",
   "metadata": {},
   "outputs": [
    {
     "data": {
      "text/plain": [
       "False"
      ]
     },
     "execution_count": 6,
     "metadata": {},
     "output_type": "execute_result"
    }
   ],
   "source": [
    "porosity==45"
   ]
  },
  {
   "cell_type": "code",
   "execution_count": 8,
   "id": "d085521f",
   "metadata": {},
   "outputs": [],
   "source": [
    "b=\"petroleum\""
   ]
  },
  {
   "cell_type": "code",
   "execution_count": 9,
   "id": "39c2e0ce",
   "metadata": {},
   "outputs": [
    {
     "data": {
      "text/plain": [
       "'petroleum'"
      ]
     },
     "execution_count": 9,
     "metadata": {},
     "output_type": "execute_result"
    }
   ],
   "source": [
    "b"
   ]
  },
  {
   "cell_type": "markdown",
   "id": "481a6dae",
   "metadata": {},
   "source": [
    "# type(b)"
   ]
  },
  {
   "cell_type": "code",
   "execution_count": 13,
   "id": "ad88665c",
   "metadata": {},
   "outputs": [],
   "source": [
    "##reinitialise\n",
    "b=\"porosity\""
   ]
  },
  {
   "cell_type": "code",
   "execution_count": 14,
   "id": "80c1b609",
   "metadata": {},
   "outputs": [
    {
     "data": {
      "text/plain": [
       "'porosity'"
      ]
     },
     "execution_count": 14,
     "metadata": {},
     "output_type": "execute_result"
    }
   ],
   "source": [
    "b"
   ]
  },
  {
   "cell_type": "markdown",
   "id": "429cd5c7",
   "metadata": {},
   "source": [
    "# variable name cannot start with a number or a special characters\n",
    "## eg : 2,3,4,@,#,%,&,....\n",
    ". variable name does not have any space in between two characters,but underscore can be used\n"
   ]
  },
  {
   "cell_type": "raw",
   "id": "afd7723c",
   "metadata": {},
   "source": []
  },
  {
   "cell_type": "code",
   "execution_count": 15,
   "id": "af29b270",
   "metadata": {},
   "outputs": [
    {
     "ename": "SyntaxError",
     "evalue": "invalid syntax (2947239423.py, line 1)",
     "output_type": "error",
     "traceback": [
      "\u001b[1;36m  Cell \u001b[1;32mIn[15], line 1\u001b[1;36m\u001b[0m\n\u001b[1;33m    $s =45\u001b[0m\n\u001b[1;37m    ^\u001b[0m\n\u001b[1;31mSyntaxError\u001b[0m\u001b[1;31m:\u001b[0m invalid syntax\n"
     ]
    }
   ],
   "source": [
    "$s =45"
   ]
  },
  {
   "cell_type": "code",
   "execution_count": 18,
   "id": "3eb72170",
   "metadata": {},
   "outputs": [],
   "source": [
    "a1 = 76"
   ]
  },
  {
   "cell_type": "code",
   "execution_count": 19,
   "id": "c3e4404e",
   "metadata": {},
   "outputs": [
    {
     "data": {
      "text/plain": [
       "76"
      ]
     },
     "execution_count": 19,
     "metadata": {},
     "output_type": "execute_result"
    }
   ],
   "source": [
    "a1"
   ]
  },
  {
   "cell_type": "code",
   "execution_count": 20,
   "id": "2fde13a5",
   "metadata": {},
   "outputs": [],
   "source": [
    "_a =45"
   ]
  },
  {
   "cell_type": "code",
   "execution_count": 21,
   "id": "fc5a1a73",
   "metadata": {},
   "outputs": [
    {
     "ename": "NameError",
     "evalue": "name 'a' is not defined",
     "output_type": "error",
     "traceback": [
      "\u001b[1;31m---------------------------------------------------------------------------\u001b[0m",
      "\u001b[1;31mNameError\u001b[0m                                 Traceback (most recent call last)",
      "Cell \u001b[1;32mIn[21], line 1\u001b[0m\n\u001b[1;32m----> 1\u001b[0m a\n",
      "\u001b[1;31mNameError\u001b[0m: name 'a' is not defined"
     ]
    }
   ],
   "source": [
    "a"
   ]
  },
  {
   "cell_type": "code",
   "execution_count": 22,
   "id": "9fcd2173",
   "metadata": {},
   "outputs": [
    {
     "data": {
      "text/plain": [
       "45"
      ]
     },
     "execution_count": 22,
     "metadata": {},
     "output_type": "execute_result"
    }
   ],
   "source": [
    "_a"
   ]
  },
  {
   "cell_type": "code",
   "execution_count": 24,
   "id": "ab65321a",
   "metadata": {},
   "outputs": [],
   "source": [
    "porosity_45=76"
   ]
  },
  {
   "cell_type": "code",
   "execution_count": 25,
   "id": "24687cf5",
   "metadata": {},
   "outputs": [
    {
     "data": {
      "text/plain": [
       "76"
      ]
     },
     "execution_count": 25,
     "metadata": {},
     "output_type": "execute_result"
    }
   ],
   "source": [
    "porosity_45"
   ]
  },
  {
   "cell_type": "code",
   "execution_count": 29,
   "id": "9a9ad0da",
   "metadata": {},
   "outputs": [],
   "source": [
    "poro_1 = 45\n",
    "poro_2 = 65"
   ]
  },
  {
   "cell_type": "code",
   "execution_count": 30,
   "id": "b028d052",
   "metadata": {},
   "outputs": [
    {
     "data": {
      "text/plain": [
       "110"
      ]
     },
     "execution_count": 30,
     "metadata": {},
     "output_type": "execute_result"
    }
   ],
   "source": [
    "poro_1+poro_2"
   ]
  },
  {
   "cell_type": "code",
   "execution_count": 31,
   "id": "7120a486",
   "metadata": {},
   "outputs": [],
   "source": [
    "poro1 =34"
   ]
  },
  {
   "cell_type": "code",
   "execution_count": 32,
   "id": "8438a7eb",
   "metadata": {},
   "outputs": [
    {
     "data": {
      "text/plain": [
       "34"
      ]
     },
     "execution_count": 32,
     "metadata": {},
     "output_type": "execute_result"
    }
   ],
   "source": [
    "poro1"
   ]
  },
  {
   "cell_type": "code",
   "execution_count": 33,
   "id": "80b7139f",
   "metadata": {},
   "outputs": [],
   "source": [
    "poro1 = 2\n",
    "poro2 = 3 "
   ]
  },
  {
   "cell_type": "code",
   "execution_count": 34,
   "id": "811dc0da",
   "metadata": {},
   "outputs": [
    {
     "data": {
      "text/plain": [
       "5"
      ]
     },
     "execution_count": 34,
     "metadata": {},
     "output_type": "execute_result"
    }
   ],
   "source": [
    "poro1 + poro2"
   ]
  },
  {
   "cell_type": "code",
   "execution_count": 35,
   "id": "b25d23b6",
   "metadata": {},
   "outputs": [
    {
     "data": {
      "text/plain": [
       "-1"
      ]
     },
     "execution_count": 35,
     "metadata": {},
     "output_type": "execute_result"
    }
   ],
   "source": [
    "poro1 - poro2 "
   ]
  },
  {
   "cell_type": "code",
   "execution_count": 36,
   "id": "dc27dbae",
   "metadata": {},
   "outputs": [
    {
     "data": {
      "text/plain": [
       "6"
      ]
     },
     "execution_count": 36,
     "metadata": {},
     "output_type": "execute_result"
    }
   ],
   "source": [
    "poro1 * poro2 "
   ]
  },
  {
   "cell_type": "code",
   "execution_count": 37,
   "id": "3284a4da",
   "metadata": {},
   "outputs": [
    {
     "data": {
      "text/plain": [
       "0.6666666666666666"
      ]
     },
     "execution_count": 37,
     "metadata": {},
     "output_type": "execute_result"
    }
   ],
   "source": [
    "poro1 /poro2"
   ]
  },
  {
   "cell_type": "code",
   "execution_count": 38,
   "id": "9ed22f80",
   "metadata": {},
   "outputs": [
    {
     "data": {
      "text/plain": [
       "False"
      ]
     },
     "execution_count": 38,
     "metadata": {},
     "output_type": "execute_result"
    }
   ],
   "source": [
    "poro1==poro2"
   ]
  },
  {
   "cell_type": "code",
   "execution_count": 39,
   "id": "a03ffe50",
   "metadata": {},
   "outputs": [
    {
     "data": {
      "text/plain": [
       "2"
      ]
     },
     "execution_count": 39,
     "metadata": {},
     "output_type": "execute_result"
    }
   ],
   "source": [
    "poro1%poro2"
   ]
  },
  {
   "cell_type": "code",
   "execution_count": 40,
   "id": "1ad321c5",
   "metadata": {},
   "outputs": [],
   "source": [
    "t=\"then\"\n",
    "s= 4"
   ]
  },
  {
   "cell_type": "code",
   "execution_count": 41,
   "id": "b0d84092",
   "metadata": {},
   "outputs": [
    {
     "data": {
      "text/plain": [
       "'thenthenthenthenthenthen'"
      ]
     },
     "execution_count": 41,
     "metadata": {},
     "output_type": "execute_result"
    }
   ],
   "source": [
    "t*6"
   ]
  },
  {
   "cell_type": "code",
   "execution_count": 43,
   "id": "2feead11",
   "metadata": {},
   "outputs": [
    {
     "data": {
      "text/plain": [
       "'thenthenthenthen'"
      ]
     },
     "execution_count": 43,
     "metadata": {},
     "output_type": "execute_result"
    }
   ],
   "source": [
    "t*4"
   ]
  },
  {
   "cell_type": "code",
   "execution_count": 46,
   "id": "18a3fefe",
   "metadata": {},
   "outputs": [
    {
     "data": {
      "text/plain": [
       "'ttt'"
      ]
     },
     "execution_count": 46,
     "metadata": {},
     "output_type": "execute_result"
    }
   ],
   "source": [
    "\"t\"+\"t\"+\"t\""
   ]
  },
  {
   "cell_type": "code",
   "execution_count": 48,
   "id": "d38b468b",
   "metadata": {},
   "outputs": [],
   "source": [
    "y,z=\"honey\",\"sweety\""
   ]
  },
  {
   "cell_type": "code",
   "execution_count": 51,
   "id": "a9e7dc86",
   "metadata": {},
   "outputs": [
    {
     "data": {
      "text/plain": [
       "'honeyhoneyhoneyhoneysweetysweetysweety'"
      ]
     },
     "execution_count": 51,
     "metadata": {},
     "output_type": "execute_result"
    }
   ],
   "source": [
    "y*4+z*3"
   ]
  },
  {
   "cell_type": "code",
   "execution_count": 52,
   "id": "e515d001",
   "metadata": {},
   "outputs": [
    {
     "data": {
      "text/plain": [
       "'honey'"
      ]
     },
     "execution_count": 52,
     "metadata": {},
     "output_type": "execute_result"
    }
   ],
   "source": [
    "y"
   ]
  },
  {
   "cell_type": "code",
   "execution_count": 55,
   "id": "2b85d431",
   "metadata": {},
   "outputs": [
    {
     "data": {
      "text/plain": [
       "'sweety'"
      ]
     },
     "execution_count": 55,
     "metadata": {},
     "output_type": "execute_result"
    }
   ],
   "source": [
    "z"
   ]
  },
  {
   "cell_type": "code",
   "execution_count": 56,
   "id": "2b995602",
   "metadata": {},
   "outputs": [
    {
     "name": "stdout",
     "output_type": "stream",
     "text": [
      "honey 223\n"
     ]
    },
    {
     "data": {
      "text/plain": [
       "'honey 223'"
      ]
     },
     "execution_count": 56,
     "metadata": {},
     "output_type": "execute_result"
    }
   ],
   "source": [
    "input ()"
   ]
  },
  {
   "cell_type": "markdown",
   "id": "92072ec1",
   "metadata": {},
   "source": [
    "## input =taking input from user \n",
    "takes input in the form of string "
   ]
  },
  {
   "cell_type": "code",
   "execution_count": 54,
   "id": "d18321d3",
   "metadata": {},
   "outputs": [
    {
     "name": "stdout",
     "output_type": "stream",
     "text": [
      "thenmozhi3112\n"
     ]
    },
    {
     "data": {
      "text/plain": [
       "'thenmozhi3112'"
      ]
     },
     "execution_count": 54,
     "metadata": {},
     "output_type": "execute_result"
    }
   ],
   "source": [
    "input()"
   ]
  },
  {
   "cell_type": "code",
   "execution_count": 57,
   "id": "27e70c62",
   "metadata": {},
   "outputs": [],
   "source": [
    "perm = 34"
   ]
  },
  {
   "cell_type": "code",
   "execution_count": 58,
   "id": "b456664f",
   "metadata": {},
   "outputs": [
    {
     "data": {
      "text/plain": [
       "34"
      ]
     },
     "execution_count": 58,
     "metadata": {},
     "output_type": "execute_result"
    }
   ],
   "source": [
    "perm"
   ]
  },
  {
   "cell_type": "code",
   "execution_count": 60,
   "id": "45827b92",
   "metadata": {},
   "outputs": [
    {
     "name": "stdout",
     "output_type": "stream",
     "text": [
      "87\n"
     ]
    }
   ],
   "source": [
    "perm =input()"
   ]
  },
  {
   "cell_type": "code",
   "execution_count": 61,
   "id": "714f273e",
   "metadata": {},
   "outputs": [
    {
     "data": {
      "text/plain": [
       "'87'"
      ]
     },
     "execution_count": 61,
     "metadata": {},
     "output_type": "execute_result"
    }
   ],
   "source": [
    "perm"
   ]
  },
  {
   "cell_type": "code",
   "execution_count": 62,
   "id": "aa19fdc1",
   "metadata": {},
   "outputs": [
    {
     "data": {
      "text/plain": [
       "str"
      ]
     },
     "execution_count": 62,
     "metadata": {},
     "output_type": "execute_result"
    }
   ],
   "source": [
    "type(perm)"
   ]
  },
  {
   "cell_type": "code",
   "execution_count": 67,
   "id": "e8a3e717",
   "metadata": {},
   "outputs": [
    {
     "name": "stdout",
     "output_type": "stream",
     "text": [
      "enter the permeability78\n"
     ]
    }
   ],
   "source": [
    "perm=input(\"enter the permeability\")"
   ]
  },
  {
   "cell_type": "code",
   "execution_count": 68,
   "id": "b47ab4c4",
   "metadata": {},
   "outputs": [
    {
     "data": {
      "text/plain": [
       "'78'"
      ]
     },
     "execution_count": 68,
     "metadata": {},
     "output_type": "execute_result"
    }
   ],
   "source": [
    "perm"
   ]
  },
  {
   "cell_type": "code",
   "execution_count": 69,
   "id": "3474a503",
   "metadata": {},
   "outputs": [
    {
     "ename": "TypeError",
     "evalue": "unsupported operand type(s) for /: 'str' and 'int'",
     "output_type": "error",
     "traceback": [
      "\u001b[1;31m---------------------------------------------------------------------------\u001b[0m",
      "\u001b[1;31mTypeError\u001b[0m                                 Traceback (most recent call last)",
      "Cell \u001b[1;32mIn[69], line 1\u001b[0m\n\u001b[1;32m----> 1\u001b[0m perm\u001b[38;5;241m/\u001b[39m\u001b[38;5;241m2\u001b[39m\n",
      "\u001b[1;31mTypeError\u001b[0m: unsupported operand type(s) for /: 'str' and 'int'"
     ]
    }
   ],
   "source": [
    "perm/2"
   ]
  },
  {
   "cell_type": "code",
   "execution_count": 70,
   "id": "6d4a1179",
   "metadata": {},
   "outputs": [
    {
     "ename": "SyntaxError",
     "evalue": "invalid syntax (2138421230.py, line 1)",
     "output_type": "error",
     "traceback": [
      "\u001b[1;36m  Cell \u001b[1;32mIn[70], line 1\u001b[1;36m\u001b[0m\n\u001b[1;33m    int perm/2\u001b[0m\n\u001b[1;37m        ^\u001b[0m\n\u001b[1;31mSyntaxError\u001b[0m\u001b[1;31m:\u001b[0m invalid syntax\n"
     ]
    }
   ],
   "source": [
    "int perm/2"
   ]
  },
  {
   "cell_type": "code",
   "execution_count": 71,
   "id": "af3f8811",
   "metadata": {},
   "outputs": [
    {
     "ename": "SyntaxError",
     "evalue": "invalid syntax (3027550982.py, line 1)",
     "output_type": "error",
     "traceback": [
      "\u001b[1;36m  Cell \u001b[1;32mIn[71], line 1\u001b[1;36m\u001b[0m\n\u001b[1;33m    float perm/2\u001b[0m\n\u001b[1;37m          ^\u001b[0m\n\u001b[1;31mSyntaxError\u001b[0m\u001b[1;31m:\u001b[0m invalid syntax\n"
     ]
    }
   ],
   "source": [
    "float perm/2"
   ]
  },
  {
   "cell_type": "markdown",
   "id": "0262c8ad",
   "metadata": {},
   "source": [
    "# type conversions "
   ]
  },
  {
   "cell_type": "code",
   "execution_count": 72,
   "id": "43439ee3",
   "metadata": {},
   "outputs": [
    {
     "data": {
      "text/plain": [
       "'78'"
      ]
     },
     "execution_count": 72,
     "metadata": {},
     "output_type": "execute_result"
    }
   ],
   "source": [
    "perm"
   ]
  },
  {
   "cell_type": "code",
   "execution_count": 73,
   "id": "7622fe0a",
   "metadata": {},
   "outputs": [
    {
     "data": {
      "text/plain": [
       "str"
      ]
     },
     "execution_count": 73,
     "metadata": {},
     "output_type": "execute_result"
    }
   ],
   "source": [
    "type(perm)"
   ]
  },
  {
   "cell_type": "code",
   "execution_count": 74,
   "id": "73b16a52",
   "metadata": {},
   "outputs": [
    {
     "data": {
      "text/plain": [
       "float"
      ]
     },
     "execution_count": 74,
     "metadata": {},
     "output_type": "execute_result"
    }
   ],
   "source": [
    "float"
   ]
  },
  {
   "cell_type": "code",
   "execution_count": 75,
   "id": "6678dbd2",
   "metadata": {},
   "outputs": [
    {
     "data": {
      "text/plain": [
       "78.0"
      ]
     },
     "execution_count": 75,
     "metadata": {},
     "output_type": "execute_result"
    }
   ],
   "source": [
    "float(perm)"
   ]
  },
  {
   "cell_type": "code",
   "execution_count": 76,
   "id": "00bbc838",
   "metadata": {},
   "outputs": [
    {
     "ename": "TypeError",
     "evalue": "unsupported operand type(s) for /: 'str' and 'int'",
     "output_type": "error",
     "traceback": [
      "\u001b[1;31m---------------------------------------------------------------------------\u001b[0m",
      "\u001b[1;31mTypeError\u001b[0m                                 Traceback (most recent call last)",
      "Cell \u001b[1;32mIn[76], line 1\u001b[0m\n\u001b[1;32m----> 1\u001b[0m perm\u001b[38;5;241m/\u001b[39m\u001b[38;5;241m2\u001b[39m\n",
      "\u001b[1;31mTypeError\u001b[0m: unsupported operand type(s) for /: 'str' and 'int'"
     ]
    }
   ],
   "source": [
    "perm/2"
   ]
  },
  {
   "cell_type": "code",
   "execution_count": 77,
   "id": "2f9e5583",
   "metadata": {},
   "outputs": [],
   "source": [
    "perm=float(perm)"
   ]
  },
  {
   "cell_type": "code",
   "execution_count": 78,
   "id": "3b2f5e4e",
   "metadata": {},
   "outputs": [
    {
     "data": {
      "text/plain": [
       "float"
      ]
     },
     "execution_count": 78,
     "metadata": {},
     "output_type": "execute_result"
    }
   ],
   "source": [
    "type(perm)"
   ]
  },
  {
   "cell_type": "code",
   "execution_count": 79,
   "id": "a859640a",
   "metadata": {},
   "outputs": [
    {
     "data": {
      "text/plain": [
       "78.0"
      ]
     },
     "execution_count": 79,
     "metadata": {},
     "output_type": "execute_result"
    }
   ],
   "source": [
    "perm"
   ]
  },
  {
   "cell_type": "code",
   "execution_count": 80,
   "id": "b61a9836",
   "metadata": {},
   "outputs": [
    {
     "data": {
      "text/plain": [
       "39.0"
      ]
     },
     "execution_count": 80,
     "metadata": {},
     "output_type": "execute_result"
    }
   ],
   "source": [
    "perm/2"
   ]
  },
  {
   "cell_type": "code",
   "execution_count": 81,
   "id": "ced39f75",
   "metadata": {},
   "outputs": [
    {
     "data": {
      "text/plain": [
       "0.0"
      ]
     },
     "execution_count": 81,
     "metadata": {},
     "output_type": "execute_result"
    }
   ],
   "source": [
    "perm%2"
   ]
  },
  {
   "cell_type": "code",
   "execution_count": 82,
   "id": "55ecf827",
   "metadata": {},
   "outputs": [
    {
     "data": {
      "text/plain": [
       "234.0"
      ]
     },
     "execution_count": 82,
     "metadata": {},
     "output_type": "execute_result"
    }
   ],
   "source": [
    "perm*3"
   ]
  },
  {
   "cell_type": "code",
   "execution_count": 83,
   "id": "33041976",
   "metadata": {},
   "outputs": [
    {
     "data": {
      "text/plain": [
       "134.0"
      ]
     },
     "execution_count": 83,
     "metadata": {},
     "output_type": "execute_result"
    }
   ],
   "source": [
    "perm+56"
   ]
  },
  {
   "cell_type": "code",
   "execution_count": 84,
   "id": "b2bdc1e6",
   "metadata": {},
   "outputs": [
    {
     "data": {
      "text/plain": [
       "70.0"
      ]
     },
     "execution_count": 84,
     "metadata": {},
     "output_type": "execute_result"
    }
   ],
   "source": [
    "perm-8"
   ]
  },
  {
   "cell_type": "code",
   "execution_count": 85,
   "id": "2dd9b043",
   "metadata": {},
   "outputs": [
    {
     "data": {
      "text/plain": [
       "False"
      ]
     },
     "execution_count": 85,
     "metadata": {},
     "output_type": "execute_result"
    }
   ],
   "source": [
    "perm==67"
   ]
  },
  {
   "cell_type": "code",
   "execution_count": 86,
   "id": "4abfca42",
   "metadata": {},
   "outputs": [],
   "source": [
    "h=46"
   ]
  },
  {
   "cell_type": "code",
   "execution_count": 87,
   "id": "271c1fb2",
   "metadata": {},
   "outputs": [
    {
     "data": {
      "text/plain": [
       "int"
      ]
     },
     "execution_count": 87,
     "metadata": {},
     "output_type": "execute_result"
    }
   ],
   "source": [
    "type(h)"
   ]
  },
  {
   "cell_type": "code",
   "execution_count": 88,
   "id": "ac8840ad",
   "metadata": {},
   "outputs": [],
   "source": [
    "j=\"jfcssjhvck\""
   ]
  },
  {
   "cell_type": "code",
   "execution_count": 89,
   "id": "60ebc6f2",
   "metadata": {},
   "outputs": [
    {
     "data": {
      "text/plain": [
       "str"
      ]
     },
     "execution_count": 89,
     "metadata": {},
     "output_type": "execute_result"
    }
   ],
   "source": [
    "type(j)"
   ]
  },
  {
   "cell_type": "code",
   "execution_count": 90,
   "id": "ee6b18a3",
   "metadata": {},
   "outputs": [],
   "source": [
    "l=789.54433"
   ]
  },
  {
   "cell_type": "code",
   "execution_count": 91,
   "id": "c2c8d048",
   "metadata": {},
   "outputs": [
    {
     "data": {
      "text/plain": [
       "float"
      ]
     },
     "execution_count": 91,
     "metadata": {},
     "output_type": "execute_result"
    }
   ],
   "source": [
    "type(l)"
   ]
  },
  {
   "cell_type": "code",
   "execution_count": 92,
   "id": "2ee5c4d6",
   "metadata": {},
   "outputs": [],
   "source": [
    "poro_2=45"
   ]
  },
  {
   "cell_type": "code",
   "execution_count": 93,
   "id": "61d1b1e2",
   "metadata": {},
   "outputs": [
    {
     "data": {
      "text/plain": [
       "int"
      ]
     },
     "execution_count": 93,
     "metadata": {},
     "output_type": "execute_result"
    }
   ],
   "source": [
    "type(poro_2)"
   ]
  },
  {
   "cell_type": "code",
   "execution_count": 94,
   "id": "32d85212",
   "metadata": {},
   "outputs": [
    {
     "data": {
      "text/plain": [
       "'45'"
      ]
     },
     "execution_count": 94,
     "metadata": {},
     "output_type": "execute_result"
    }
   ],
   "source": [
    "str(poro_2)"
   ]
  },
  {
   "cell_type": "code",
   "execution_count": 95,
   "id": "4bf88d1f",
   "metadata": {},
   "outputs": [],
   "source": [
    "poro_2=str(poro_2)"
   ]
  },
  {
   "cell_type": "code",
   "execution_count": 96,
   "id": "f54d8b55",
   "metadata": {},
   "outputs": [
    {
     "data": {
      "text/plain": [
       "'45'"
      ]
     },
     "execution_count": 96,
     "metadata": {},
     "output_type": "execute_result"
    }
   ],
   "source": [
    "poro_2"
   ]
  },
  {
   "cell_type": "code",
   "execution_count": 97,
   "id": "0faa1661",
   "metadata": {},
   "outputs": [
    {
     "data": {
      "text/plain": [
       "45.0"
      ]
     },
     "execution_count": 97,
     "metadata": {},
     "output_type": "execute_result"
    }
   ],
   "source": [
    "float(poro_2)"
   ]
  },
  {
   "cell_type": "code",
   "execution_count": 99,
   "id": "4bff1bb5",
   "metadata": {},
   "outputs": [
    {
     "data": {
      "text/plain": [
       "45"
      ]
     },
     "execution_count": 99,
     "metadata": {},
     "output_type": "execute_result"
    }
   ],
   "source": [
    "int(poro_2)"
   ]
  },
  {
   "cell_type": "code",
   "execution_count": 100,
   "id": "70fee5fe",
   "metadata": {},
   "outputs": [],
   "source": [
    "f=4.5"
   ]
  },
  {
   "cell_type": "code",
   "execution_count": 101,
   "id": "788177e9",
   "metadata": {},
   "outputs": [
    {
     "data": {
      "text/plain": [
       "4.5"
      ]
     },
     "execution_count": 101,
     "metadata": {},
     "output_type": "execute_result"
    }
   ],
   "source": [
    "float(f)"
   ]
  },
  {
   "cell_type": "code",
   "execution_count": 102,
   "id": "78b837a8",
   "metadata": {},
   "outputs": [
    {
     "data": {
      "text/plain": [
       "4"
      ]
     },
     "execution_count": 102,
     "metadata": {},
     "output_type": "execute_result"
    }
   ],
   "source": [
    "int(f)"
   ]
  },
  {
   "cell_type": "code",
   "execution_count": 103,
   "id": "1cd95fe6",
   "metadata": {},
   "outputs": [],
   "source": [
    "d=7"
   ]
  },
  {
   "cell_type": "code",
   "execution_count": 104,
   "id": "1d2f2635",
   "metadata": {},
   "outputs": [
    {
     "data": {
      "text/plain": [
       "7.0"
      ]
     },
     "execution_count": 104,
     "metadata": {},
     "output_type": "execute_result"
    }
   ],
   "source": [
    "float(d)"
   ]
  },
  {
   "cell_type": "code",
   "execution_count": 105,
   "id": "ee8d5c5d",
   "metadata": {},
   "outputs": [
    {
     "data": {
      "text/plain": [
       "7"
      ]
     },
     "execution_count": 105,
     "metadata": {},
     "output_type": "execute_result"
    }
   ],
   "source": [
    "int(d)"
   ]
  },
  {
   "cell_type": "code",
   "execution_count": 106,
   "id": "ccc8e8df",
   "metadata": {},
   "outputs": [
    {
     "name": "stdout",
     "output_type": "stream",
     "text": [
      "enter your register number 9039\n"
     ]
    }
   ],
   "source": [
    "struture=float(input(\"enter your register number \"))"
   ]
  },
  {
   "cell_type": "code",
   "execution_count": 108,
   "id": "9c111e7c",
   "metadata": {},
   "outputs": [
    {
     "data": {
      "text/plain": [
       "9039.0"
      ]
     },
     "execution_count": 108,
     "metadata": {},
     "output_type": "execute_result"
    }
   ],
   "source": [
    "struture"
   ]
  },
  {
   "cell_type": "code",
   "execution_count": 109,
   "id": "119faeca",
   "metadata": {},
   "outputs": [
    {
     "data": {
      "text/plain": [
       "float"
      ]
     },
     "execution_count": 109,
     "metadata": {},
     "output_type": "execute_result"
    }
   ],
   "source": [
    "type(struture)"
   ]
  },
  {
   "cell_type": "markdown",
   "id": "cc1724a6",
   "metadata": {},
   "source": [
    "# string formating "
   ]
  },
  {
   "cell_type": "code",
   "execution_count": 113,
   "id": "6abc1a58",
   "metadata": {
    "scrolled": true
   },
   "outputs": [
    {
     "name": "stdout",
     "output_type": "stream",
     "text": [
      "enter the reservoir fluid type 65\n",
      "enter the formation fluid type 4\n"
     ]
    }
   ],
   "source": [
    "reservoirfluid =float(input(\"enter the reservoir fluid type \"))\n",
    "formationfluid =float(input(\"enter the formation fluid type \"))"
   ]
  },
  {
   "cell_type": "code",
   "execution_count": 115,
   "id": "4b7f29ae",
   "metadata": {},
   "outputs": [],
   "source": [
    "reservoifluid =6"
   ]
  },
  {
   "cell_type": "code",
   "execution_count": 124,
   "id": "81d48904",
   "metadata": {},
   "outputs": [
    {
     "data": {
      "text/plain": [
       "65.0"
      ]
     },
     "execution_count": 124,
     "metadata": {},
     "output_type": "execute_result"
    }
   ],
   "source": [
    "reservoirfluid "
   ]
  },
  {
   "cell_type": "code",
   "execution_count": 122,
   "id": "64f2e76c",
   "metadata": {},
   "outputs": [],
   "source": [
    "formationfluid =8"
   ]
  },
  {
   "cell_type": "code",
   "execution_count": 123,
   "id": "cef1aa63",
   "metadata": {},
   "outputs": [
    {
     "data": {
      "text/plain": [
       "8"
      ]
     },
     "execution_count": 123,
     "metadata": {},
     "output_type": "execute_result"
    }
   ],
   "source": [
    "formationfluid"
   ]
  },
  {
   "cell_type": "code",
   "execution_count": 127,
   "id": "0a3b48df",
   "metadata": {},
   "outputs": [
    {
     "name": "stdout",
     "output_type": "stream",
     "text": [
      "the reservoir fluid type is ,the formation fluid type is \n"
     ]
    }
   ],
   "source": [
    "print(\"the reservoir fluid type is ,the formation fluid type is \")"
   ]
  },
  {
   "cell_type": "code",
   "execution_count": 126,
   "id": "32d16843",
   "metadata": {},
   "outputs": [
    {
     "name": "stdout",
     "output_type": "stream",
     "text": [
      "the reservoir fluid type is 65,the formation fluid type is 4\n"
     ]
    }
   ],
   "source": [
    "print(\"the reservoir fluid type is 65,the formation fluid type is 4\")"
   ]
  },
  {
   "cell_type": "code",
   "execution_count": 134,
   "id": "70d4e2b1",
   "metadata": {},
   "outputs": [
    {
     "name": "stdout",
     "output_type": "stream",
     "text": [
      "enter the reservoir fluid 78\n",
      "enter the formation fluid 9.7\n",
      "the reservoir fluid is 65,the formation fluid is 0.4\n"
     ]
    }
   ],
   "source": [
    "reservoirfluid =float(input(\"enter the reservoir fluid \"))\n",
    "formationfluid =float(input(\"enter the formation fluid \"))\n",
    "print(\"the reservoir fluid is 65,the formation fluid is 0.4\")"
   ]
  },
  {
   "cell_type": "code",
   "execution_count": 135,
   "id": "4b1bb566",
   "metadata": {},
   "outputs": [
    {
     "name": "stdout",
     "output_type": "stream",
     "text": [
      "enter the reservoir fluid 65\n",
      "enter the formation fluid 0.4\n",
      "the reservoir fluid is 65,the formation fluid is 0.4\n"
     ]
    }
   ],
   "source": [
    "reservoirfluid =float(input(\"enter the reservoir fluid \"))\n",
    "formationfluid =float(input(\"enter the formation fluid \"))\n",
    "print(\"the reservoir fluid is 65,the formation fluid is 0.4\")"
   ]
  },
  {
   "cell_type": "code",
   "execution_count": 137,
   "id": "eebd8d66",
   "metadata": {},
   "outputs": [
    {
     "name": "stdout",
     "output_type": "stream",
     "text": [
      "the reservoir fluid is 65.0 ,the formation fluid is 0.4\n"
     ]
    }
   ],
   "source": [
    "print(f\"the reservoir fluid is {reservoirfluid} ,the formation fluid is {formationfluid}\")"
   ]
  },
  {
   "cell_type": "code",
   "execution_count": 138,
   "id": "d478fdba",
   "metadata": {},
   "outputs": [
    {
     "name": "stdout",
     "output_type": "stream",
     "text": [
      "enter the reservoir fluid 4\n",
      "enter the formation fluid 5\n",
      "the reservoir fluid is 4.0 ,the formation fluid is 5.0\n"
     ]
    }
   ],
   "source": [
    "reservoirfluid =float(input(\"enter the reservoir fluid \"))\n",
    "formationfluid =float(input(\"enter the formation fluid \"))\n",
    "print(f\"the reservoir fluid is {reservoirfluid} ,the formation fluid is {formationfluid}\")"
   ]
  },
  {
   "cell_type": "code",
   "execution_count": 139,
   "id": "8a068f2c",
   "metadata": {},
   "outputs": [
    {
     "name": "stdout",
     "output_type": "stream",
     "text": [
      "enter the reservoir fluid 8\n",
      "enter the formation fluid 9\n",
      "the reservoir fluid is 65,the formation fluid is 0.4\n"
     ]
    }
   ],
   "source": [
    "reservoirfluid =float(input(\"enter the reservoir fluid \"))\n",
    "formationfluid =float(input(\"enter the formation fluid \"))\n",
    "print(\"the reservoir fluid is 65,the formation fluid is 0.4\")"
   ]
  },
  {
   "cell_type": "code",
   "execution_count": 140,
   "id": "f0b27ca8",
   "metadata": {},
   "outputs": [
    {
     "name": "stdout",
     "output_type": "stream",
     "text": [
      "enter the reservoir fluid 9\n",
      "enter the formation fluid 8\n",
      "the reservoir fluid is 9.0 ,the formation fluid is 8.0\n"
     ]
    }
   ],
   "source": [
    "reservoirfluid =float(input(\"enter the reservoir fluid \"))\n",
    "formationfluid =float(input(\"enter the formation fluid \"))\n",
    "print(f\"the reservoir fluid is {reservoirfluid} ,the formation fluid is {formationfluid}\")"
   ]
  },
  {
   "cell_type": "code",
   "execution_count": 143,
   "id": "bf5c8bb7",
   "metadata": {},
   "outputs": [
    {
     "name": "stdout",
     "output_type": "stream",
     "text": [
      "enter the reservoir fluid 3.3\n",
      "enter the formation fluid 4.4\n",
      "the reservoir fluid is {reservoirfluid} ,the formation fluid is {formationfluid}\n"
     ]
    }
   ],
   "source": [
    "reservoirfluid =float(input(\"enter the reservoir fluid \"))\n",
    "formationfluid =float(input(\"enter the formation fluid \"))\n",
    "print(\"the reservoir fluid is {reservoirfluid} ,the formation fluid is {formationfluid}\") "
   ]
  },
  {
   "cell_type": "code",
   "execution_count": 145,
   "id": "bbb309fd",
   "metadata": {},
   "outputs": [
    {
     "ename": "TypeError",
     "evalue": "format() argument 2 must be str, not float",
     "output_type": "error",
     "traceback": [
      "\u001b[1;31m---------------------------------------------------------------------------\u001b[0m",
      "\u001b[1;31mTypeError\u001b[0m                                 Traceback (most recent call last)",
      "Cell \u001b[1;32mIn[145], line 1\u001b[0m\n\u001b[1;32m----> 1\u001b[0m \u001b[38;5;28mprint\u001b[39m(\u001b[38;5;124m\"\u001b[39m\u001b[38;5;124mreservoir fluid is \u001b[39m\u001b[38;5;132;01m{}\u001b[39;00m\u001b[38;5;124m,formation fluid is \u001b[39m\u001b[38;5;132;01m{}\u001b[39;00m\u001b[38;5;124m\"\u001b[39m,\u001b[38;5;28mformat\u001b[39m(reservoirfluid,formationfluid))\n",
      "\u001b[1;31mTypeError\u001b[0m: format() argument 2 must be str, not float"
     ]
    }
   ],
   "source": [
    "print(\"reservoir fluid is {},formation fluid is {}\",format(reservoirfluid,formationfluid))"
   ]
  },
  {
   "cell_type": "code",
   "execution_count": 146,
   "id": "a02e5766",
   "metadata": {},
   "outputs": [
    {
     "name": "stdout",
     "output_type": "stream",
     "text": [
      "enter the reservoir fluid 65\n",
      "enter the formation fluid 0.4\n",
      "the reservoir fluid is 65,the formation fluid is 0.4\n"
     ]
    }
   ],
   "source": [
    "reservoirfluid =float(input(\"enter the reservoir fluid \"))\n",
    "formationfluid =float(input(\"enter the formation fluid \"))\n",
    "print(\"the reservoir fluid is 65,the formation fluid is 0.4\")"
   ]
  },
  {
   "cell_type": "code",
   "execution_count": 148,
   "id": "a54c7f94",
   "metadata": {},
   "outputs": [
    {
     "name": "stdout",
     "output_type": "stream",
     "text": [
      "the reservoir fluid is 65.0 ,the formation fluid is 0.4 \n"
     ]
    }
   ],
   "source": [
    "print(\"the reservoir fluid is {} ,the formation fluid is {} \".format(reservoirfluid,formationfluid))"
   ]
  },
  {
   "cell_type": "code",
   "execution_count": 149,
   "id": "48670129",
   "metadata": {},
   "outputs": [
    {
     "name": "stdout",
     "output_type": "stream",
     "text": [
      "the reservoir fluid is  65.0 the formation fluid is  0.4\n"
     ]
    }
   ],
   "source": [
    "print(\"the reservoir fluid is \",reservoirfluid,\"the formation fluid is \",formationfluid)"
   ]
  },
  {
   "cell_type": "code",
   "execution_count": 151,
   "id": "4a9c3257",
   "metadata": {},
   "outputs": [
    {
     "name": "stdout",
     "output_type": "stream",
     "text": [
      "enter the reservoir fluid 65\n",
      "enter the formation fluid 0.4\n",
      "the reservoir fluid is 260.0 ,the formation fluid is 40.0\n"
     ]
    }
   ],
   "source": [
    "reservoirfluid =float(input(\"enter the reservoir fluid \"))\n",
    "formationfluid =float(input(\"enter the formation fluid \"))\n",
    "print(f\"the reservoir fluid is {reservoirfluid*4} ,the formation fluid is {formationfluid*100}\") "
   ]
  },
  {
   "cell_type": "code",
   "execution_count": 154,
   "id": "30d3650e",
   "metadata": {},
   "outputs": [
    {
     "name": "stdout",
     "output_type": "stream",
     "text": [
      "enter the reservoir fluid 65\n",
      "enter the formation fluid 0.4\n",
      "the reservoir fluid is 260.0 ,the formation fluid is 40.0,and the product of both is 26.0\n"
     ]
    }
   ],
   "source": [
    "reservoirfluid =float(input(\"enter the reservoir fluid \"))\n",
    "formationfluid =float(input(\"enter the formation fluid \"))\n",
    "print(f\"the reservoir fluid is {reservoirfluid*4} ,the formation fluid is {formationfluid*100},and the product of both is {reservoirfluid*formationfluid}\") "
   ]
  },
  {
   "cell_type": "code",
   "execution_count": null,
   "id": "54e1e895",
   "metadata": {},
   "outputs": [],
   "source": []
  }
 ],
 "metadata": {
  "kernelspec": {
   "display_name": "Python 3 (ipykernel)",
   "language": "python",
   "name": "python3"
  },
  "language_info": {
   "codemirror_mode": {
    "name": "ipython",
    "version": 3
   },
   "file_extension": ".py",
   "mimetype": "text/x-python",
   "name": "python",
   "nbconvert_exporter": "python",
   "pygments_lexer": "ipython3",
   "version": "3.11.4"
  }
 },
 "nbformat": 4,
 "nbformat_minor": 5
}
