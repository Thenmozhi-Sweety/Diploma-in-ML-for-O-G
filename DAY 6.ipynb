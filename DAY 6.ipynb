{
 "cells": [
  {
   "cell_type": "markdown",
   "id": "9b0f6237",
   "metadata": {},
   "source": [
    "# If else:"
   ]
  },
  {
   "cell_type": "code",
   "execution_count": 1,
   "id": "9c43a616",
   "metadata": {},
   "outputs": [
    {
     "name": "stdout",
     "output_type": "stream",
     "text": [
      "Permeability\n"
     ]
    }
   ],
   "source": [
    "if False:\n",
    "    print(\"Porosity\")\n",
    "    \n",
    "else:\n",
    "    print(\"Permeability\")"
   ]
  },
  {
   "cell_type": "code",
   "execution_count": 2,
   "id": "c1062ee1",
   "metadata": {},
   "outputs": [
    {
     "name": "stdout",
     "output_type": "stream",
     "text": [
      "Enter the Reservoir pressure(psi): 1500\n",
      "Enter the Hydrostatic pressure(psi): 1800\n",
      "Enter the Fracture pressure(psi): 2000\n",
      "==========================\n",
      "Reservoir Pressure is lesser than Hydrostatic pressure, so No kick\n",
      "Hydrostatic Pressure due to mud is lesser than Fracture Pressure of formation, so no fracture\n",
      "Safe Zone\n"
     ]
    }
   ],
   "source": [
    "Reservoir_Pressure = float(input(\"Enter the Reservoir pressure(psi): \"))\n",
    "Hydrostatic_Pressure = float(input(\"Enter the Hydrostatic pressure(psi): \"))\n",
    "Fracture_Pressure = float(input(\"Enter the Fracture pressure(psi): \"))\n",
    "\n",
    "print(\"==========================\")\n",
    "if Hydrostatic_Pressure < Fracture_Pressure and Hydrostatic_Pressure > Reservoir_Pressure:\n",
    "    print(\"Reservoir Pressure is lesser than Hydrostatic pressure, so No kick\")\n",
    "    print(\"Hydrostatic Pressure due to mud is lesser than Fracture Pressure of formation, so no fracture\")\n",
    "    print(\"Safe Zone\")\n",
    "\n",
    "elif Hydrostatic_Pressure> Reservoir_Pressure and Hydrostatic_Pressure > Fracture_Pressure:\n",
    "    \n",
    "    print(\"Hydrostatic Pressure greater than Fracture Pressure, may result in Fracture\")\n",
    "    print(\"ALERT!!! Risk of formation Fracture\")\n",
    "\n",
    "else:\n",
    "    print(\"ALERT!!! Risk of Kick\")"
   ]
  },
  {
   "cell_type": "markdown",
   "id": "299de91f",
   "metadata": {},
   "source": [
    "# Assignment: Take Pr= Reservoir Pressure and Pb = Bubble Point Pressure as input from user and based on that print the condition of reservoiur\n",
    "- Pr and Pb: Saturated, Undersaturated, gas has been evolved\n",
    "- Pr > Pb = Undersaturated\n",
    "- Pr = Pb = saturated\n",
    "- Pr < Pb = gas has been evolved"
   ]
  },
  {
   "cell_type": "code",
   "execution_count": 3,
   "id": "afd11373",
   "metadata": {},
   "outputs": [
    {
     "name": "stdout",
     "output_type": "stream",
     "text": [
      "enter the pr : 35\n",
      "enter the pb : 56\n",
      "===================================\n",
      "The Condition of the reservoir is Gas has been evolved\n"
     ]
    }
   ],
   "source": [
    "pr = float(input(\"enter the pr : \"))\n",
    "pb = float(input(\"enter the pb : \"))\n",
    "\n",
    "print(\"===================================\")\n",
    "\n",
    "if pr > pb:\n",
    "    print(\"The Condition of the reservoir is Undersaturated\")\n",
    "    \n",
    "elif pr == pb: \n",
    "    print(\"The Condition of the reservoir is Saturated\")\n",
    "    \n",
    "elif  pr < pb:\n",
    "    print(\"The Condition of the reservoir is Gas has been evolved\")\n",
    "    \n",
    "else:\n",
    "    print(\"None\")"
   ]
  },
  {
   "cell_type": "markdown",
   "id": "a184df67",
   "metadata": {},
   "source": [
    "# While loop: to repeat a block of code again and again; until the condition satifies"
   ]
  },
  {
   "cell_type": "code",
   "execution_count": 1,
   "id": "5e9dac6d",
   "metadata": {},
   "outputs": [
    {
     "name": "stdout",
     "output_type": "stream",
     "text": [
      "2000 is not abnormal\n",
      "2100 is not abnormal\n",
      "2200 is not abnormal\n",
      "2300 is not abnormal\n",
      "2400 is not abnormal\n",
      "2500 is abnormal now \n"
     ]
    }
   ],
   "source": [
    "pressure = 2000\n",
    "\n",
    "# doing a process because of which our RP is increasing \n",
    "\n",
    "while pressure < 2500:\n",
    "    print(f\"{pressure} is not abnormal\")\n",
    "    ##process\n",
    "    pressure = pressure + 100\n",
    "    \n",
    "print(f\"{pressure} is abnormal now \")"
   ]
  },
  {
   "cell_type": "code",
   "execution_count": 2,
   "id": "c0dfd62a",
   "metadata": {},
   "outputs": [],
   "source": [
    "## while loop can be used stop a iteration after a specific input"
   ]
  },
  {
   "cell_type": "code",
   "execution_count": 3,
   "id": "f6cfae80",
   "metadata": {},
   "outputs": [
    {
     "name": "stdout",
     "output_type": "stream",
     "text": [
      "Enter the Password: 34567\n",
      "WRONG Password, try again!!!\n",
      "Enter the Password: Petroleum\n",
      "Access Granted\n"
     ]
    }
   ],
   "source": [
    "Password = input(\"Enter the Password: \")\n",
    "\n",
    "while Password!= \"Petroleum\":\n",
    "    print(\"WRONG Password, try again!!!\")\n",
    "    Password = input(\"Enter the Password: \")\n",
    "\n",
    "print(\"Access Granted\")"
   ]
  },
  {
   "cell_type": "code",
   "execution_count": 4,
   "id": "f1c31154",
   "metadata": {},
   "outputs": [
    {
     "data": {
      "text/plain": [
       "True"
      ]
     },
     "execution_count": 4,
     "metadata": {},
     "output_type": "execute_result"
    }
   ],
   "source": [
    "5==5"
   ]
  },
  {
   "cell_type": "code",
   "execution_count": 5,
   "id": "87aef62d",
   "metadata": {},
   "outputs": [
    {
     "data": {
      "text/plain": [
       "False"
      ]
     },
     "execution_count": 5,
     "metadata": {},
     "output_type": "execute_result"
    }
   ],
   "source": [
    "5!=5\n"
   ]
  },
  {
   "cell_type": "markdown",
   "id": "2fac0e20",
   "metadata": {},
   "source": [
    "# breaking statement : for breakimg a loop prematurely"
   ]
  },
  {
   "cell_type": "code",
   "execution_count": 6,
   "id": "0abd8df2",
   "metadata": {},
   "outputs": [
    {
     "name": "stdout",
     "output_type": "stream",
     "text": [
      "1\n",
      "2\n",
      "3\n"
     ]
    }
   ],
   "source": [
    "x = 0\n",
    "\n",
    "while x<7:\n",
    "    x+=1\n",
    "    if x==4:\n",
    "        break\n",
    "        \n",
    "    print(x)"
   ]
  },
  {
   "cell_type": "code",
   "execution_count": 7,
   "id": "bcaa96f7",
   "metadata": {},
   "outputs": [
    {
     "name": "stdout",
     "output_type": "stream",
     "text": [
      "2000 is not abnormal\n",
      "2100 is not abnormal\n",
      "2200 is not abnormal\n",
      "2300 is not abnormal\n",
      "2400 is not abnormal\n",
      "2500 is not abnormal\n",
      "2600 is not abnormal\n",
      "2700 is not abnormal\n",
      "2800 is not abnormal\n",
      "2900 is not abnormal\n",
      "3000 is not abnormal\n",
      "3100 is not abnormal\n",
      "3200 is not abnormal\n",
      "3300 is not abnormal\n",
      "3400 is not abnormal\n",
      "3500 is not abnormal\n",
      "3600 is not abnormal\n",
      "3700 is not abnormal\n",
      "3800 is not abnormal\n",
      "3900 is not abnormal\n",
      "4000 is not abnormal\n",
      "4100 is not abnormal\n",
      "4200 is not abnormal\n",
      "4300 is not abnormal\n",
      "4400 is not abnormal\n",
      "4500 is not abnormal\n",
      "4600 is not abnormal\n",
      "4700 is not abnormal\n",
      "4800 is not abnormal\n",
      "4900 is not abnormal\n",
      "Pressure reached its maximum value, so breaking the loop\n",
      "Finished\n"
     ]
    }
   ],
   "source": [
    "pressure = 2000\n",
    "\n",
    "#doing a process because of which our RP is increasing\n",
    "\n",
    "while True:\n",
    "    print(f\"{pressure} is not abnormal\")\n",
    "    ##process\n",
    "    pressure = pressure+100\n",
    "    \n",
    "    if pressure ==5000:\n",
    "        print(\"Pressure reached its maximum value, so breaking the loop\")\n",
    "        break\n",
    "    \n",
    "print(f\"Finished\")"
   ]
  },
  {
   "cell_type": "code",
   "execution_count": 8,
   "id": "23aeb7c0",
   "metadata": {},
   "outputs": [],
   "source": [
    "x = [34,3,23,453,23,23,45,23,5464,23,5466,645,435]"
   ]
  },
  {
   "cell_type": "code",
   "execution_count": 9,
   "id": "06b20426",
   "metadata": {},
   "outputs": [
    {
     "name": "stdout",
     "output_type": "stream",
     "text": [
      "34\n",
      "Not broken yet\n",
      "3\n",
      "Not broken yet\n",
      "23\n",
      "Break the statement\n"
     ]
    }
   ],
   "source": [
    "for i in x:\n",
    "    print(i)\n",
    "    if i == 23:\n",
    "        print(\"Break the statement\")\n",
    "        break\n",
    "    print(\"Not broken yet\")"
   ]
  },
  {
   "cell_type": "code",
   "execution_count": 10,
   "id": "1b7d4992",
   "metadata": {},
   "outputs": [],
   "source": [
    "x = [34,3,23,453,23,23,45,23,5464,23,5466,645,435]\n"
   ]
  },
  {
   "cell_type": "code",
   "execution_count": 12,
   "id": "49cee668",
   "metadata": {},
   "outputs": [
    {
     "data": {
      "text/plain": [
       "13"
      ]
     },
     "execution_count": 12,
     "metadata": {},
     "output_type": "execute_result"
    }
   ],
   "source": [
    "len(x)"
   ]
  },
  {
   "cell_type": "code",
   "execution_count": 13,
   "id": "ed2e4dcd",
   "metadata": {},
   "outputs": [
    {
     "data": {
      "text/plain": [
       "[0, 1, 2, 3, 4, 5, 6, 7, 8, 9, 10, 11, 12]"
      ]
     },
     "execution_count": 13,
     "metadata": {},
     "output_type": "execute_result"
    }
   ],
   "source": [
    "list(range(len(x)))"
   ]
  },
  {
   "cell_type": "code",
   "execution_count": 14,
   "id": "c2fbb5ee",
   "metadata": {},
   "outputs": [
    {
     "name": "stdout",
     "output_type": "stream",
     "text": [
      "0\n",
      "1\n",
      "2\n",
      "3\n",
      "4\n",
      "5\n",
      "6\n",
      "7\n",
      "8\n",
      "9\n",
      "10\n",
      "11\n",
      "12\n"
     ]
    }
   ],
   "source": [
    "for i in range(len(x)):\n",
    "    print(i)"
   ]
  },
  {
   "cell_type": "code",
   "execution_count": 15,
   "id": "6c907d35",
   "metadata": {},
   "outputs": [
    {
     "name": "stdout",
     "output_type": "stream",
     "text": [
      "0\n",
      "1\n",
      "2\n",
      "3\n",
      "4\n",
      "5\n",
      "6\n",
      "7\n",
      "8\n",
      "9\n",
      "10\n",
      "11\n",
      "12\n"
     ]
    }
   ],
   "source": [
    "for i in range(len(x)):\n",
    "    print(i)"
   ]
  },
  {
   "cell_type": "code",
   "execution_count": 16,
   "id": "1217b70b",
   "metadata": {},
   "outputs": [
    {
     "data": {
      "text/plain": [
       "23"
      ]
     },
     "execution_count": 16,
     "metadata": {},
     "output_type": "execute_result"
    }
   ],
   "source": [
    "x[2]"
   ]
  },
  {
   "cell_type": "code",
   "execution_count": 17,
   "id": "6d544044",
   "metadata": {},
   "outputs": [
    {
     "name": "stdout",
     "output_type": "stream",
     "text": [
      "0\n",
      "The element at 0 index in list is 34\n",
      "Not broken yet\n",
      "1\n",
      "The element at 1 index in list is 3\n",
      "Not broken yet\n",
      "2\n",
      "The element at 2 index in list is 23\n",
      "Not broken yet\n",
      "3\n",
      "The element at 3 index in list is 453\n",
      "Not broken yet\n",
      "4\n",
      "The element at 4 index in list is 23\n",
      "Not broken yet\n",
      "5\n",
      "The element at 5 index in list is 23\n",
      "Not broken yet\n",
      "6\n",
      "The element at 6 index in list is 45\n",
      "Not broken yet\n",
      "7\n",
      "The element at 7 index in list is 23\n",
      "Break the statement\n"
     ]
    }
   ],
   "source": [
    "for i in range(len(x)):\n",
    "    print(i)\n",
    "    print(f\"The element at {i} index in list is {x[i]}\")\n",
    "    if i == 7:\n",
    "        print(\"Break the statement\")\n",
    "        break\n",
    "    print(\"Not broken yet\")"
   ]
  },
  {
   "cell_type": "code",
   "execution_count": 18,
   "id": "9fa5bd7b",
   "metadata": {},
   "outputs": [
    {
     "name": "stdout",
     "output_type": "stream",
     "text": [
      "34\n",
      "Not broken yet\n",
      "3\n",
      "Not broken yet\n",
      "23\n",
      "Break the statement\n"
     ]
    }
   ],
   "source": [
    "for i in x:\n",
    "    print(i)\n",
    "    if i == 23:\n",
    "        print(\"Break the statement\")\n",
    "        break\n",
    "    print(\"Not broken yet\")"
   ]
  },
  {
   "cell_type": "markdown",
   "id": "ee5d0bdb",
   "metadata": {},
   "source": [
    "# Continue: to jump back to top of the loop, rather than breaking/stopping it¶\n",
    "- stop the current iteration, continue with the next one."
   ]
  },
  {
   "cell_type": "code",
   "execution_count": 19,
   "id": "da0e4b18",
   "metadata": {},
   "outputs": [
    {
     "name": "stdout",
     "output_type": "stream",
     "text": [
      "Skipping even numbers\n",
      "1\n",
      "Skipping even numbers\n",
      "3\n",
      "Skipping even numbers\n",
      "5\n",
      "Skipping even numbers\n",
      "7\n",
      "Skipping even numbers\n",
      "9\n"
     ]
    }
   ],
   "source": [
    "for i in range(10):\n",
    "    if i%2 ==0:\n",
    "        print(\"Skipping even numbers\")\n",
    "        continue\n",
    "    print(i)"
   ]
  },
  {
   "cell_type": "code",
   "execution_count": 20,
   "id": "96b4ab3c",
   "metadata": {},
   "outputs": [
    {
     "name": "stdout",
     "output_type": "stream",
     "text": [
      "Skipping even numbers\n",
      "1\n",
      "Skipping even numbers\n",
      "3\n",
      "Skipping even numbers\n",
      "5\n",
      "Skipping even numbers\n",
      "7\n",
      "Skipping even numbers\n",
      "9\n"
     ]
    }
   ],
   "source": [
    "for i in range(10):\n",
    "    if i%2 ==0:\n",
    "        print(\"Skipping even numbers\")\n",
    "        continue\n",
    "    print(i)"
   ]
  },
  {
   "cell_type": "code",
   "execution_count": 21,
   "id": "1598d0e8",
   "metadata": {},
   "outputs": [
    {
     "name": "stdout",
     "output_type": "stream",
     "text": [
      "Pressure is 3600 psi\n",
      "Pressure is 3700 psi\n",
      "Pressure is 3800 psi\n",
      "Pressure is 3900 psi\n",
      "Skipping 4000 psi\n",
      "Pressure is 4100 psi\n",
      "Pressure is 4200 psi\n",
      "Pressure is 4300 psi\n",
      "Pressure is 4400 psi\n",
      "Pressure is 4500 psi\n"
     ]
    }
   ],
   "source": [
    "pressure = 3500\n",
    "\n",
    "while pressure < 4500:\n",
    "    pressure+=100\n",
    "    \n",
    "    if pressure == 4000:\n",
    "        print(\"Skipping 4000 psi\")\n",
    "        continue\n",
    "    print(f\"Pressure is {pressure} psi\")"
   ]
  },
  {
   "cell_type": "markdown",
   "id": "f27d58b6",
   "metadata": {},
   "source": [
    "# Square root of a number using Newton Raphson¶"
   ]
  },
  {
   "cell_type": "code",
   "execution_count": 22,
   "id": "60162980",
   "metadata": {},
   "outputs": [
    {
     "data": {
      "text/plain": [
       "5"
      ]
     },
     "execution_count": 22,
     "metadata": {},
     "output_type": "execute_result"
    }
   ],
   "source": [
    "abs(-5)"
   ]
  },
  {
   "cell_type": "code",
   "execution_count": 23,
   "id": "baf3dd2f",
   "metadata": {},
   "outputs": [
    {
     "data": {
      "text/plain": [
       "2.0"
      ]
     },
     "execution_count": 23,
     "metadata": {},
     "output_type": "execute_result"
    }
   ],
   "source": [
    "4**0.5"
   ]
  },
  {
   "cell_type": "code",
   "execution_count": 24,
   "id": "0323eff3",
   "metadata": {},
   "outputs": [
    {
     "name": "stdout",
     "output_type": "stream",
     "text": [
      "Enter the number to be square rooted: 767\n",
      "Enter the initial Guess (x_0): 675\n",
      "675.0\n",
      "338.06814814814817\n",
      "170.16846074167563\n",
      "87.33787948024694\n",
      "48.059932540523846\n",
      "32.009586293170514\n",
      "27.985579042647355\n",
      "27.696275856753168\n",
      "27.694764889470033\n",
      "RESULT: The square root of 767.0 is 27.694764848252458\n",
      " The actual root of 767.0 is 27.694764848252458\n"
     ]
    }
   ],
   "source": [
    "n = float(input(\"Enter the number to be square rooted: \"))\n",
    "\n",
    "x = float(input(\"Enter the initial Guess (x_0): \"))\n",
    "\n",
    "while (abs(x**2 - n) > 0.0000001):\n",
    "    print(x)\n",
    "    x = x - ((x**2-n)/(2*x))\n",
    "    \n",
    "print(f\"RESULT: The square root of {n} is {x}\")\n",
    "print(f\" The actual root of {n} is {n**0.5}\")"
   ]
  },
  {
   "cell_type": "code",
   "execution_count": 25,
   "id": "1bed9548",
   "metadata": {},
   "outputs": [
    {
     "data": {
      "text/plain": [
       "5.0"
      ]
     },
     "execution_count": 25,
     "metadata": {},
     "output_type": "execute_result"
    }
   ],
   "source": [
    "25**0.5"
   ]
  },
  {
   "cell_type": "code",
   "execution_count": 26,
   "id": "94d902df",
   "metadata": {},
   "outputs": [
    {
     "data": {
      "text/plain": [
       "25"
      ]
     },
     "execution_count": 26,
     "metadata": {},
     "output_type": "execute_result"
    }
   ],
   "source": [
    "5**2"
   ]
  },
  {
   "cell_type": "code",
   "execution_count": 27,
   "id": "8ec2b092",
   "metadata": {},
   "outputs": [
    {
     "data": {
      "text/plain": [
       "5.0"
      ]
     },
     "execution_count": 27,
     "metadata": {},
     "output_type": "execute_result"
    }
   ],
   "source": [
    "25**0.5"
   ]
  },
  {
   "cell_type": "code",
   "execution_count": null,
   "id": "559c0105",
   "metadata": {},
   "outputs": [],
   "source": []
  }
 ],
 "metadata": {
  "kernelspec": {
   "display_name": "Python 3 (ipykernel)",
   "language": "python",
   "name": "python3"
  },
  "language_info": {
   "codemirror_mode": {
    "name": "ipython",
    "version": 3
   },
   "file_extension": ".py",
   "mimetype": "text/x-python",
   "name": "python",
   "nbconvert_exporter": "python",
   "pygments_lexer": "ipython3",
   "version": "3.11.4"
  }
 },
 "nbformat": 4,
 "nbformat_minor": 5
}
